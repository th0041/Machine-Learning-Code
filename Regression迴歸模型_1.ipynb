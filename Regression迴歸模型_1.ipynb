{
 "cells": [
  {
   "cell_type": "markdown",
   "metadata": {},
   "source": [
    "# 機器學習 - 迴歸模型 (Regression Model) (1)\n",
    "- 2022 機器學習 Summer Session 教材 (師培中心)<br>\n",
    "@ 台南應用科技大學 資管系 杜主民 "
   ]
  },
  {
   "cell_type": "markdown",
   "metadata": {},
   "source": [
    "## 回歸模型 (Regression Model)"
   ]
  },
  {
   "cell_type": "markdown",
   "metadata": {},
   "source": [
    "## 一、簡單線性回歸 (Simple Linear Regression)\n",
    "- 只有一個自變數和一個依變數的情形稱為簡單線性回歸。\n",
    "- 這是最常見的模型，以斜率與截距的表達，可以很直接地看到特徵與目標之間的關係。\n",
    "### $f(x) = w_0 + w_1x$\n",
    "$w_0: 截距$ <br>\n",
    "$w_1: 斜率$"
   ]
  },
  {
   "cell_type": "markdown",
   "metadata": {},
   "source": [
    "### 做一個簡單線性回歸範例"
   ]
  },
  {
   "cell_type": "code",
   "execution_count": 3,
   "metadata": {},
   "outputs": [],
   "source": [
    "import numpy as np\n",
    "import pandas as pd\n",
    "import matplotlib.pyplot as plt"
   ]
  },
  {
   "cell_type": "code",
   "execution_count": 93,
   "metadata": {},
   "outputs": [
    {
     "name": "stdout",
     "output_type": "stream",
     "text": [
      "[[ -9.30645513 -12.59015097  -7.30263778  -6.36983179  -6.19100399\n",
      "   -2.43857879  -2.81300162  -0.76931989  -1.38449561  -2.67279695\n",
      "    0.13646963  -0.06863398   1.58541413   3.28560676   4.25656833\n",
      "    4.35236734   7.90346791   6.84170829   4.80212246   7.2399705 ]]\n"
     ]
    }
   ],
   "source": [
    "np.random.seed(1)\n",
    "x = np.random.randn(1, 20)*5 \n",
    "x.sort()\n",
    "y = x - np.random.normal(0, 2, 20)"
   ]
  },
  {
   "cell_type": "code",
   "execution_count": 9,
   "metadata": {},
   "outputs": [
    {
     "data": {
      "image/png": "[encoded data removed]",
      "text/plain": [
       "<Figure size 504x360 with 1 Axes>"
      ]
     },
     "metadata": {
      "needs_background": "light"
     },
     "output_type": "display_data"
    }
   ],
   "source": [
    "from sklearn.linear_model import LinearRegression\n",
    "plt.rcParams['figure.figsize']=[7,5]\n",
    "np.random.seed(1)\n",
    "x = np.random.randn(1, 20)*5 \n",
    "x.sort()\n",
    "y = x - np.random.normal(0, 2, 20)\n",
    "\n",
    "x = x.reshape(20,1) # \n",
    "y = y.ravel()\n",
    "\n",
    "model = LinearRegression() # 建立 regression model \n",
    "model.fit(x, y) # 訓練 model \n",
    "y_pred = model.predict(x) # 預測\n",
    "\n",
    "plt.scatter(x, y, c='b')\n",
    "plt.plot(x, y_pred, c='r')\n",
    "plt.grid(True)"
   ]
  },
  {
   "cell_type": "code",
   "execution_count": 6,
   "metadata": {},
   "outputs": [
    {
     "data": {
      "text/plain": [
       "0.07667241939138036"
      ]
     },
     "execution_count": 6,
     "metadata": {},
     "output_type": "execute_result"
    }
   ],
   "source": [
    "model.intercept_"
   ]
  },
  {
   "cell_type": "code",
   "execution_count": 7,
   "metadata": {},
   "outputs": [
    {
     "name": "stdout",
     "output_type": "stream",
     "text": [
      "截距:0.08\n",
      "斜率[0.98]\n"
     ]
    }
   ],
   "source": [
    "# 印出 model 的截距與斜率\n",
    "print(f'截距:{np.round(model.intercept_, 2)}')\n",
    "print(f'斜率{np.round(model.coef_, 2)}')"
   ]
  },
  {
   "cell_type": "markdown",
   "metadata": {},
   "source": [
    "<hr style='border-color:brown; border-width:3px'>"
   ]
  },
  {
   "cell_type": "markdown",
   "metadata": {},
   "source": [
    "## 上述是使用 sklearn 套件及模組函數進行簡單線性迴歸，然迴歸的截距和斜率推導方法如下:"
   ]
  },
  {
   "cell_type": "markdown",
   "metadata": {},
   "source": [
    "1. 假設有 n 個輸入$x_i$以及輸出$y_i$。\n",
    "2. 定義一條最佳迴歸線 $y_i = w_0 + w_1x_i$，其中 $w_0$ 表示截距，$w_1$表示斜率。\n",
    "3. **目標函數**/**損失函數**是每個觀察到的輸出$y_i$ 減去預測理想的輸出 $\\hat y$ 的平方 \n",
    "### $Loss(w_0, w_1) = (y_i - \\hat y_i)^2$ <br>\n",
    "4. 因為有許多的輸入和輸出，上述損失函數可以改寫為:\n",
    "### $Loss(w_0, w_1) = \\sum_{i}^{n}(y_i - \\hat y_i)^2 = \\sum_{i}^{n}(y_i - (w_0 + w_1x_i))^2$"
   ]
  },
  {
   "cell_type": "markdown",
   "metadata": {},
   "source": [
    "5. 為了推估$w_0$，針對$Loss(w_0, w_1)$ 進行偏微分等於 0 \n",
    "#### $$\\frac{\\partial Loss(w_0, w_1)}{\\partial w_0}=\\frac{\\partial \\sum_{i}^{n}(y_i - (w_0 + w_1x_i))^2}{\\partial w_0}=0$$\n",
    "#### $$\\Rightarrow -2(\\sum_{i}^{n}(y_i - w_0 + w_1x_i)=0$$\n",
    "#### $$\\Rightarrow \\sum_i^n y_i - \\sum_i^n w_0 - \\sum_i^n w_1x_i = 0$$\n",
    "#### $$\\Rightarrow \\sum_i^n y_i - n\\cdot w_0 - \\sum_i^n w_1x_i = 0$$\n",
    "#### $$\\Rightarrow n\\cdot w_0 = \\sum_i^n y_i - \\sum_i^n w_1x_i$$\n",
    "#### $$\\Rightarrow w_0 = \\frac{\\sum_i^n y_i - \\sum_i^n w_1x_i}{n}$$\n",
    "### $$其中， \\frac{\\sum_{i}^{n}y_i}{n} = \\bar y; \\frac{\\sum_{i}^{n}w_1x_i}{n} = w_1\\bar x$$\n",
    "### $$\\Rightarrow \\boxed{w_0 = \\bar y - w_1\\bar x}$$"
   ]
  },
  {
   "cell_type": "markdown",
   "metadata": {},
   "source": [
    "6. 為了推估$w_1$，針對$LossLoss(w_0, w_1)$ 進行偏微分等於 0 \n",
    "#### $$\\frac{\\partial Loss(w_0, w_1)}{\\partial w_1}=\\frac{\\partial \\sum_{i}^{n}(y_i - (w_0 + w_1x_i))^2}{\\partial w_1}=0$$\n",
    "#### $$\\Rightarrow 2\\sum_{i}^{n}y_i - (w_0 + w_1x_i)\\cdot (-\\frac{\\partial(\\sum_{i}^{n}(w_0 + w_1x_i)}{\\partial w_1}) = 0$$\n",
    "#### $$\\Rightarrow -2\\sum_{i}^{n}x_i(y_i - (w_0 + w_1x_i)) = 0$$\n",
    "#### $$\\Rightarrow -2\\sum_{i}^{n}x_i(y_i - w_0 - w_1x_i) = 0$$\n",
    "#### $$\\Rightarrow \\sum_{i}^{n}x_iy_i - w_0x_i - w_1x_i^2 = 0$$\n",
    "#### $$\\because \\hspace{0.5cm} \\Rightarrow \\boxed{w_0 = \\bar y - w_1\\bar x}$$\n",
    "#### $$\\therefore \\hspace{0.5cm} \\sum_{i}^{n}x_iy_i - x_i(\\bar y - w_1\\bar x) - w_1x_i^2 = 0$$\n",
    "#### $$\\Rightarrow \\sum_{i}^{n}x_iy_i - x_i\\bar y + w_1x_i\\bar x - w_1x_i^2 = 0$$\n",
    "#### $$\\Rightarrow \\sum_{i}^{n}x_iy_i - x_i\\bar y = \\sum_{i}^{n}w_1x_i^2 - w_1x_i\\bar x$$"
   ]
  },
  {
   "cell_type": "markdown",
   "metadata": {},
   "source": [
    "#### $$\\Rightarrow \\sum_{i}^{n}x_iy_i - x_i\\bar y = w_1\\sum_{i}^{n}x_i^2 - x_i\\bar x$$\n",
    "### $\\Rightarrow \\boxed{w_1 = \\frac{\\sum_{i}^{n}x_iy_i - x_i\\bar y}{\\sum_{i}^{n}x_i^2 - x_i\\bar x}}$ 或者 $\\boxed{w_1 = \\frac{\\sum_{i}^{n}(y_i-\\bar y)(x_i-\\bar x)}{\\sum_{i}^{n}(x_i-\\bar x)^2}}$"
   ]
  },
  {
   "cell_type": "markdown",
   "metadata": {},
   "source": [
    "<hr style='border-color:brown; border-width:3px'>"
   ]
  },
  {
   "cell_type": "markdown",
   "metadata": {},
   "source": [
    "### 範例一: 迴歸直線方程式"
   ]
  },
  {
   "cell_type": "code",
   "execution_count": 1,
   "metadata": {},
   "outputs": [],
   "source": [
    "# 1) import 套件 模組 函數 & 設定繪圖大小\n",
    "import numpy as np\n",
    "import pandas as pd\n",
    "import matplotlib.pyplot as plt\n",
    "plt.rcParams['figure.figsize'] = (7, 5)  # 設定畫圖區的大小"
   ]
  },
  {
   "cell_type": "code",
   "execution_count": 2,
   "metadata": {},
   "outputs": [
    {
     "data": {
      "image/png": "[encoded data removed]",
      "text/plain": [
       "<Figure size 504x360 with 1 Axes>"
      ]
     },
     "metadata": {
      "needs_background": "light"
     },
     "output_type": "display_data"
    }
   ],
   "source": [
    "# 2) 設定資料\n",
    "X = np.array([0.5, 2.3, 2.9])\n",
    "Y = np.array([1.4, 1.9, 3.2])\n",
    "plt.scatter(X,Y, c='r', s=75)\n",
    "plt.grid(True)"
   ]
  },
  {
   "cell_type": "markdown",
   "metadata": {},
   "source": [
    "### 直線方程式求解斜率和截距\n",
    "### $f(x) = w_0 + w_1x$\n",
    "### 斜率: $w_1 = \\frac{\\sum_{i}^{n}x_iy_i - x_i\\bar y}{\\sum_{i}^{n}x_i^2 - x_i\\bar x}$\n",
    "\n",
    "### 截距: $w_0 = \\bar y - w_1\\bar x$"
   ]
  },
  {
   "cell_type": "markdown",
   "metadata": {},
   "source": [
    "### $$w_1 = \\frac{\\sum_{i}^{n}x_iy_i - x_i\\bar y}{\\sum_{i}^{n}x_i^2 - x_i\\bar x} = \\frac{14.35 - 12.35}{13.95-10.83} \\approx 0.64$$\n",
    "### $$w_0 = \\bar y - w_1\\bar x = 2.167 - 0.64\\cdot 1.9 \\approx 0.95$$"
   ]
  },
  {
   "cell_type": "code",
   "execution_count": 35,
   "metadata": {},
   "outputs": [
    {
     "name": "stdout",
     "output_type": "stream",
     "text": [
      "斜率 w1= 0.64, 截距 w0= 0.95\n"
     ]
    }
   ],
   "source": [
    "# 3)代入回歸直線方程式的斜率公式\n",
    "X_mean = np.mean(X) # X 平均值\n",
    "Y_mean = np.mean(Y) # Y 平均值\n",
    "num = 0 # 分子 \n",
    "den = 0 # 分母 \n",
    "\n",
    "num = sum(X*Y - (X * Y_mean))    # 分子 \n",
    "den = sum((X**2) - (X * X_mean)) # 分母\n",
    "\n",
    "w1 = num / den          # 計算斜率 b\n",
    "w0 = Y_mean - w1*X_mean # 計算截距 a\n",
    "print(f'斜率 w1= {round(w1,2)}, 截距 w0= {round(w0,2)}')"
   ]
  },
  {
   "cell_type": "code",
   "execution_count": 36,
   "metadata": {},
   "outputs": [
    {
     "data": {
      "image/png": "[encoded data removed]",
      "text/plain": [
       "<Figure size 432x288 with 1 Axes>"
      ]
     },
     "metadata": {
      "needs_background": "light"
     },
     "output_type": "display_data"
    }
   ],
   "source": [
    "plt.rcParams['figure.figsize'] = (6, 4)\n",
    "plt.scatter(X,Y, s=75, c='b')\n",
    "plt.plot(X, w0 + X*w1, 'r')   # r 是指定紅色線條\n",
    "plt.grid(True)"
   ]
  },
  {
   "cell_type": "markdown",
   "metadata": {},
   "source": [
    "### 範例二: 迴歸直線方程式\n",
    "- 讀取 data.csv 資料，資料是 (100 x 2), 100 筆 2 個欄位。"
   ]
  },
  {
   "cell_type": "code",
   "execution_count": 37,
   "metadata": {},
   "outputs": [],
   "source": [
    "import numpy as np\n",
    "import pandas as pd\n",
    "import matplotlib.pyplot as plt\n",
    "plt.rcParams['figure.figsize'] = (7.0, 5.0)"
   ]
  },
  {
   "cell_type": "code",
   "execution_count": 38,
   "metadata": {},
   "outputs": [
    {
     "data": {
      "text/html": [
       "<div>\n",
       "<style scoped>\n",
       "    .dataframe tbody tr th:only-of-type {\n",
       "        vertical-align: middle;\n",
       "    }\n",
       "\n",
       "    .dataframe tbody tr th {\n",
       "        vertical-align: top;\n",
       "    }\n",
       "\n",
       "    .dataframe thead th {\n",
       "        text-align: right;\n",
       "    }\n",
       "</style>\n",
       "<table border=\"1\" class=\"dataframe\">\n",
       "  <thead>\n",
       "    <tr style=\"text-align: right;\">\n",
       "      <th></th>\n",
       "      <th>X</th>\n",
       "      <th>Y</th>\n",
       "    </tr>\n",
       "  </thead>\n",
       "  <tbody>\n",
       "    <tr>\n",
       "      <th>0</th>\n",
       "      <td>32.502345</td>\n",
       "      <td>31.707006</td>\n",
       "    </tr>\n",
       "    <tr>\n",
       "      <th>1</th>\n",
       "      <td>53.426804</td>\n",
       "      <td>68.777596</td>\n",
       "    </tr>\n",
       "    <tr>\n",
       "      <th>2</th>\n",
       "      <td>61.530358</td>\n",
       "      <td>62.562382</td>\n",
       "    </tr>\n",
       "  </tbody>\n",
       "</table>\n",
       "</div>"
      ],
      "text/plain": [
       "           X          Y\n",
       "0  32.502345  31.707006\n",
       "1  53.426804  68.777596\n",
       "2  61.530358  62.562382"
      ]
     },
     "execution_count": 38,
     "metadata": {},
     "output_type": "execute_result"
    }
   ],
   "source": [
    "# 讀取資料\n",
    "#data = pd.read_csv('./data/data.csv', header=None)\n",
    "data = pd.read_csv('https://bit.ly/3uwhN74', header=None)\n",
    "data.columns= ['X', 'Y']  # 設定欄位名稱\n",
    "data.head(3) # 顯示前 3 筆資料"
   ]
  },
  {
   "cell_type": "code",
   "execution_count": 39,
   "metadata": {},
   "outputs": [
    {
     "data": {
      "image/png": "[encoded data removed]",
      "text/plain": [
       "<Figure size 504x360 with 1 Axes>"
      ]
     },
     "metadata": {
      "needs_background": "light"
     },
     "output_type": "display_data"
    }
   ],
   "source": [
    "X = data.iloc[:, 0]\n",
    "Y = data.iloc[:, 1]\n",
    "\n",
    "plt.scatter(X, Y)\n",
    "plt.grid(True)"
   ]
  },
  {
   "cell_type": "code",
   "execution_count": 40,
   "metadata": {},
   "outputs": [
    {
     "name": "stdout",
     "output_type": "stream",
     "text": [
      "斜率 w1= 1.32, 截距 w0= 7.99\n"
     ]
    }
   ],
   "source": [
    "# 3)代入回歸直線方程式的斜率公式\n",
    "X_mean = np.mean(X) # X 平均值\n",
    "Y_mean = np.mean(Y) # Y 平均值\n",
    "\n",
    "num = 0 # 分子 \n",
    "den = 0 # 分母 \n",
    "\n",
    "num = sum(X*Y - (X * Y_mean))    # 分子 \n",
    "den = sum((X**2) - (X * X_mean)) # 分母\n",
    "\n",
    "w1 = num / den          # 計算斜率 b\n",
    "w0 = Y_mean - w1*X_mean # 計算截距 a\n",
    "print(f'斜率 w1= {round(w1,2)}, 截距 w0= {round(w0,2)}')"
   ]
  },
  {
   "cell_type": "code",
   "execution_count": 41,
   "metadata": {},
   "outputs": [
    {
     "data": {
      "image/png": "[encoded data removed]",
      "text/plain": [
       "<Figure size 504x360 with 1 Axes>"
      ]
     },
     "metadata": {
      "needs_background": "light"
     },
     "output_type": "display_data"
    }
   ],
   "source": [
    "plt.scatter(X,Y,c='b')\n",
    "plt.plot(X, w0 + w1*X, 'r')\n",
    "plt.grid(True)\n",
    "plt.savefig('./images/linearRegression2.png')"
   ]
  },
  {
   "cell_type": "markdown",
   "metadata": {},
   "source": [
    "### 經由公式計算出斜率和截距，當遇到新的資料 x，便可以**預測** y 的值。 "
   ]
  },
  {
   "cell_type": "markdown",
   "metadata": {},
   "source": [
    "### 範例三: 代入 sklearn "
   ]
  },
  {
   "cell_type": "code",
   "execution_count": 32,
   "metadata": {},
   "outputs": [],
   "source": [
    "from sklearn.linear_model import LinearRegression\n",
    "plt.rcParams['figure.figsize']=[7,5]"
   ]
  },
  {
   "cell_type": "code",
   "execution_count": 98,
   "metadata": {},
   "outputs": [
    {
     "data": {
      "text/html": [
       "<div>\n",
       "<style scoped>\n",
       "    .dataframe tbody tr th:only-of-type {\n",
       "        vertical-align: middle;\n",
       "    }\n",
       "\n",
       "    .dataframe tbody tr th {\n",
       "        vertical-align: top;\n",
       "    }\n",
       "\n",
       "    .dataframe thead th {\n",
       "        text-align: right;\n",
       "    }\n",
       "</style>\n",
       "<table border=\"1\" class=\"dataframe\">\n",
       "  <thead>\n",
       "    <tr style=\"text-align: right;\">\n",
       "      <th></th>\n",
       "      <th>X</th>\n",
       "      <th>Y</th>\n",
       "    </tr>\n",
       "  </thead>\n",
       "  <tbody>\n",
       "    <tr>\n",
       "      <th>0</th>\n",
       "      <td>32.502345</td>\n",
       "      <td>31.707006</td>\n",
       "    </tr>\n",
       "    <tr>\n",
       "      <th>1</th>\n",
       "      <td>53.426804</td>\n",
       "      <td>68.777596</td>\n",
       "    </tr>\n",
       "    <tr>\n",
       "      <th>2</th>\n",
       "      <td>61.530358</td>\n",
       "      <td>62.562382</td>\n",
       "    </tr>\n",
       "    <tr>\n",
       "      <th>3</th>\n",
       "      <td>47.475640</td>\n",
       "      <td>71.546632</td>\n",
       "    </tr>\n",
       "    <tr>\n",
       "      <th>4</th>\n",
       "      <td>59.813208</td>\n",
       "      <td>87.230925</td>\n",
       "    </tr>\n",
       "  </tbody>\n",
       "</table>\n",
       "</div>"
      ],
      "text/plain": [
       "           X          Y\n",
       "0  32.502345  31.707006\n",
       "1  53.426804  68.777596\n",
       "2  61.530358  62.562382\n",
       "3  47.475640  71.546632\n",
       "4  59.813208  87.230925"
      ]
     },
     "execution_count": 98,
     "metadata": {},
     "output_type": "execute_result"
    }
   ],
   "source": [
    "data = pd.read_csv('https://bit.ly/3uwhN74', header=None)\n",
    "data.columns= ['X', 'Y']\n",
    "data.head()"
   ]
  },
  {
   "cell_type": "code",
   "execution_count": 100,
   "metadata": {},
   "outputs": [
    {
     "data": {
      "text/plain": [
       "0    31.707006\n",
       "1    68.777596\n",
       "2    62.562382\n",
       "3    71.546632\n",
       "4    87.230925\n",
       "Name: Y, dtype: float64"
      ]
     },
     "execution_count": 100,
     "metadata": {},
     "output_type": "execute_result"
    }
   ],
   "source": [
    "data.iloc[:, 1].head()"
   ]
  },
  {
   "cell_type": "code",
   "execution_count": 118,
   "metadata": {},
   "outputs": [
    {
     "name": "stdout",
     "output_type": "stream",
     "text": [
      "1\n",
      "2\n"
     ]
    }
   ],
   "source": [
    "data = pd.read_csv('https://bit.ly/3uwhN74', header=None)\n",
    "data.columns= ['X', 'Y']\n",
    "X = data['X']\n",
    "X.head(5)\n",
    "XX = data[['X']]\n",
    "print(X.ndim)\n",
    "print(XX.ndim)"
   ]
  },
  {
   "cell_type": "code",
   "execution_count": 43,
   "metadata": {},
   "outputs": [
    {
     "data": {
      "image/png": "[encoded data removed]",
      "text/plain": [
       "<Figure size 576x432 with 1 Axes>"
      ]
     },
     "metadata": {
      "needs_background": "light"
     },
     "output_type": "display_data"
    }
   ],
   "source": [
    "# 2) 讀取外部資料\n",
    "plt.rcParams['figure.figsize']=(8,6)\n",
    "#data = pd.read_csv('./data/data.csv', header=None)\n",
    "data = pd.read_csv('https://bit.ly/3uwhN74', header=None)\n",
    "data.columns= ['X', 'Y']\n",
    "\n",
    "# 3) 選取 feature X 資料與 response Y 資料\n",
    "#X = data.iloc[:, 0]\n",
    "#y = data.iloc[:, 1]\n",
    "\n",
    "# 4) X 是一維的 Series，必須轉換為 2 維矩陣型態\n",
    "#X = np.array(X).reshape(len(X),1)\n",
    "\n",
    "XX = data['X']\n",
    "\n",
    "#X = data[['X']] # data.X\n",
    "#Y = data['Y']   # data.Y\n",
    "\n",
    "# 產生 regression 物件\n",
    "reg = LinearRegression() \n",
    "\n",
    "# 訓練 regression 物件\n",
    "reg.fit(X,Y)\n",
    "plt.scatter(X, Y)\n",
    "plt.scatter(65, 93.95, s=100, c='orange') # 驗證的點\n",
    "plt.scatter(25, 41.05, s=100, c='orange') # 驗證的點\n",
    "plt.plot(X, reg.intercept_ + reg.coef_ * X , 'r')\n",
    "plt.grid(True)"
   ]
  },
  {
   "cell_type": "code",
   "execution_count": 36,
   "metadata": {},
   "outputs": [
    {
     "name": "stdout",
     "output_type": "stream",
     "text": [
      "截距 w0= 19.453756416068835\n",
      "斜率 w1= [-0.37653327]\n"
     ]
    }
   ],
   "source": [
    "print(f'截距 w0= {reg.intercept_}')\n",
    "print(f'斜率 w1= {reg.coef_}')"
   ]
  },
  {
   "cell_type": "markdown",
   "metadata": {},
   "source": [
    "### 測試"
   ]
  },
  {
   "cell_type": "code",
   "execution_count": 42,
   "metadata": {},
   "outputs": [
    {
     "name": "stdout",
     "output_type": "stream",
     "text": [
      "[41.05179655]\n"
     ]
    }
   ],
   "source": [
    "y_pred = reg.predict([[25]])  # X 必須是 2 維型態\n",
    "print(y_pred)"
   ]
  },
  {
   "cell_type": "code",
   "execution_count": 81,
   "metadata": {},
   "outputs": [],
   "source": [
    "w0 = reg.intercept_  # intercept\n",
    "w1 = reg.coef_       # slope"
   ]
  },
  {
   "cell_type": "code",
   "execution_count": 95,
   "metadata": {},
   "outputs": [],
   "source": [
    "y_pred = w0 + w1*X"
   ]
  },
  {
   "cell_type": "code",
   "execution_count": 96,
   "metadata": {},
   "outputs": [
    {
     "name": "stdout",
     "output_type": "stream",
     "text": [
      "<class 'pandas.core.frame.DataFrame'> 2\n",
      "<class 'pandas.core.series.Series'> 1\n"
     ]
    }
   ],
   "source": [
    "print(type(y_pred), y_pred.ndim)\n",
    "#y_pred.iloc[:, 0]\n",
    "y_pred = y_pred.iloc[:,0]\n",
    "print(type(y_pred), y_pred.ndim)"
   ]
  },
  {
   "cell_type": "code",
   "execution_count": 92,
   "metadata": {},
   "outputs": [
    {
     "name": "stdout",
     "output_type": "stream",
     "text": [
      "8.301392283738961\n",
      "110.25738346621318\n",
      "10.500351587742822\n"
     ]
    }
   ],
   "source": [
    "y_pred = y_pred.iloc[:,0]\n",
    "print(np.mean(abs(Y - y_pred)))          # MAE\n",
    "print(np.mean((Y - y_predred)**2))          # MSE\n",
    "print(np.sqrt(np.mean((Y - y_pred)**2))) # RMSE"
   ]
  },
  {
   "cell_type": "markdown",
   "metadata": {},
   "source": [
    "<hr style='border-color:brown; border-width:3px'>"
   ]
  },
  {
   "cell_type": "markdown",
   "metadata": {},
   "source": [
    "## 模型評估指標\n",
    "- 當給予一個自變數 $x$ 值，透過迴歸線可得知預測值 $\\bar y$。\n",
    "- 因為迴歸是預測一個連續值，希望預測的值跟實際上值越接近越好。所以，彙整計算資料集所有的預測值與實際值之差距，便是針對模型的成效評估。\n",
    "- 而迴歸問題有三種常用的評估指標，分別是:\n",
    "    - 平均絕對值誤差 (Mean Absoute Error, **MAE**)\n",
    "    - 均方誤差 (Mean Squared Error, **MSE**)\n",
    "    - 均方根誤差 (Root Mean Squared Error, **RMSE**)\n",
    "- 另有一種也常見的評估指標 $R^2$，稱為**決定係數 (Coefficient of Determination)**。"
   ]
  },
  {
   "cell_type": "markdown",
   "metadata": {},
   "source": [
    "### 平均絕對值誤差 (Mean Absoute Error, MAE)\n",
    "### $$\\frac{1}{n}\\sum_{i=1}^{n}|y_i - \\hat y|$$"
   ]
  },
  {
   "cell_type": "markdown",
   "metadata": {},
   "source": [
    "### 範例"
   ]
  },
  {
   "cell_type": "code",
   "execution_count": 17,
   "metadata": {},
   "outputs": [
    {
     "name": "stdout",
     "output_type": "stream",
     "text": [
      "自行計算 MAE= 10.0\n",
      "使用sklearn metrics 計算 MAE= 10.0\n"
     ]
    }
   ],
   "source": [
    "import numpy as np\n",
    "from sklearn import metrics\n",
    "orig = np.array([100, 50, 30, 20])\n",
    "pred = np.array([90, 50, 50, 30])\n",
    "\n",
    "# 自行計算 MAE\n",
    "print(f'自行計算 MAE= {np.mean(abs(orig - pred))}')\n",
    "\n",
    "# 使用 scikit-learn metrics 計算 MAE\n",
    "print(f'使用sklearn metrics 計算 MAE= {metrics.mean_absolute_error(orig, pred)}')"
   ]
  },
  {
   "cell_type": "markdown",
   "metadata": {},
   "source": [
    "### 均方誤差 (Mean Squared Error, MSE)\n",
    "### $$\\frac{1}{n}\\sum_{i=1}^{n}(y_i - \\hat y)^2$$"
   ]
  },
  {
   "cell_type": "markdown",
   "metadata": {},
   "source": [
    "### 範例"
   ]
  },
  {
   "cell_type": "code",
   "execution_count": 28,
   "metadata": {},
   "outputs": [
    {
     "name": "stdout",
     "output_type": "stream",
     "text": [
      "[100   0 400 100]\n",
      "12.24744871391589\n"
     ]
    }
   ],
   "source": [
    "orig = np.array([100, 50, 30, 20])\n",
    "pred = np.array([90, 50, 50, 30])\n",
    "print((orig - pred)**2)\n",
    "print(np.sqrt(np.mean((orig - pred)**2)))"
   ]
  },
  {
   "cell_type": "code",
   "execution_count": 21,
   "metadata": {},
   "outputs": [
    {
     "name": "stdout",
     "output_type": "stream",
     "text": [
      "自行計算 MSE= 150.0\n",
      "使用sklearn metrics 計算 MSE= 150.0\n"
     ]
    }
   ],
   "source": [
    "import numpy as np\n",
    "from sklearn import metrics\n",
    "orig = np.array([100, 50, 30, 20])\n",
    "pred = np.array([90, 50, 50, 30])\n",
    "\n",
    "# 自行計算 MSE\n",
    "print(f'自行計算 MSE= {np.mean((orig - pred)**2)}')\n",
    "\n",
    "# 使用 scikit-learn metrics 計算 MSE\n",
    "print(f'使用sklearn metrics 計算 MSE= {metrics.mean_squared_error(orig, pred)}')"
   ]
  },
  {
   "cell_type": "markdown",
   "metadata": {},
   "source": [
    "### 均方根誤差 (Root Mean Squared Error, RMSE)\n",
    "### $$\\sqrt{\\frac{1}{n}\\sum_{i=1}^{n}(y_i - \\hat y)^2}$$"
   ]
  },
  {
   "cell_type": "markdown",
   "metadata": {},
   "source": [
    "### 範例"
   ]
  },
  {
   "cell_type": "code",
   "execution_count": 3,
   "metadata": {},
   "outputs": [
    {
     "name": "stdout",
     "output_type": "stream",
     "text": [
      "自行計算 RMSE= 12.24744871391589\n",
      "使用sklearn metrics計算RMSE= 12.24744871391589\n"
     ]
    }
   ],
   "source": [
    "import numpy as np\n",
    "from sklearn import metrics\n",
    "orig = np.array([100, 50, 30, 20])\n",
    "pred = np.array([90, 50, 50, 30])\n",
    "\n",
    "# 自行計算 RMSE\n",
    "print(f'自行計算 RMSE= {np.sqrt(np.mean((orig - pred)**2))}')\n",
    "\n",
    "# 使用 scikit-learn metrics 計算 RMSE\n",
    "print(f'使用sklearn metrics計算RMSE= {np.sqrt(metrics.mean_squared_error(orig, pred))}')"
   ]
  },
  {
   "cell_type": "markdown",
   "metadata": {},
   "source": [
    "### 決定係數(Coefficient of Determination) $R^2$\n",
    "- 決定係數經常在統計學使用的，意謂著當兩個連續型變數 X 和 Y 執行迴歸分析之後，兩者在迴歸線的擬合 (fit) 程度。\n",
    "- 決定係數和另一個常用的統計名詞**相關係數** (R, Correlation coefficient) 有關聯性。\n",
    "- 相關係數可以看出兩變數 x 與 y 線性*關聯性的高低程度*。\n",
    "- 但若要得知兩者在迴歸線的*擬合程度*，則必須參考決定係數。\n",
    "- 我們經常以SSR (迴歸變異), SSE (隨機變異), 以及 SST (總變異) 來說明決定係數$R^2$。<p><br>\n",
    "SSE = ${\\sum(y_i - \\hat y)^2}$ (Sum of Square Error) <p/>\n",
    "SSR = ${\\sum(\\hat y - \\bar y)^2}$ (Sum of Square Regression) <p/>\n",
    "SST = ${\\sum(y_i - \\bar y)^2}$ (Total Sum of Squares) <p/>\n",
    "- 決定係 數比較通俗的解釋是: 在這條迴歸線上，因變數 $y$ 有多少的程度比例能被自變數 $x$ 解釋。\n",
    "- $R^2$的值介於 0 到 1之間。最的大值 1，表示迴歸模式 $x$ 變數能夠解釋全體 $y$ 的變異；$R^2$ 若是 0 則表示 $x$ 和 $y$ 毫無關係存在。\n",
    "- 在學術研究上，$R^2$ 值為 0.5 或 0.6 比較常見，$R^2$ 值大於 0.7 的情況比較少見。"
   ]
  },
  {
   "cell_type": "markdown",
   "metadata": {},
   "source": [
    "### 1. 使用 sklearn metrics 的 re_score() 計算決定係數 $R^2$"
   ]
  },
  {
   "cell_type": "code",
   "execution_count": 104,
   "metadata": {},
   "outputs": [
    {
     "name": "stdout",
     "output_type": "stream",
     "text": [
      "使用sklearn metrics r2_score 計算R^2= 0.9736842105263158\n"
     ]
    }
   ],
   "source": [
    "import numpy as np\n",
    "from sklearn import metrics\n",
    "orig = np.array([100, 50, 30, 20])\n",
    "pred = np.array([100, 50, 30, 10])\n",
    "\n",
    "# 使用 sklearn metrics 的 r2_score 計算決定係數 R^2\n",
    "from sklearn.metrics import r2_score\n",
    "r2_squared = r2_score(orig, pred)\n",
    "print(f'使用sklearn metrics r2_score 計算R^2= {r2_squared}')"
   ]
  },
  {
   "cell_type": "code",
   "execution_count": 105,
   "metadata": {},
   "outputs": [
    {
     "name": "stdout",
     "output_type": "stream",
     "text": [
      "使用sklearn metrics r2_score 計算R^2= 0.5986557915386619\n"
     ]
    }
   ],
   "source": [
    "import numpy as np\n",
    "from sklearn.linear_model import LinearRegression\n",
    "from sklearn.metrics import r2_score\n",
    "\n",
    "#data = pd.read_csv('./data/data.csv', header=None)\n",
    "data = pd.read_csv('https://bit.ly/3uwhN74', header=None)\n",
    "data.columns= ['X', 'y']\n",
    "X = data.X\n",
    "y = data.y\n",
    "\n",
    "X = np.array(X).reshape(len(X),1) # 轉換為 2 維矩陣型態\n",
    "reg = LinearRegression()          # 建立 regression 物件\n",
    "reg.fit(X, y)                     # 訓練 regression 物件\n",
    "pred_y = reg.predict(X)\n",
    "r2_squared = r2_score(y, pred_y)\n",
    "print(f'使用sklearn metrics r2_score 計算R^2= {r2_squared}')"
   ]
  },
  {
   "cell_type": "markdown",
   "metadata": {},
   "source": [
    "### 2. 使用 sklearn 建立回歸模型的 score() 計算決定係數 $R^2$"
   ]
  },
  {
   "cell_type": "code",
   "execution_count": 106,
   "metadata": {},
   "outputs": [
    {
     "name": "stdout",
     "output_type": "stream",
     "text": [
      "r2_squared:  0.5986557915386619\n"
     ]
    }
   ],
   "source": [
    "import numpy as np\n",
    "from sklearn.linear_model import LinearRegression\n",
    "\n",
    "#data = pd.read_csv('./data/data.csv', header=None)\n",
    "data = pd.read_csv('https://bit.ly/3uwhN74', header=None)\n",
    "data.columns= ['X', 'y']\n",
    "X = data.X\n",
    "y = data.y\n",
    "\n",
    "X = np.array(X).reshape(len(X),1) # 轉換為 2 維矩陣型態\n",
    "reg = LinearRegression()          # 建立 regression 物件\n",
    "reg.fit(X, y)                     # 訓練 regression 物件\n",
    "\n",
    "r2_squared = reg.score(X,y)        # R^2\n",
    "print('r2_squared: ', r2_squared)"
   ]
  },
  {
   "cell_type": "markdown",
   "metadata": {},
   "source": [
    "### 3. 自行計算決定係數 $R^2$"
   ]
  },
  {
   "cell_type": "markdown",
   "metadata": {},
   "source": [
    "#### $SSE = {\\sum(y_i - \\hat y)^2}$ (Sum of Square Error)\n",
    "#### $SSR = {\\sum(\\hat y - \\bar y)^2}$ (Sum of Square Regression)\n",
    "#### $SST = {\\sum(y_i - \\bar y)^2}$ (Total Sum of Squares)\n",
    "### $R^2 = \\frac{SSR}{SST} = 1 - \\frac{SSE}{SST}$"
   ]
  },
  {
   "cell_type": "code",
   "execution_count": 107,
   "metadata": {},
   "outputs": [],
   "source": [
    "#data = pd.read_csv('./data/data.csv', header=None)\n",
    "data = pd.read_csv('https://bit.ly/3uwhN74', header=None)\n",
    "data.columns= ['X', 'y']\n",
    "X = data.X\n",
    "y = data.y\n",
    "w0= 7.99102  # 已計算出的 w0(截距)\n",
    "w1= 1.32243  # 已計算出的 w1(斜率)\n",
    "Y_mean = np.mean(y)  # y 平均值"
   ]
  },
  {
   "cell_type": "code",
   "execution_count": 113,
   "metadata": {},
   "outputs": [
    {
     "name": "stdout",
     "output_type": "stream",
     "text": [
      "自行計算決定係數𝑅2= 0.5986557915288158\n"
     ]
    }
   ],
   "source": [
    "# 計算 SSE\n",
    "Y_hat = w0 + w1*X  # 通過迴歸線上的理想 Y 值\n",
    "SSE = np.sum((Y - Y_hat)**2)\n",
    "\n",
    "# 計算 SST\n",
    "SST = np.sum((Y - Y_mean)**2) \n",
    "\n",
    "# 計算 R^2\n",
    "R2 = 1 - (SSE/SST)\n",
    "\n",
    "print(f'自行計算決定係數𝑅2= {R2}')"
   ]
  },
  {
   "cell_type": "markdown",
   "metadata": {},
   "source": [
    "<hr style='border-color:brown; border-width:3px'>"
   ]
  },
  {
   "cell_type": "markdown",
   "metadata": {},
   "source": [
    "## 梯度下降求截距和斜率 (暫略!)"
   ]
  },
  {
   "cell_type": "markdown",
   "metadata": {},
   "source": [
    "<hr style='border-color:brown; border-width:3px'>"
   ]
  },
  {
   "cell_type": "markdown",
   "metadata": {},
   "source": [
    "## 分隔訓練資料和測試資料\n",
    "- 資料集的資料卻不會全部拿來做訓練，通常擷取 60% - 80% 的資料當成訓練資料 (Training Data)，用以訓練模型，其餘的資料保留為測試資料(Testing Data)。\n",
    "- 當使用訓練資料完成模型訓練後，再以測試資料評估的模型表現。\n",
    "- 注意，用來訓練的資料必須是 2 維矩陣型態。"
   ]
  },
  {
   "cell_type": "code",
   "execution_count": 16,
   "metadata": {},
   "outputs": [],
   "source": [
    "# 1) import 套件模組函數 & 設定繪圖大小\n",
    "import numpy as np\n",
    "import pandas as pd\n",
    "import matplotlib.pyplot as plt\n",
    "from sklearn.linear_model import LinearRegression\n",
    "from sklearn.model_selection import train_test_split # sklearn套件的model_selection模組的train_test_split 函數"
   ]
  },
  {
   "cell_type": "code",
   "execution_count": 17,
   "metadata": {},
   "outputs": [],
   "source": [
    "# 2) 讀取資料或產生資料\n",
    "#data = pd.read_csv('./data/data.csv', header=None)\n",
    "data = pd.read_csv('https://bit.ly/3uwhN74', header=None)\n",
    "data.columns= ['X', 'y']"
   ]
  },
  {
   "cell_type": "code",
   "execution_count": 18,
   "metadata": {},
   "outputs": [
    {
     "data": {
      "text/html": [
       "<div>\n",
       "<style scoped>\n",
       "    .dataframe tbody tr th:only-of-type {\n",
       "        vertical-align: middle;\n",
       "    }\n",
       "\n",
       "    .dataframe tbody tr th {\n",
       "        vertical-align: top;\n",
       "    }\n",
       "\n",
       "    .dataframe thead th {\n",
       "        text-align: right;\n",
       "    }\n",
       "</style>\n",
       "<table border=\"1\" class=\"dataframe\">\n",
       "  <thead>\n",
       "    <tr style=\"text-align: right;\">\n",
       "      <th></th>\n",
       "      <th>X</th>\n",
       "      <th>y</th>\n",
       "    </tr>\n",
       "  </thead>\n",
       "  <tbody>\n",
       "    <tr>\n",
       "      <th>0</th>\n",
       "      <td>32.502345</td>\n",
       "      <td>31.707006</td>\n",
       "    </tr>\n",
       "    <tr>\n",
       "      <th>1</th>\n",
       "      <td>53.426804</td>\n",
       "      <td>68.777596</td>\n",
       "    </tr>\n",
       "    <tr>\n",
       "      <th>2</th>\n",
       "      <td>61.530358</td>\n",
       "      <td>62.562382</td>\n",
       "    </tr>\n",
       "  </tbody>\n",
       "</table>\n",
       "</div>"
      ],
      "text/plain": [
       "           X          y\n",
       "0  32.502345  31.707006\n",
       "1  53.426804  68.777596\n",
       "2  61.530358  62.562382"
      ]
     },
     "execution_count": 18,
     "metadata": {},
     "output_type": "execute_result"
    }
   ],
   "source": [
    "data.head(3)"
   ]
  },
  {
   "cell_type": "code",
   "execution_count": 19,
   "metadata": {},
   "outputs": [],
   "source": [
    "# 3) 選取 feature X 資料與 target(response/label) y 資料\n",
    "X = data.iloc[:, 0]\n",
    "y = data.iloc[:, 1]"
   ]
  },
  {
   "cell_type": "code",
   "execution_count": 36,
   "metadata": {},
   "outputs": [],
   "source": [
    "# 4) 分隔訓練資料和測試資料\n",
    "from sklearn.model_selection import train_test_split\n",
    "X_train, X_test, y_train, y_test = train_test_split(X, y, test_size=0.3, random_state=0)"
   ]
  },
  {
   "cell_type": "code",
   "execution_count": 37,
   "metadata": {},
   "outputs": [],
   "source": [
    "# pd.options.mode.chained_assignment = None  # default='warn' 不要顯示警示說明"
   ]
  },
  {
   "cell_type": "code",
   "execution_count": 38,
   "metadata": {},
   "outputs": [
    {
     "name": "stdout",
     "output_type": "stream",
     "text": [
      "(70, 1) (30, 1) 2 2\n"
     ]
    }
   ],
   "source": [
    "#X_train = X_train[:,np.newaxis]\n",
    "#X_test= X_test[:,np.newaxis]\n",
    "X_train = np.array(X_train).reshape(len(X_train),1)\n",
    "X_test = np.array(X_test).reshape(len(X_test),1)\n",
    "print(X_train.shape, X_test.shape, X_train.ndim, X_test.ndim)"
   ]
  },
  {
   "cell_type": "code",
   "execution_count": 39,
   "metadata": {},
   "outputs": [
    {
     "data": {
      "text/plain": [
       "LinearRegression()"
      ]
     },
     "execution_count": 39,
     "metadata": {},
     "output_type": "execute_result"
    }
   ],
   "source": [
    "# 5) 訓練模型\n",
    "model = LinearRegression()  #建立 regression 模型\n",
    "\n",
    "model.fit(X_train, y_train) # 訓練 regression 物件"
   ]
  },
  {
   "cell_type": "code",
   "execution_count": 40,
   "metadata": {},
   "outputs": [
    {
     "name": "stdout",
     "output_type": "stream",
     "text": [
      "截距 w0= 4.902019316324953, 斜率 w1= [1.37800146]\n"
     ]
    }
   ],
   "source": [
    "# 6) predict the test set results\n",
    "w0 = model.intercept_\n",
    "w1 = model.coef_\n",
    "print('截距 w0= {}, 斜率 w1= {}'.format(w0, w1))\n",
    "\n",
    "y_pred = model.predict(X_test)"
   ]
  },
  {
   "cell_type": "code",
   "execution_count": 41,
   "metadata": {},
   "outputs": [
    {
     "name": "stdout",
     "output_type": "stream",
     "text": [
      "model.score(X_train, y_train)=0.638860686598496\n",
      "model.score(X_test, y_test)=0.4769365552229239\n",
      "r2_score(y_test, y_pred)=0.4769365552229239\n"
     ]
    }
   ],
   "source": [
    "# 7) evaluate the model\n",
    "r_squared = model.score(X_train, y_train) # 訓練資料的決定係數 R^2\n",
    "print(f'model.score(X_train, y_train)={r_squared}')\n",
    "\n",
    "r_squared = model.score(X_test, y_test) # 測試資料的決定係數 R^2\n",
    "print(f'model.score(X_test, y_test)={r_squared}')\n",
    "\n",
    "from sklearn.metrics import r2_score\n",
    "r_squared = r2_score(y_test, y_pred)  # 另一個方法計算決定係數 R^2 \n",
    "print(f'r2_score(y_test, y_pred)={r_squared}')"
   ]
  },
  {
   "cell_type": "code",
   "execution_count": 42,
   "metadata": {},
   "outputs": [
    {
     "data": {
      "image/png": "[encoded data removed]",
      "text/plain": [
       "<Figure size 648x396 with 1 Axes>"
      ]
     },
     "metadata": {
      "needs_background": "light"
     },
     "output_type": "display_data"
    }
   ],
   "source": [
    "# 8) plot the results\n",
    "plt.rcParams['figure.figsize']=[9,5.5]\n",
    "plt.scatter(X_train, y_train, c='b', s=25, label='Training data')\n",
    "plt.scatter(X_test, y_test, c='g', s=25, label='Testing data')\n",
    "plt.plot(X_test, y_pred, c='r', label='Regression')\n",
    "plt.xlabel('X feature', fontsize=15)\n",
    "plt.ylabel('y target', fontsize=15)\n",
    "plt.legend()\n",
    "plt.grid(True)"
   ]
  },
  {
   "cell_type": "code",
   "execution_count": 56,
   "metadata": {},
   "outputs": [
    {
     "name": "stdout",
     "output_type": "stream",
     "text": [
      "[22.52307864]\n"
     ]
    },
    {
     "data": {
      "text/plain": [
       "array([ 51.25126578,  81.84275257, 112.43423936])"
      ]
     },
     "execution_count": 56,
     "metadata": {},
     "output_type": "execute_result"
    }
   ],
   "source": [
    "# 9) predict values\n",
    "# 如果 X 的輸入是 [12.34]，那麼根據迴歸模型，y 的輸出應該是多少?\n",
    "x_input = np.array([[12.34]])\n",
    "print(model.predict(x_input))\n",
    "\n",
    "# 如果 X 的輸入是 x_input =[33, 55, 77]，那麼根據迴歸模型，y 的輸出應該是多少?\n",
    "x_input = np.array([[33,55,77]]).T\n",
    "model.predict(x_input)"
   ]
  },
  {
   "cell_type": "markdown",
   "metadata": {},
   "source": [
    "<hr style='border-color:brown; border-width:3px'>"
   ]
  },
  {
   "cell_type": "markdown",
   "metadata": {},
   "source": [
    "## 練習題一\n",
    "- 1.請讀取 `homeprices.csv`檔案 (網址: https://bit.ly/3PcOCOe) ，並顯示出資料\n",
    "- 2.此資料集有 3 個欄位，分別是 `town`, `area`, `price`，為了執行簡單現行迴歸，請只取用 `area` 當成 X (feature), price 當成 y (target)，畫出資料的散布圖。\n",
    "- 3.請以投影片`2_迴歸模型`第10 - 13頁推導的公式，自行計算此資料集的截距 $w_0$ 和斜率 $w_1$。\n",
    "- 4.請以 sklearn 套件模組，計算計算此資料集的截距 $w_0$ 和斜率 $w_1$。\n",
    "- 5.請再畫出迴歸線。\n",
    "- 6.請計算 MAE, MSE, RMSE 以及 $R^2$"
   ]
  },
  {
   "cell_type": "markdown",
   "metadata": {},
   "source": [
    "## 提示: 使用 sklearn 求解迴歸步驟\n",
    "1. import library\n",
    "2. import dataset\n",
    "3. define X and y\n",
    "4. train the model\n",
    "5. evaluate the model\n",
    "6. plot the results\n",
    "7. predict the target values"
   ]
  },
  {
   "cell_type": "code",
   "execution_count": null,
   "metadata": {},
   "outputs": [],
   "source": [
    "# Solution 1-1"
   ]
  },
  {
   "cell_type": "code",
   "execution_count": null,
   "metadata": {},
   "outputs": [],
   "source": [
    "# Solution 1-2"
   ]
  },
  {
   "cell_type": "code",
   "execution_count": null,
   "metadata": {},
   "outputs": [],
   "source": [
    "# Solution 1-3"
   ]
  },
  {
   "cell_type": "code",
   "execution_count": null,
   "metadata": {},
   "outputs": [],
   "source": [
    "# Solution 1-4"
   ]
  },
  {
   "cell_type": "code",
   "execution_count": 10,
   "metadata": {},
   "outputs": [],
   "source": [
    "# Solution 1-5"
   ]
  },
  {
   "cell_type": "code",
   "execution_count": null,
   "metadata": {},
   "outputs": [],
   "source": [
    "# Solution 1-6"
   ]
  },
  {
   "cell_type": "markdown",
   "metadata": {},
   "source": [
    "<hr style='border-color:brown; border-width:3px'>"
   ]
  },
  {
   "cell_type": "markdown",
   "metadata": {},
   "source": [
    "## 練習題二\n",
    "1. 請使用 sklearn.datasets 的 make_regression 函數產生 1000 筆 1 個 feature 的資料集。資料集的唯一欄位 X 是 feature，target 名稱是 y。 \n",
    "2. 請將資料集分成 70% 訓練資料和 30% 測試資料。\n",
    "3. 請以散布圖的不同顏色表示訓練資料和測試資料。\n",
    "4. 請以 sklearn 套件模組進行迴歸訓練，並顯示此資料集的截距 $w_0$ 和斜率 $w_1$。\n",
    "5. 請再畫出迴歸線。\n",
    "6. 請計算 MAE, MSE, RMSE 以及$R^2$。"
   ]
  },
  {
   "cell_type": "markdown",
   "metadata": {},
   "source": [
    "## 提示: 使用 sklearn，分成訓練和測試資料的求解迴歸步驟\n",
    "1. import library\n",
    "2. imort dataset\n",
    "3. define X and y\n",
    "4. split the dataset in training set and test set\n",
    "5. train the model on the training set\n",
    "6. predict the test set results\n",
    "7. evalute the model\n",
    "8. plot the results\n",
    "9. predicte values"
   ]
  },
  {
   "cell_type": "code",
   "execution_count": null,
   "metadata": {},
   "outputs": [],
   "source": [
    "# Solution 2-1\n",
    "from sklearn.datasets import make_regression\n",
    "X, y = make_regression(n_samples=100, n_features=1, noise=20) # 產生 100 筆 1 個 feature 的資料集"
   ]
  },
  {
   "cell_type": "code",
   "execution_count": null,
   "metadata": {},
   "outputs": [],
   "source": [
    "# Solution 2-2"
   ]
  },
  {
   "cell_type": "code",
   "execution_count": null,
   "metadata": {},
   "outputs": [],
   "source": [
    "# Solution 2-3"
   ]
  },
  {
   "cell_type": "code",
   "execution_count": null,
   "metadata": {},
   "outputs": [],
   "source": [
    "# Solution 2-4"
   ]
  },
  {
   "cell_type": "code",
   "execution_count": null,
   "metadata": {},
   "outputs": [],
   "source": [
    "# Solution 2-5"
   ]
  },
  {
   "cell_type": "code",
   "execution_count": null,
   "metadata": {},
   "outputs": [],
   "source": [
    "# Solution 2-6"
   ]
  },
  {
   "cell_type": "markdown",
   "metadata": {},
   "source": [
    "<hr style='border-color:brown; border-width:3px'>"
   ]
  },
  {
   "cell_type": "markdown",
   "metadata": {},
   "source": [
    "## 練習題三\n",
    "- 使用 sklearn 的 Boston House 資料集。\n",
    "- 請載入 `from sklearn.datasets import load_boston`，再執行 `load_boston()`函數，建立資料集物件變數, e.g., `boston_dataset=load_boston()`.\n",
    "- boston_dataset 物件有幾個屬性:\n",
    "    - data: 特徵值資料\n",
    "    - DESCR: 描述性敘述\n",
    "    - feature_names: 欄位名稱\n",
    "    - target: 目標值\n",
    "- 請將 data 當成 features 欄位；將 target 屬性當成目標。"
   ]
  },
  {
   "cell_type": "markdown",
   "metadata": {},
   "source": [
    "- CRIM :每個城鎮的人均犯罪率 (per capita crime rate by town)\n",
    "- ZN : 佔地25,000平方英尺以上的住宅區域比例(proportion of residential land zoned for lots over 25,000 sq.ft.)\n",
    "- INDUS : 每個城鎮非零售業的營業面積比例(proportion of non-retail business acres per town)\n",
    "- CHAS : 是否靠近河邊(Charles River dummy variable (= 1 if tract bounds river; 0 otherwise))\n",
    "- NOX : 一氧化氮濃度（ppm)(nitric oxides concentration (parts per 10 million))\n",
    "- RM : 每個住宅的平均房間數(average number of rooms per dwelling)\n",
    "- AGE : 1940年前私有住宅的住房比率(proportion of owner-occupied units built prior to 1940)\n",
    "- DIS : 與五個波士頓就業中心的加權距離(weighted distances to five Boston employment centres)\n",
    "- RAD : 徑向公路的通達指數(index of accessibility to radial highways)\n",
    "- TAX : 每10,000美元的所需繳的財產稅(full-value property-tax rate per 10,000)\n",
    "- PTRATIO : 每個城鎮的師生比例(pupil-teacher ratio by town)\n",
    "- B : 黑人比例(值為$1000(Bk-0.63)^2$ where Bk is the proportion of blacks by town)\n",
    "- LSTAT : 中下階級的比率(% lower status of the population)"
   ]
  },
  {
   "cell_type": "markdown",
   "metadata": {},
   "source": [
    "### 題目\n",
    "1. 請分割訓練和測試資料後執行 Linear Regression，檢驗訓練資料和測試資料的 $r^2$。\n",
    "2. 依據資料集的 feature_names 欄位名稱，只取 CRIM 此欄位小於等於 1.5 的資料當成 training data，其餘的資料(CRIM 大於 1.5)當成 testing data，檢驗訓練資料和測試資料的 $r^2$。\n",
    "3. 請將 `RM`, `TAX`, `LSTAT` 欄位當 features，MEDV 是 target，將資料分成 60% traiing data, 40% testing data，請計算Linear Regression 的 $r^2$"
   ]
  },
  {
   "cell_type": "code",
   "execution_count": 11,
   "metadata": {},
   "outputs": [],
   "source": [
    "# Solution 3-1\n",
    "import numpy as np\n",
    "import pandas as pd\n",
    "import matplotlib.pyplot as plt\n",
    "from sklearn.linear_model import LinearRegression\n",
    "from sklearn.model_selection import train_test_split\n",
    "from sklearn.datasets import load_boston"
   ]
  },
  {
   "cell_type": "code",
   "execution_count": 14,
   "metadata": {},
   "outputs": [],
   "source": [
    "sk_boston = load_boston()"
   ]
  },
  {
   "cell_type": "code",
   "execution_count": 15,
   "metadata": {},
   "outputs": [
    {
     "data": {
      "text/plain": [
       "array(['CRIM', 'ZN', 'INDUS', 'CHAS', 'NOX', 'RM', 'AGE', 'DIS', 'RAD',\n",
       "       'TAX', 'PTRATIO', 'B', 'LSTAT'], dtype='<U7')"
      ]
     },
     "execution_count": 15,
     "metadata": {},
     "output_type": "execute_result"
    }
   ],
   "source": [
    "sk_boston.feature_names"
   ]
  },
  {
   "cell_type": "code",
   "execution_count": 4,
   "metadata": {},
   "outputs": [
    {
     "name": "stdout",
     "output_type": "stream",
     "text": [
      "(506, 13) (506,)\n"
     ]
    }
   ],
   "source": [
    "X = sk_boston.data\n",
    "y = sk_boston.target\n",
    "print(X.shape, y.shape)"
   ]
  },
  {
   "cell_type": "code",
   "execution_count": 5,
   "metadata": {},
   "outputs": [],
   "source": [
    "X_train, X_test, y_train, y_test = train_test_split(X, y, test_size=0.3, random_state=1)"
   ]
  },
  {
   "cell_type": "code",
   "execution_count": 6,
   "metadata": {},
   "outputs": [],
   "source": [
    "lr = LinearRegression()\n",
    "lr.fit(X, y)\n",
    "y_pred = lr.predict(X_test)"
   ]
  },
  {
   "cell_type": "code",
   "execution_count": 7,
   "metadata": {},
   "outputs": [
    {
     "name": "stdout",
     "output_type": "stream",
     "text": [
      "0.7043800862313001\n",
      "0.8146361027201625\n"
     ]
    }
   ],
   "source": [
    "print(lr.score(X_train, y_train))\n",
    "print(lr.score(X_test, y_test))"
   ]
  },
  {
   "cell_type": "code",
   "execution_count": 8,
   "metadata": {},
   "outputs": [
    {
     "name": "stdout",
     "output_type": "stream",
     "text": [
      "0.8146361027201625\n"
     ]
    }
   ],
   "source": [
    "from sklearn.metrics import r2_score\n",
    "print(r2_score(y_test, y_pred))"
   ]
  },
  {
   "cell_type": "code",
   "execution_count": 72,
   "metadata": {},
   "outputs": [
    {
     "data": {
      "text/html": [
       "<div>\n",
       "<style scoped>\n",
       "    .dataframe tbody tr th:only-of-type {\n",
       "        vertical-align: middle;\n",
       "    }\n",
       "\n",
       "    .dataframe tbody tr th {\n",
       "        vertical-align: top;\n",
       "    }\n",
       "\n",
       "    .dataframe thead th {\n",
       "        text-align: right;\n",
       "    }\n",
       "</style>\n",
       "<table border=\"1\" class=\"dataframe\">\n",
       "  <thead>\n",
       "    <tr style=\"text-align: right;\">\n",
       "      <th></th>\n",
       "      <th>CRIM</th>\n",
       "      <th>ZN</th>\n",
       "      <th>INDUS</th>\n",
       "      <th>CHAS</th>\n",
       "      <th>NOX</th>\n",
       "      <th>RM</th>\n",
       "      <th>AGE</th>\n",
       "      <th>DIS</th>\n",
       "      <th>RAD</th>\n",
       "      <th>TAX</th>\n",
       "      <th>PTRATIO</th>\n",
       "      <th>B</th>\n",
       "      <th>LSTAT</th>\n",
       "      <th>MEDV</th>\n",
       "    </tr>\n",
       "  </thead>\n",
       "  <tbody>\n",
       "    <tr>\n",
       "      <th>0</th>\n",
       "      <td>0.00632</td>\n",
       "      <td>18.0</td>\n",
       "      <td>2.31</td>\n",
       "      <td>0.0</td>\n",
       "      <td>0.538</td>\n",
       "      <td>6.575</td>\n",
       "      <td>65.2</td>\n",
       "      <td>4.0900</td>\n",
       "      <td>1.0</td>\n",
       "      <td>296.0</td>\n",
       "      <td>15.3</td>\n",
       "      <td>396.90</td>\n",
       "      <td>4.98</td>\n",
       "      <td>24.0</td>\n",
       "    </tr>\n",
       "    <tr>\n",
       "      <th>1</th>\n",
       "      <td>0.02731</td>\n",
       "      <td>0.0</td>\n",
       "      <td>7.07</td>\n",
       "      <td>0.0</td>\n",
       "      <td>0.469</td>\n",
       "      <td>6.421</td>\n",
       "      <td>78.9</td>\n",
       "      <td>4.9671</td>\n",
       "      <td>2.0</td>\n",
       "      <td>242.0</td>\n",
       "      <td>17.8</td>\n",
       "      <td>396.90</td>\n",
       "      <td>9.14</td>\n",
       "      <td>21.6</td>\n",
       "    </tr>\n",
       "    <tr>\n",
       "      <th>2</th>\n",
       "      <td>0.02729</td>\n",
       "      <td>0.0</td>\n",
       "      <td>7.07</td>\n",
       "      <td>0.0</td>\n",
       "      <td>0.469</td>\n",
       "      <td>7.185</td>\n",
       "      <td>61.1</td>\n",
       "      <td>4.9671</td>\n",
       "      <td>2.0</td>\n",
       "      <td>242.0</td>\n",
       "      <td>17.8</td>\n",
       "      <td>392.83</td>\n",
       "      <td>4.03</td>\n",
       "      <td>34.7</td>\n",
       "    </tr>\n",
       "  </tbody>\n",
       "</table>\n",
       "</div>"
      ],
      "text/plain": [
       "      CRIM    ZN  INDUS  CHAS    NOX     RM   AGE     DIS  RAD    TAX  \\\n",
       "0  0.00632  18.0   2.31   0.0  0.538  6.575  65.2  4.0900  1.0  296.0   \n",
       "1  0.02731   0.0   7.07   0.0  0.469  6.421  78.9  4.9671  2.0  242.0   \n",
       "2  0.02729   0.0   7.07   0.0  0.469  7.185  61.1  4.9671  2.0  242.0   \n",
       "\n",
       "   PTRATIO       B  LSTAT  MEDV  \n",
       "0     15.3  396.90   4.98  24.0  \n",
       "1     17.8  396.90   9.14  21.6  \n",
       "2     17.8  392.83   4.03  34.7  "
      ]
     },
     "execution_count": 72,
     "metadata": {},
     "output_type": "execute_result"
    }
   ],
   "source": [
    "# Solution 3-2\n",
    "## 先將 features 資料轉換成 pd.DataFrame\n",
    "boston = pd.DataFrame(data=sk_boston.data, columns=sk_boston.feature_names)\n",
    "# 新增 target 欄位名稱 MEDV\n",
    "boston['MEDV'] = sk_boston.target\n",
    "boston.head(3)"
   ]
  },
  {
   "cell_type": "code",
   "execution_count": 73,
   "metadata": {},
   "outputs": [],
   "source": [
    "pd.options.mode.chained_assignment = None  # default='warn' 不要顯示警示說明"
   ]
  },
  {
   "cell_type": "code",
   "execution_count": 77,
   "metadata": {},
   "outputs": [
    {
     "name": "stdout",
     "output_type": "stream",
     "text": [
      "(350, 13) (350,)\n",
      "(156, 13) (156,)\n"
     ]
    }
   ],
   "source": [
    "X_train = boston[boston.CRIM <= 1.5]\n",
    "X_train.drop(columns='MEDV', inplace=True, axis=1)\n",
    "X_test = boston[boston.CRIM > 1.5]\n",
    "X_test.drop(columns='MEDV', inplace=True, axis=1)\n",
    "\n",
    "y_train = boston[boston.CRIM <= 1.5]['MEDV']\n",
    "y_test = boston[boston.CRIM > 1.5]['MEDV']\n",
    "\n",
    "print(X_train.shape, y_train.shape)\n",
    "print(X_test.shape, y_test.shape)"
   ]
  },
  {
   "cell_type": "code",
   "execution_count": 78,
   "metadata": {},
   "outputs": [],
   "source": [
    "lr = LinearRegression()\n",
    "lr.fit(X_train, y_train)\n",
    "y_pred = lr.predict(X_test)"
   ]
  },
  {
   "cell_type": "code",
   "execution_count": 79,
   "metadata": {},
   "outputs": [
    {
     "name": "stdout",
     "output_type": "stream",
     "text": [
      "0.8653490350173698\n",
      "-5.851827999527522\n"
     ]
    }
   ],
   "source": [
    "print(lr.score(X_train, y_train))\n",
    "print(lr.score(X_test, y_test))"
   ]
  },
  {
   "cell_type": "code",
   "execution_count": 80,
   "metadata": {},
   "outputs": [
    {
     "name": "stdout",
     "output_type": "stream",
     "text": [
      "-5.851827999527522\n"
     ]
    }
   ],
   "source": [
    "from sklearn.metrics import r2_score\n",
    "print(r2_score(y_test, y_pred))"
   ]
  },
  {
   "cell_type": "markdown",
   "metadata": {},
   "source": [
    "### 如果帶入 Ridge Regression 呢"
   ]
  },
  {
   "cell_type": "code",
   "execution_count": 76,
   "metadata": {},
   "outputs": [],
   "source": [
    "from sklearn.linear_model import Ridge"
   ]
  },
  {
   "cell_type": "code",
   "execution_count": 85,
   "metadata": {},
   "outputs": [
    {
     "data": {
      "text/plain": [
       "(0.7801403387296064, 0.2411601674397441)"
      ]
     },
     "execution_count": 85,
     "metadata": {},
     "output_type": "execute_result"
    }
   ],
   "source": [
    "rdg = Ridge(alpha=100)\n",
    "rdg.fit(X_train, y_train)\n",
    "rdg.score(X_train, y_train), rdg.score(X_test, y_test)"
   ]
  },
  {
   "cell_type": "code",
   "execution_count": null,
   "metadata": {},
   "outputs": [],
   "source": []
  }
 ],
 "metadata": {
  "kernelspec": {
   "display_name": "Python 3",
   "language": "python",
   "name": "python3"
  },
  "language_info": {
   "codemirror_mode": {
    "name": "ipython",
    "version": 3
   },
   "file_extension": ".py",
   "mimetype": "text/x-python",
   "name": "python",
   "nbconvert_exporter": "python",
   "pygments_lexer": "ipython3",
   "version": "3.8.10"
  }
 },
 "nbformat": 4,
 "nbformat_minor": 2
}
