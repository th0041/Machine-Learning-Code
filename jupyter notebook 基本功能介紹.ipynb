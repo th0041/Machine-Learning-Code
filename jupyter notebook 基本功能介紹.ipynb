{
 "cells": [
  {
   "cell_type": "markdown",
   "id": "cf52869a",
   "metadata": {},
   "source": [
    "# jupyter notebook 基本功能介紹"
   ]
  },
  {
   "cell_type": "markdown",
   "id": "d5478c6f",
   "metadata": {},
   "source": [
    "## 一、程式碼撰寫"
   ]
  },
  {
   "cell_type": "code",
   "execution_count": 3,
   "id": "be043600",
   "metadata": {},
   "outputs": [
    {
     "name": "stdout",
     "output_type": "stream",
     "text": [
      "1**2= 1\n",
      "2**2= 4\n",
      "3**2= 9\n",
      "4**2= 16\n",
      "5**2= 25\n",
      "6**2= 36\n",
      "7**2= 49\n",
      "8**2= 64\n",
      "9**2= 81\n",
      "10**2= 100\n"
     ]
    }
   ],
   "source": [
    "for i in range(1, 11):\n",
    "    print(f'{i}**2= {i**2}')"
   ]
  },
  {
   "cell_type": "code",
   "execution_count": 4,
   "id": "a0328570",
   "metadata": {},
   "outputs": [],
   "source": [
    "import random"
   ]
  },
  {
   "cell_type": "code",
   "execution_count": 10,
   "id": "9ca1eaf7",
   "metadata": {},
   "outputs": [
    {
     "data": {
      "text/plain": [
       "76"
      ]
     },
     "execution_count": 10,
     "metadata": {},
     "output_type": "execute_result"
    }
   ],
   "source": [
    "random.randint(1, 100)"
   ]
  },
  {
   "cell_type": "code",
   "execution_count": 1,
   "id": "98137b22",
   "metadata": {},
   "outputs": [],
   "source": [
    "import numpy as np"
   ]
  },
  {
   "cell_type": "code",
   "execution_count": 12,
   "id": "1fb29df0",
   "metadata": {},
   "outputs": [
    {
     "name": "stdout",
     "output_type": "stream",
     "text": [
      "[1, 2, 3, 4, 5, 6, 7, 8, 9, 10, 11, 12, 13, 14, 15, 16, 17, 18, 19, 20, 21, 22, 23, 24, 25, 26, 27, 28, 29, 30, 31, 32, 33, 34, 35, 36, 37, 38, 39, 40, 41, 42, 43, 44, 45, 46, 47, 48, 49, 50]\n"
     ]
    }
   ],
   "source": [
    "snum = [i for i in range(1, 51)]\n",
    "print(snum)"
   ]
  },
  {
   "cell_type": "code",
   "execution_count": 2,
   "id": "ae17ee7b",
   "metadata": {},
   "outputs": [
    {
     "data": {
      "text/plain": [
       "array([ 7, 92, 79, 32, 92, 60, 15, 78,  9, 97])"
      ]
     },
     "execution_count": 2,
     "metadata": {},
     "output_type": "execute_result"
    }
   ],
   "source": [
    "snum = np.random.randint(1, 100, 10)\n",
    "snum"
   ]
  },
  {
   "cell_type": "code",
   "execution_count": 3,
   "id": "d467a905",
   "metadata": {},
   "outputs": [
    {
     "data": {
      "text/plain": [
       "array([15, 78,  9, 32, 78])"
      ]
     },
     "execution_count": 3,
     "metadata": {},
     "output_type": "execute_result"
    }
   ],
   "source": [
    "np.random.choice(snum, 5)"
   ]
  },
  {
   "cell_type": "markdown",
   "id": "a6a78a9c",
   "metadata": {},
   "source": [
    "# Shift + Enter $\\Rightarrow$ 執行程式"
   ]
  },
  {
   "cell_type": "code",
   "execution_count": 1,
   "id": "4df55b6e",
   "metadata": {},
   "outputs": [],
   "source": [
    "import pandas as pd"
   ]
  },
  {
   "cell_type": "code",
   "execution_count": 2,
   "id": "dc9e2678",
   "metadata": {},
   "outputs": [],
   "source": [
    "ufo = pd.read_csv('https://bit.ly/uforeports')"
   ]
  },
  {
   "cell_type": "code",
   "execution_count": 3,
   "id": "94b15e84",
   "metadata": {},
   "outputs": [
    {
     "data": {
      "text/html": [
       "<div>\n",
       "<style scoped>\n",
       "    .dataframe tbody tr th:only-of-type {\n",
       "        vertical-align: middle;\n",
       "    }\n",
       "\n",
       "    .dataframe tbody tr th {\n",
       "        vertical-align: top;\n",
       "    }\n",
       "\n",
       "    .dataframe thead th {\n",
       "        text-align: right;\n",
       "    }\n",
       "</style>\n",
       "<table border=\"1\" class=\"dataframe\">\n",
       "  <thead>\n",
       "    <tr style=\"text-align: right;\">\n",
       "      <th></th>\n",
       "      <th>City</th>\n",
       "      <th>Colors Reported</th>\n",
       "      <th>Shape Reported</th>\n",
       "      <th>State</th>\n",
       "      <th>Time</th>\n",
       "    </tr>\n",
       "  </thead>\n",
       "  <tbody>\n",
       "    <tr>\n",
       "      <th>0</th>\n",
       "      <td>Ithaca</td>\n",
       "      <td>NaN</td>\n",
       "      <td>TRIANGLE</td>\n",
       "      <td>NY</td>\n",
       "      <td>6/1/1930 22:00</td>\n",
       "    </tr>\n",
       "    <tr>\n",
       "      <th>1</th>\n",
       "      <td>Willingboro</td>\n",
       "      <td>NaN</td>\n",
       "      <td>OTHER</td>\n",
       "      <td>NJ</td>\n",
       "      <td>6/30/1930 20:00</td>\n",
       "    </tr>\n",
       "    <tr>\n",
       "      <th>2</th>\n",
       "      <td>Holyoke</td>\n",
       "      <td>NaN</td>\n",
       "      <td>OVAL</td>\n",
       "      <td>CO</td>\n",
       "      <td>2/15/1931 14:00</td>\n",
       "    </tr>\n",
       "    <tr>\n",
       "      <th>3</th>\n",
       "      <td>Abilene</td>\n",
       "      <td>NaN</td>\n",
       "      <td>DISK</td>\n",
       "      <td>KS</td>\n",
       "      <td>6/1/1931 13:00</td>\n",
       "    </tr>\n",
       "    <tr>\n",
       "      <th>4</th>\n",
       "      <td>New York Worlds Fair</td>\n",
       "      <td>NaN</td>\n",
       "      <td>LIGHT</td>\n",
       "      <td>NY</td>\n",
       "      <td>4/18/1933 19:00</td>\n",
       "    </tr>\n",
       "  </tbody>\n",
       "</table>\n",
       "</div>"
      ],
      "text/plain": [
       "                   City Colors Reported Shape Reported State             Time\n",
       "0                Ithaca             NaN       TRIANGLE    NY   6/1/1930 22:00\n",
       "1           Willingboro             NaN          OTHER    NJ  6/30/1930 20:00\n",
       "2               Holyoke             NaN           OVAL    CO  2/15/1931 14:00\n",
       "3               Abilene             NaN           DISK    KS   6/1/1931 13:00\n",
       "4  New York Worlds Fair             NaN          LIGHT    NY  4/18/1933 19:00"
      ]
     },
     "execution_count": 3,
     "metadata": {},
     "output_type": "execute_result"
    }
   ],
   "source": [
    "ufo.head()"
   ]
  },
  {
   "cell_type": "code",
   "execution_count": 22,
   "id": "b491f385",
   "metadata": {},
   "outputs": [
    {
     "data": {
      "text/plain": [
       "(18241, 5)"
      ]
     },
     "execution_count": 22,
     "metadata": {},
     "output_type": "execute_result"
    }
   ],
   "source": [
    "ufo.shape"
   ]
  },
  {
   "cell_type": "code",
   "execution_count": 23,
   "id": "53473cb7",
   "metadata": {},
   "outputs": [
    {
     "data": {
      "text/html": [
       "<div>\n",
       "<style scoped>\n",
       "    .dataframe tbody tr th:only-of-type {\n",
       "        vertical-align: middle;\n",
       "    }\n",
       "\n",
       "    .dataframe tbody tr th {\n",
       "        vertical-align: top;\n",
       "    }\n",
       "\n",
       "    .dataframe thead th {\n",
       "        text-align: right;\n",
       "    }\n",
       "</style>\n",
       "<table border=\"1\" class=\"dataframe\">\n",
       "  <thead>\n",
       "    <tr style=\"text-align: right;\">\n",
       "      <th></th>\n",
       "      <th>City</th>\n",
       "      <th>Colors Reported</th>\n",
       "      <th>Shape Reported</th>\n",
       "      <th>Time</th>\n",
       "    </tr>\n",
       "    <tr>\n",
       "      <th>State</th>\n",
       "      <th></th>\n",
       "      <th></th>\n",
       "      <th></th>\n",
       "      <th></th>\n",
       "    </tr>\n",
       "  </thead>\n",
       "  <tbody>\n",
       "    <tr>\n",
       "      <th>CA</th>\n",
       "      <td>2525</td>\n",
       "      <td>457</td>\n",
       "      <td>2148</td>\n",
       "      <td>2529</td>\n",
       "    </tr>\n",
       "    <tr>\n",
       "      <th>WA</th>\n",
       "      <td>1320</td>\n",
       "      <td>269</td>\n",
       "      <td>925</td>\n",
       "      <td>1322</td>\n",
       "    </tr>\n",
       "    <tr>\n",
       "      <th>TX</th>\n",
       "      <td>1025</td>\n",
       "      <td>138</td>\n",
       "      <td>923</td>\n",
       "      <td>1027</td>\n",
       "    </tr>\n",
       "    <tr>\n",
       "      <th>NY</th>\n",
       "      <td>913</td>\n",
       "      <td>123</td>\n",
       "      <td>823</td>\n",
       "      <td>914</td>\n",
       "    </tr>\n",
       "    <tr>\n",
       "      <th>FL</th>\n",
       "      <td>835</td>\n",
       "      <td>120</td>\n",
       "      <td>727</td>\n",
       "      <td>837</td>\n",
       "    </tr>\n",
       "    <tr>\n",
       "      <th>AZ</th>\n",
       "      <td>736</td>\n",
       "      <td>145</td>\n",
       "      <td>644</td>\n",
       "      <td>738</td>\n",
       "    </tr>\n",
       "    <tr>\n",
       "      <th>OH</th>\n",
       "      <td>665</td>\n",
       "      <td>93</td>\n",
       "      <td>605</td>\n",
       "      <td>667</td>\n",
       "    </tr>\n",
       "    <tr>\n",
       "      <th>IL</th>\n",
       "      <td>612</td>\n",
       "      <td>112</td>\n",
       "      <td>540</td>\n",
       "      <td>613</td>\n",
       "    </tr>\n",
       "    <tr>\n",
       "      <th>PA</th>\n",
       "      <td>598</td>\n",
       "      <td>97</td>\n",
       "      <td>519</td>\n",
       "      <td>598</td>\n",
       "    </tr>\n",
       "    <tr>\n",
       "      <th>MI</th>\n",
       "      <td>590</td>\n",
       "      <td>78</td>\n",
       "      <td>504</td>\n",
       "      <td>591</td>\n",
       "    </tr>\n",
       "  </tbody>\n",
       "</table>\n",
       "</div>"
      ],
      "text/plain": [
       "       City  Colors Reported  Shape Reported  Time\n",
       "State                                             \n",
       "CA     2525              457            2148  2529\n",
       "WA     1320              269             925  1322\n",
       "TX     1025              138             923  1027\n",
       "NY      913              123             823   914\n",
       "FL      835              120             727   837\n",
       "AZ      736              145             644   738\n",
       "OH      665               93             605   667\n",
       "IL      612              112             540   613\n",
       "PA      598               97             519   598\n",
       "MI      590               78             504   591"
      ]
     },
     "execution_count": 23,
     "metadata": {},
     "output_type": "execute_result"
    }
   ],
   "source": [
    "ufo_gp = ufo.groupby('State')\n",
    "df = ufo_gp.count().sort_values(by='Time', ascending=False)\n",
    "df.head(10)"
   ]
  },
  {
   "cell_type": "code",
   "execution_count": 24,
   "id": "91870ddf",
   "metadata": {},
   "outputs": [
    {
     "data": {
      "image/png": "[encoded data removed]",
      "text/plain": [
       "<Figure size 576x360 with 1 Axes>"
      ]
     },
     "metadata": {
      "needs_background": "light"
     },
     "output_type": "display_data"
    }
   ],
   "source": [
    "import matplotlib.pyplot as plt\n",
    "plt.rcParams['figure.figsize']=[8,5]\n",
    "result = df.iloc[0:10, :]\n",
    "result.Time.plot(kind='bar', color='blue')\n",
    "plt.ylabel('Frequency', fontsize=15)\n",
    "plt.grid(True)\n",
    "plt.savefig('./images/ufo_state.png')"
   ]
  },
  {
   "cell_type": "markdown",
   "id": "606ff03b",
   "metadata": {},
   "source": [
    "<hr style='border-color:brown; border-width:3px'>"
   ]
  },
  {
   "cell_type": "markdown",
   "id": "cb9d608f",
   "metadata": {},
   "source": [
    "## 二、標題與文字格式\n",
    "1. 這是小題一\n",
    "    - 這是小小題一\n",
    "    - 這是小小題二\n",
    "    - 這是小小題三\n",
    "2. 這是小題二\n",
    "3. 這是小題三"
   ]
  },
  {
   "cell_type": "markdown",
   "id": "6ec020f7",
   "metadata": {},
   "source": [
    "# 標題一\n",
    "## 標題二\n",
    "### 標題三\n",
    "#### 標題四\n",
    "##### 標題五"
   ]
  },
  {
   "cell_type": "markdown",
   "id": "71325600",
   "metadata": {},
   "source": [
    "1. 這是項目一\n",
    "2. 這是項目二\n",
    "3. 這是項目三\n",
    "    - **這是項目 3-1**\n",
    "    - *這是項目 3-2*\n",
    "    - `這是項目 3-3`\n",
    "    - <u>這是項目 3-4</u>\n",
    "    - <font color='red'>這是項目 3-5</font>\n",
    "    - <b>這是粗體</b>"
   ]
  },
  {
   "cell_type": "markdown",
   "id": "0e26c6f0",
   "metadata": {},
   "source": [
    "## 三、數學表示式"
   ]
  },
  {
   "cell_type": "markdown",
   "id": "cf421ab4",
   "metadata": {},
   "source": [
    "## $y = f(x) = x^3 -5x^2 + 8x + 3$"
   ]
  },
  {
   "cell_type": "markdown",
   "id": "65e3f3a2",
   "metadata": {},
   "source": [
    "## $f'(x) = lim_{x \\rightarrow 2}\\frac{f(x)-f(2)}{x-2}$"
   ]
  },
  {
   "cell_type": "markdown",
   "id": "f28b3ee1",
   "metadata": {},
   "source": [
    "## 四、插入圖片"
   ]
  },
  {
   "cell_type": "markdown",
   "id": "7b9d8a6b",
   "metadata": {},
   "source": [
    "![fig1](https://upload.wikimedia.org/wikipedia/commons/thumb/f/fe/Kernel_Machine.svg/1920px-Kernel_Machine.svg.png)"
   ]
  },
  {
   "cell_type": "markdown",
   "id": "6b3bed82",
   "metadata": {},
   "source": [
    "## 五、超連結\n",
    "- 維基百科請點選 <a href='https://www.wikipedia.org'>here</a>"
   ]
  },
  {
   "cell_type": "markdown",
   "id": "af367eb6",
   "metadata": {},
   "source": [
    "## 還有..."
   ]
  },
  {
   "cell_type": "markdown",
   "id": "ab6168fc",
   "metadata": {},
   "source": [
    "### 製作表格\n",
    "\n",
    "|四則運算符號|意義\n",
    ":----------:|---:\n",
    "|`+`|加法\n",
    "|`-`|減法\n",
    "|`*`|乘法\n",
    "|`/`|除法\n",
    "|`**`|次方\n",
    "|`%`|回傳餘數\n",
    "|`//`|整除"
   ]
  },
  {
   "cell_type": "markdown",
   "id": "0894aaa1",
   "metadata": {},
   "source": [
    "### 表達程式碼"
   ]
  },
  {
   "cell_type": "markdown",
   "id": "eb19a914",
   "metadata": {},
   "source": [
    "```mysql\n",
    "Select *\n",
    "From customers, orders\n",
    "Where customers.cid = orders.cid\n",
    "```"
   ]
  },
  {
   "cell_type": "markdown",
   "id": "79d2beba",
   "metadata": {},
   "source": [
    "```python\n",
    "import numpy as np\n",
    "import pandas as pd\n",
    "import matplotlib.pyplot as plt\n",
    "from sklearn.linear_model import LinearRegression\n",
    "import seaborn as sns\n",
    "from sklearn.datasets import load_boston\n",
    "from sklearn.model_selection import train_test_split\n",
    "\n",
    "# 載入資料\n",
    "boston_dataset = load_boston()\n",
    "\n",
    "# 把資料轉換成pd.DataFrame\n",
    "boston = pd.DataFrame(boston_dataset.data, columns=boston_dataset.feature_names)\n",
    "\n",
    "# 新增 target 欄位 MEDV\n",
    "boston['MEDV'] = boston_dataset.target\n",
    "\n",
    "# 建立迴歸模型(Regression Model)學習機\n",
    "from sklearn.linear_model import LinearRegression  # 載入 scikit-leart 套件模型\n",
    "\n",
    "# 建立迴歸模型物件變數\n",
    "reg_bos = LinearRegression() \n",
    "\n",
    "X = boston[['RM','LSTAT','B','CRIM']]\n",
    "y = boston['MEDV']\n",
    "\n",
    "# 分隔訓練資料和測試資料\n",
    "X_train, X_test, y_train, y_test = train_test_split(X, y, test_size=0.3, random_state=4)\n",
    "\n",
    "# 將資料進行訓練\n",
    "reg_bos.fit(X_train, y_train)\n",
    "\n",
    "# 顯示截距與斜率\n",
    "print(np.round(reg_bos.intercept_, 3))  # 截距\n",
    "print(np.round(reg_bos.coef_, 3))       # 各個 feature 的斜率\n",
    "```"
   ]
  },
  {
   "cell_type": "markdown",
   "id": "af85d903",
   "metadata": {},
   "source": [
    "![相關係數](http://vega.tut.edu.tw/duh/wp-content/uploads/2022/07/correlation.png)"
   ]
  },
  {
   "cell_type": "code",
   "execution_count": null,
   "id": "2bc8dd51",
   "metadata": {},
   "outputs": [],
   "source": []
  }
 ],
 "metadata": {
  "kernelspec": {
   "display_name": "Python 3",
   "language": "python",
   "name": "python3"
  },
  "language_info": {
   "codemirror_mode": {
    "name": "ipython",
    "version": 3
   },
   "file_extension": ".py",
   "mimetype": "text/x-python",
   "name": "python",
   "nbconvert_exporter": "python",
   "pygments_lexer": "ipython3",
   "version": "3.8.10"
  }
 },
 "nbformat": 4,
 "nbformat_minor": 5
}
