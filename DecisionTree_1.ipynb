{
 "cells": [
  {
   "cell_type": "markdown",
   "id": "41ada9aa",
   "metadata": {},
   "source": [
    "# 機器學習 - 決策樹模型 (Decision Tree Model) (1)\n",
    "- 學期: 111 機器學習 Summer Session 教材 (師培中心)\n",
    "- 杜主民"
   ]
  },
  {
   "cell_type": "markdown",
   "id": "37210c57",
   "metadata": {},
   "source": [
    "## 什麼是決策樹模型\n",
    "- 決策樹是條件式的多元分類器。\n",
    "- 決策樹透過訓練資料的特徵值 (feartures)，學習出問題，然後來推斷其分類。\n",
    "- 決策樹根節點 (父節點)開始，依據各個features 將資料作分割到左右兩邊。\n",
    "- 分割的方式參考**熵 (Entropy)**與**信息增益 (Information Gain)**來判斷具意義特徵的分割。"
   ]
  },
  {
   "cell_type": "markdown",
   "id": "02466a41",
   "metadata": {},
   "source": [
    "## 決策樹用藥案例\n",
    "- 使用投影片案例的數據\n",
    "### $$熵 (Entropy) \\Rightarrow \\boxed{H(S)=\\sum^c_{i=1}-p_i\\cdot log_2\\cdot p_i}$$\n",
    "### $$資訊獲利\\Rightarrow \\boxed{Gain(S, A) = H(S) - \\sum^v_{i=1}\\frac{|S_i|}{|S|}\\cdot H(S_i)}$$"
   ]
  },
  {
   "cell_type": "code",
   "execution_count": 1,
   "id": "3f599b2c",
   "metadata": {},
   "outputs": [],
   "source": [
    "import pandas as pd\n",
    "import numpy as np"
   ]
  },
  {
   "cell_type": "code",
   "execution_count": 3,
   "id": "c71e4e52",
   "metadata": {},
   "outputs": [],
   "source": [
    "性別 = ['男','女','男','男','女','男','女','男','男','女','女','男']\n",
    "年齡 = [20,73,37,33,48,29,52,42,61,30,26,54]\n",
    "血壓 = ['正常','正常','高','低','高','正常','正常','低','正常','正常','低','高']\n",
    "藥物 = ['A','B','A','B','A','A','B','B','B','A','B','A']"
   ]
  },
  {
   "cell_type": "code",
   "execution_count": 5,
   "id": "373cfaa1",
   "metadata": {},
   "outputs": [],
   "source": [
    "df = pd.DataFrame([性別,年齡,血壓,藥物])\n",
    "df = df.T\n",
    "df.columns=['性別','年齡','血壓','藥物']\n",
    "data = df.copy()"
   ]
  },
  {
   "cell_type": "code",
   "execution_count": 6,
   "id": "a90a05ef",
   "metadata": {},
   "outputs": [
    {
     "data": {
      "text/html": [
       "<div>\n",
       "<style scoped>\n",
       "    .dataframe tbody tr th:only-of-type {\n",
       "        vertical-align: middle;\n",
       "    }\n",
       "\n",
       "    .dataframe tbody tr th {\n",
       "        vertical-align: top;\n",
       "    }\n",
       "\n",
       "    .dataframe thead th {\n",
       "        text-align: right;\n",
       "    }\n",
       "</style>\n",
       "<table border=\"1\" class=\"dataframe\">\n",
       "  <thead>\n",
       "    <tr style=\"text-align: right;\">\n",
       "      <th></th>\n",
       "      <th>性別</th>\n",
       "      <th>年齡</th>\n",
       "      <th>血壓</th>\n",
       "      <th>藥物</th>\n",
       "    </tr>\n",
       "  </thead>\n",
       "  <tbody>\n",
       "    <tr>\n",
       "      <th>0</th>\n",
       "      <td>男</td>\n",
       "      <td>20</td>\n",
       "      <td>正常</td>\n",
       "      <td>A</td>\n",
       "    </tr>\n",
       "    <tr>\n",
       "      <th>1</th>\n",
       "      <td>女</td>\n",
       "      <td>73</td>\n",
       "      <td>正常</td>\n",
       "      <td>B</td>\n",
       "    </tr>\n",
       "    <tr>\n",
       "      <th>2</th>\n",
       "      <td>男</td>\n",
       "      <td>37</td>\n",
       "      <td>高</td>\n",
       "      <td>A</td>\n",
       "    </tr>\n",
       "  </tbody>\n",
       "</table>\n",
       "</div>"
      ],
      "text/plain": [
       "  性別  年齡  血壓 藥物\n",
       "0  男  20  正常  A\n",
       "1  女  73  正常  B\n",
       "2  男  37   高  A"
      ]
     },
     "execution_count": 6,
     "metadata": {},
     "output_type": "execute_result"
    }
   ],
   "source": [
    "df.head(3)"
   ]
  },
  {
   "cell_type": "markdown",
   "id": "6f8c8c19",
   "metadata": {},
   "source": [
    "### 資料集合 𝑆 整體的亂度 - 使用藥物 A 或 B "
   ]
  },
  {
   "cell_type": "code",
   "execution_count": 7,
   "id": "9d6ac3a7",
   "metadata": {},
   "outputs": [
    {
     "name": "stdout",
     "output_type": "stream",
     "text": [
      "1.0\n"
     ]
    }
   ],
   "source": [
    "H_藥物 = -0.5*np.log2(0.5) - 0.5*np.log2(0.5)\n",
    "print(H_藥物)"
   ]
  },
  {
   "cell_type": "markdown",
   "id": "3f2e834d",
   "metadata": {},
   "source": [
    "### 子集合 「性別」 屬性亂度以及資訊獲利\n",
    "```python\n",
    "- 性別欄位有 7 個男性，5 個女性。\n",
    "- 7 個男性中，有 4 個的使用藥物是 'A'; 3 個的使用藥物是 'B'。\n",
    "- 5 個女性中，有 2 個的使用藥物是 'A'; 3 個的使用藥物是 'B'。\n",
    "- 因此，性別欄位是男性的 Entropy = (7/12) * ((-4/7)*np.log2(4/7) + (-4/3)*np.log2(3/7))\n",
    "- 因此，性別欄位是女性的 Entropy = (5/12) * ((-2/5)*np.log2(2/5) + (-3/5)*np.log2(3/5))\n",
    "```"
   ]
  },
  {
   "cell_type": "code",
   "execution_count": 8,
   "id": "c3d1c383",
   "metadata": {},
   "outputs": [
    {
     "name": "stdout",
     "output_type": "stream",
     "text": [
      "0.5747164126866467\n",
      "0.4045627476894453\n"
     ]
    }
   ],
   "source": [
    "# 性別資料子集合屬性亂度\n",
    "H_性別_男 = (7/12) * ((-4/7)*np.log2(4/7) + (-3/7)*np.log2(3/7))\n",
    "H_性別_女 = (5/12) * ((-2/5)*np.log2(2/5) + (-3/5)*np.log2(3/5))\n",
    "print(H_性別_男)\n",
    "print(H_性別_女)"
   ]
  },
  {
   "cell_type": "code",
   "execution_count": 9,
   "id": "a81231dd",
   "metadata": {},
   "outputs": [
    {
     "name": "stdout",
     "output_type": "stream",
     "text": [
      "0.979279160376092\n"
     ]
    }
   ],
   "source": [
    "H_性別 = H_性別_男 + H_性別_女\n",
    "print(H_性別)"
   ]
  },
  {
   "cell_type": "code",
   "execution_count": 10,
   "id": "403c44a3",
   "metadata": {},
   "outputs": [
    {
     "name": "stdout",
     "output_type": "stream",
     "text": [
      "性別屬性資訊獲利: 0.020720839623908027\n"
     ]
    }
   ],
   "source": [
    "print('性別屬性資訊獲利:', H_藥物 - H_性別)"
   ]
  },
  {
   "cell_type": "markdown",
   "id": "ca3ccd36",
   "metadata": {},
   "source": [
    "### 子集合「血壓」屬性亂度以及資訊獲利\n",
    "- 血壓欄位有 3 個血壓低，6 個血壓正常，3 個血壓高。\n",
    "- 3 個血壓低，都是使用藥物 'B'。\n",
    "- 6 個血壓正常，有3 個使用藥物 'A'; 3 個使用藥物 'B'。\n",
    "- 3 個血壓高，都是使用藥物 'A'。\n",
    "- 因此，血壓是低的 Entropy = (3/12) * ((-3/3)*np.log2(3/3) + 0 * np.log2(0))\n",
    "- 因此，血壓是正常的 Entropy = (6/12) * ((-3/6)*np.log2(3/6) + (-3/6)*np.log2(3/6))\n",
    "- 因此，血壓是高的 Entropy = (3/12) * ((-3/3)*np.log2(3/3) + 0 * np.log2(0))"
   ]
  },
  {
   "cell_type": "code",
   "execution_count": 11,
   "id": "e2d7e419",
   "metadata": {},
   "outputs": [],
   "source": [
    "H_血壓_低   = (3/12) * (-3/3)*np.log2(3/3) + 0\n",
    "H_血壓_正常 = (6/12) * ((-3/6)*np.log2(3/6) + (-3/6)*np.log2(3/6))\n",
    "H_血壓_高   = (3/12) * (-3/3)*np.log2(3/3) + 0"
   ]
  },
  {
   "cell_type": "code",
   "execution_count": 12,
   "id": "880dc9f8",
   "metadata": {},
   "outputs": [
    {
     "name": "stdout",
     "output_type": "stream",
     "text": [
      "0.5\n"
     ]
    }
   ],
   "source": [
    "H_血壓 = H_血壓_低 + H_血壓_正常 + H_血壓_高\n",
    "print(H_血壓)"
   ]
  },
  {
   "cell_type": "code",
   "execution_count": 13,
   "id": "29006a80",
   "metadata": {},
   "outputs": [
    {
     "name": "stdout",
     "output_type": "stream",
     "text": [
      "血壓屬性資訊獲利: 0.5\n"
     ]
    }
   ],
   "source": [
    "print('血壓屬性資訊獲利:', H_藥物 - H_血壓)"
   ]
  },
  {
   "cell_type": "markdown",
   "id": "a3433644",
   "metadata": {},
   "source": [
    "### 在「年紀」特徵值下，計算目標藥物A或B的熵"
   ]
  },
  {
   "cell_type": "code",
   "execution_count": null,
   "id": "d35fc551",
   "metadata": {},
   "outputs": [],
   "source": []
  },
  {
   "cell_type": "markdown",
   "id": "2fd26aa5",
   "metadata": {},
   "source": [
    "<hr style='border-color:brown; border-width:3px'>"
   ]
  },
  {
   "cell_type": "markdown",
   "id": "29b5dcf5",
   "metadata": {},
   "source": [
    "## 決策樹模型 - 天氣評估案例"
   ]
  },
  {
   "cell_type": "markdown",
   "id": "bead5b65",
   "metadata": {},
   "source": [
    "### 資料集合S 有14筆資料，其中有 9 個打網球正例，5 個不打網球的反例"
   ]
  },
  {
   "cell_type": "code",
   "execution_count": 14,
   "id": "c385a632",
   "metadata": {},
   "outputs": [
    {
     "name": "stdout",
     "output_type": "stream",
     "text": [
      "0.9402859586706311\n"
     ]
    }
   ],
   "source": [
    "# 天氣評估案例 - 資料集合 S 的整體亂度 (打網球) \n",
    "H_S = -9/14*np.log2(9/14) - 5/14*np.log2(5/14)\n",
    "print(H_S)"
   ]
  },
  {
   "cell_type": "markdown",
   "id": "391b38f3",
   "metadata": {},
   "source": [
    "### 子集合 wind 屬性亂度以及資訊獲利\n",
    "- wind 屬性， weak   風力有 8 筆，其中 6 筆打網球，2 筆不打網球\n",
    "- wind 屬性， strong 風力有 6 筆，其中 3 筆打網球，3 筆不打網球"
   ]
  },
  {
   "cell_type": "code",
   "execution_count": 15,
   "id": "525ed2f0",
   "metadata": {},
   "outputs": [
    {
     "name": "stdout",
     "output_type": "stream",
     "text": [
      "0.46358749969093305\n",
      "0.42857142857142855\n"
     ]
    }
   ],
   "source": [
    "# wind 資料子集合屬性亂度\n",
    "H_S_wind_weak   = 8/14 * ((-6/8)*np.log2(6/8)-(2/8)*np.log2(2/8))\n",
    "H_S_wind_strong = 6/14 * ((-3/6)*np.log2(3/6)-(3/6)*np.log2(3/6))\n",
    "print(H_S_wind_weak)\n",
    "print(H_S_wind_strong)"
   ]
  },
  {
   "cell_type": "code",
   "execution_count": 16,
   "id": "ac470182",
   "metadata": {},
   "outputs": [
    {
     "name": "stdout",
     "output_type": "stream",
     "text": [
      "wind 屬性資訊獲利: 0.04812703040826949\n"
     ]
    }
   ],
   "source": [
    "H_S_wind = H_S_wind_weak + H_S_wind_strong\n",
    "print('wind 屬性資訊獲利:', H_S - H_S_wind)"
   ]
  },
  {
   "cell_type": "markdown",
   "id": "d73ef20b",
   "metadata": {},
   "source": [
    "### 子集合 humidity 屬性亂度以及資訊獲利\n",
    "- humidity 屬性，hight 有 7 筆，其中 3 筆打網球，4 筆不打網球\n",
    "- humidity 屬性，noral 有 7 筆，其中 6 筆打網球，1 筆不打網球"
   ]
  },
  {
   "cell_type": "code",
   "execution_count": 17,
   "id": "af72af72",
   "metadata": {},
   "outputs": [
    {
     "name": "stdout",
     "output_type": "stream",
     "text": [
      "0.49261406801712576\n",
      "0.29583638929116374\n"
     ]
    }
   ],
   "source": [
    "# humidity 資料子集合屬性亂度\n",
    "H_S_humi_high   = 7/14 * ((-3/7)*np.log2(3/7)-(4/7)*np.log2(4/7))\n",
    "H_S_humi_norm = 7/14 * ((-6/7)*np.log2(6/7)-(1/7)*np.log2(1/7))\n",
    "print(H_S_humi_high)\n",
    "print(H_S_humi_norm)"
   ]
  },
  {
   "cell_type": "code",
   "execution_count": 18,
   "id": "32e2d630",
   "metadata": {},
   "outputs": [
    {
     "name": "stdout",
     "output_type": "stream",
     "text": [
      "humidity 屬性資訊獲利: 0.15183550136234159\n"
     ]
    }
   ],
   "source": [
    "H_S_humidity = H_S_humi_high + H_S_humi_norm\n",
    "print('humidity 屬性資訊獲利:', H_S - H_S_humidity)"
   ]
  },
  {
   "cell_type": "markdown",
   "id": "721f22ef",
   "metadata": {},
   "source": [
    "### 子集合 outlook 屬性亂度以及資訊獲利\n",
    "- outlook 屬性，sunny 有 5 筆，其中 2 筆打網球，3 筆不打網球\n",
    "- outlook 屬性，overcase 有 4 筆，其中 4 筆打網球，0 筆不打網球\n",
    "- outlook 屬性，rain 有 5 筆，其中 3 筆打網球，2 筆不打網球"
   ]
  },
  {
   "cell_type": "code",
   "execution_count": 22,
   "id": "2cd31298",
   "metadata": {},
   "outputs": [
    {
     "name": "stdout",
     "output_type": "stream",
     "text": [
      "0.3467680694480959\n",
      "0\n",
      "0.3467680694480959\n"
     ]
    }
   ],
   "source": [
    "H_S_outk_sunny = 5/14 * ((-2/5)*np.log2(2/5)-(3/5)*np.log2(3/5))\n",
    "#H_S_outk_ocast = 4/14 * ((-4/4)*np.log2(4/4)-(0/4)*np.log2(0/4))\n",
    "H_S_outk_ocast = 0 \n",
    "H_S_outk_rain  = 5/14 * ((-3/5)*np.log2(3/5)-(2/5)*np.log2(2/5))\n",
    "print(H_S_outk_sunny)\n",
    "print(H_S_outk_ocast)\n",
    "print(H_S_outk_rain)"
   ]
  },
  {
   "cell_type": "code",
   "execution_count": 20,
   "id": "5efb7d7a",
   "metadata": {},
   "outputs": [
    {
     "name": "stdout",
     "output_type": "stream",
     "text": [
      "humidity 屬性資訊獲利: 0.24674981977443933\n"
     ]
    }
   ],
   "source": [
    "H_S_outlook = H_S_outk_sunny + H_S_outk_ocast + H_S_outk_rain\n",
    "print('humidity 屬性資訊獲利:', H_S - H_S_outlook)"
   ]
  },
  {
   "cell_type": "markdown",
   "id": "68c0ea58",
   "metadata": {},
   "source": [
    "<hr style='border-color:brown; border-width:3px'>"
   ]
  },
  {
   "cell_type": "markdown",
   "id": "9f64ab49",
   "metadata": {},
   "source": [
    "## 決策樹模型 - 購買筆電案例"
   ]
  },
  {
   "cell_type": "markdown",
   "id": "ab7c9ba5",
   "metadata": {},
   "source": [
    "年紀 | 收入 | 學生 | 購買筆電\n",
    ":--: | :--: | :--: | :--: |\n",
    "<=30 | 高 | 否 | 否 |\n",
    "31..40 | 高 | 否 | 是 |\n",
    ">40 | 中 | 否 | 是 |\n",
    ">40 | 低 | 是 | 否 |\n",
    "31..40 | 低 | 是 | 是 |\n",
    "<=30 | 中 | 否 | 否 |\n",
    "<=30 | 低 | 是 | 是 |\n",
    "<=30 | 中 | 是 | 是 |\n",
    "31..40 | 中 | 否 | 是 |\n",
    "31..40 | 高 | 是| 是 |\n",
    ">40 | 中 | 是 | 否 |"
   ]
  },
  {
   "cell_type": "markdown",
   "id": "0f1cc4f2",
   "metadata": {},
   "source": [
    "### 資料集合S 有11筆資料，其中有 7 筆購買筆電正例，4 個不購買筆電反例"
   ]
  },
  {
   "cell_type": "code",
   "execution_count": 39,
   "id": "88beded5",
   "metadata": {},
   "outputs": [
    {
     "name": "stdout",
     "output_type": "stream",
     "text": [
      "購買筆電的整體 entropy: 0.9456603046006401\n"
     ]
    }
   ],
   "source": [
    "# 購買筆電案例 - 資料集合 S 的整體亂度 (購買筆電) \n",
    "H_S = -7/11*np.log2(7/11) - 4/11*np.log2(4/11)\n",
    "print('購買筆電的整體 entropy:', H_S)"
   ]
  },
  {
   "cell_type": "markdown",
   "id": "bf5334f1",
   "metadata": {},
   "source": [
    "### 子集合 student 屬性亂度以及資訊獲利\n",
    "- student 屬性， 是學生有 6 筆，其中 4 筆打購買筆電，2 筆不購買筆電\n",
    "- student 屬性， 不是學生有 5 筆，其中 3 筆購買筆電，2 筆不購買筆電"
   ]
  },
  {
   "cell_type": "code",
   "execution_count": 27,
   "id": "b7f9e8aa",
   "metadata": {},
   "outputs": [
    {
     "name": "stdout",
     "output_type": "stream",
     "text": [
      "0.5008886367569942\n",
      "0.4413411792975766\n"
     ]
    }
   ],
   "source": [
    "# student 資料子集合屬性亂度\n",
    "H_S_student_Y   = 6/11 * ((-4/6)*np.log2(4/6)-(2/6)*np.log2(2/6))\n",
    "H_S_student_N   = 5/11 * ((-3/5)*np.log2(3/5)-(2/5)*np.log2(2/5))\n",
    "print(H_S_student_Y)\n",
    "print(H_S_student_N)"
   ]
  },
  {
   "cell_type": "code",
   "execution_count": 35,
   "id": "6c8dca23",
   "metadata": {},
   "outputs": [
    {
     "name": "stdout",
     "output_type": "stream",
     "text": [
      "student 的 entropy: 0.9422298160545708\n",
      "student 屬性資訊獲利: 0.00343048854606931\n"
     ]
    }
   ],
   "source": [
    "H_S_student = H_S_student_Y + H_S_student_N\n",
    "print('student 的 entropy:', H_S_student)\n",
    "print('student 屬性資訊獲利:', H_S - H_S_student)"
   ]
  },
  {
   "cell_type": "markdown",
   "id": "6d58d761",
   "metadata": {},
   "source": [
    "### 子集合 income 屬性亂度以及資訊獲利\n",
    "- income 屬性，高的筆數有 3 筆，其中 2 筆購買筆電，1 筆不購買\n",
    "- income 屬性，中的筆數有 5 筆，其中 3 筆購買筆電，2 筆不購買\n",
    "- income 屬性，低的筆數有 3 筆，其中 2 筆購買筆電，1 筆不購買"
   ]
  },
  {
   "cell_type": "code",
   "execution_count": 29,
   "id": "78f22977",
   "metadata": {},
   "outputs": [
    {
     "name": "stdout",
     "output_type": "stream",
     "text": [
      "0.2504443183784971\n",
      "0.4413411792975766\n",
      "0.2504443183784971\n"
     ]
    }
   ],
   "source": [
    "# income 資料子集合屬性亂度\n",
    "H_S_income_H   = 3/11 * ((-2/3)*np.log2(2/3)-(1/3)*np.log2(1/3)) # 高收入\n",
    "H_S_income_M   = 5/11 * ((-3/5)*np.log2(3/5)-(2/5)*np.log2(2/5)) # 中收入\n",
    "H_S_income_L   = 3/11 * ((-2/3)*np.log2(2/3)-(1/3)*np.log2(1/3)) # 低收入\n",
    "print(H_S_income_H)\n",
    "print(H_S_income_M)\n",
    "print(H_S_income_L)"
   ]
  },
  {
   "cell_type": "code",
   "execution_count": 37,
   "id": "0251567f",
   "metadata": {},
   "outputs": [
    {
     "name": "stdout",
     "output_type": "stream",
     "text": [
      "income 的 entropy: 0.9422298160545709\n",
      "income 屬性資訊獲利: 0.003430488546069199\n"
     ]
    }
   ],
   "source": [
    "H_S_income = H_S_income_H + H_S_income_M + H_S_income_L\n",
    "print('income 的 entropy:', H_S_income)\n",
    "print('income 屬性資訊獲利:', H_S - H_S_income)"
   ]
  },
  {
   "cell_type": "markdown",
   "id": "33322497",
   "metadata": {},
   "source": [
    "### 子集合 age 屬性亂度以及資訊獲利\n",
    "- age 屬性，<=30 的筆數有 4 筆，其中 2 筆購買筆電，2 筆不購買\n",
    "- age 屬性，31..40 的筆數有 4 筆，其中 4 筆購買筆電，0 筆不購買\n",
    "- age 屬性，>40 的筆數有 3 筆，其中 1 筆購買筆電，2 筆不購買"
   ]
  },
  {
   "cell_type": "code",
   "execution_count": 31,
   "id": "2b73c728",
   "metadata": {},
   "outputs": [
    {
     "name": "stdout",
     "output_type": "stream",
     "text": [
      "0.36363636363636365\n",
      "0\n",
      "0.2504443183784971\n"
     ]
    }
   ],
   "source": [
    "# age 資料子集合屬性亂度\n",
    "H_S_age_L = 4/11 * ((-2/4)*np.log2(2/4)-(2/4)*np.log2(2/4)) #  年紀 <= 30\n",
    "#H_S_age_M = 4/11 * ((-4/4)*np.log2(4/4)-(0/4)*np.log2(0/4)) # 年紀 31..40\n",
    "H_S_age_M = 0\n",
    "H_S_age_H = 3/11 * ((-1/3)*np.log2(1/3)-(2/3)*np.log2(2/3)) # 年紀 > 40\n",
    "print(H_S_age_L)\n",
    "print(H_S_age_M)\n",
    "print(H_S_age_H)"
   ]
  },
  {
   "cell_type": "code",
   "execution_count": 36,
   "id": "76a58ac8",
   "metadata": {},
   "outputs": [
    {
     "name": "stdout",
     "output_type": "stream",
     "text": [
      "age 的 entropy: 0.6140806820148608\n",
      "age 屬性資訊獲利: 0.33157962258577933\n"
     ]
    }
   ],
   "source": [
    "H_S_age = H_S_age_L + H_S_age_M + H_S_age_H\n",
    "print('age 的 entropy:', H_S_age)\n",
    "print('age 屬性資訊獲利:', H_S - H_S_age)"
   ]
  },
  {
   "cell_type": "markdown",
   "id": "df22fc12",
   "metadata": {},
   "source": [
    "### 由上述的計算可得知個特徵值的資訊獲利如下:\n",
    "- 特徵值 student 的資訊獲利= \n",
    "- 特徵值 income 的資訊獲利= 0.003430488546069199\n",
    "- 特徵值 age 的資訊獲利= 0.33157962258577933\n",
    "### 從以上的計算結果，若欲決策數的方式呈現，則根節點應該優先選擇 age 特徵，因為可以帶來最佳的分類結果。"
   ]
  }
 ],
 "metadata": {
  "kernelspec": {
   "display_name": "Python 3",
   "language": "python",
   "name": "python3"
  },
  "language_info": {
   "codemirror_mode": {
    "name": "ipython",
    "version": 3
   },
   "file_extension": ".py",
   "mimetype": "text/x-python",
   "name": "python",
   "nbconvert_exporter": "python",
   "pygments_lexer": "ipython3",
   "version": "3.8.10"
  }
 },
 "nbformat": 4,
 "nbformat_minor": 5
}
