{
 "cells": [
  {
   "cell_type": "markdown",
   "id": "b12b196d",
   "metadata": {},
   "source": [
    "# 機器學習 - 回歸模型 (Regression Model) (2)\n",
    "- 2022 機器學習 Summer Session 教材 (師培中心)<br>\n",
    "- @ 台南應用科技大學 資管系 杜主民"
   ]
  },
  {
   "cell_type": "markdown",
   "id": "ab41ce5d",
   "metadata": {},
   "source": [
    "## Regulization 正規化 - Ridge Regression"
   ]
  },
  {
   "cell_type": "code",
   "execution_count": 2,
   "id": "525774bd",
   "metadata": {},
   "outputs": [],
   "source": [
    "import numpy as np\n",
    "import pandas as pd\n",
    "import matplotlib.pyplot as plt"
   ]
  },
  {
   "cell_type": "code",
   "execution_count": 12,
   "id": "8572967b",
   "metadata": {},
   "outputs": [
    {
     "name": "stdout",
     "output_type": "stream",
     "text": [
      "Linear Regression r2= 0.61\n",
      "Ridge Regression r2= 0.51\n"
     ]
    }
   ],
   "source": [
    "from sklearn.linear_model import LinearRegression\n",
    "from sklearn.linear_model import Ridge\n",
    "n_samples, n_features = 15, 10        \n",
    "rng = np.random.RandomState(1)\n",
    "X = rng.randn(n_samples, n_features)  # 產生 15 列，每列 10 欄位的常態分佈亂數\n",
    "y = rng.randn(n_samples)\n",
    "\n",
    "lr = LinearRegression()\n",
    "lr.fit(X, y)\n",
    "r2 = lr.score(X,y)\n",
    "print(f'Linear Regression r2= {np.round(r2,2)}')\n",
    "\n",
    "rdg = Ridge(alpha = 0.5)  # alpha is tuning parameter - penalize the model\n",
    "rdg.fit(X, y)\n",
    "r2 = rdg.score(X,y)\n",
    "print(f'Ridge Regression r2= {np.round(r2,2)}')"
   ]
  },
  {
   "cell_type": "markdown",
   "id": "3bfc8e6f",
   "metadata": {},
   "source": [
    "### 測試不同的懲罰值對 Ridge Regression 的影響"
   ]
  },
  {
   "cell_type": "code",
   "execution_count": 13,
   "id": "28073fee",
   "metadata": {},
   "outputs": [
    {
     "name": "stdout",
     "output_type": "stream",
     "text": [
      "Alpha: 1.0, Ridge Regression r2: 0.47\n",
      "Alpha: 0.9, Ridge Regression r2: 0.48\n",
      "Alpha: 0.8, Ridge Regression r2: 0.48\n",
      "Alpha: 0.7, Ridge Regression r2: 0.49\n",
      "Alpha: 0.6, Ridge Regression r2: 0.5\n",
      "Alpha: 0.5, Ridge Regression r2: 0.51\n",
      "Alpha: 0.4, Ridge Regression r2: 0.52\n",
      "Alpha: 0.3, Ridge Regression r2: 0.53\n",
      "Alpha: 0.2, Ridge Regression r2: 0.55\n",
      "Alpha: 0.1, Ridge Regression r2: 0.58\n"
     ]
    }
   ],
   "source": [
    "n_samples, n_features = 15, 10        \n",
    "rng = np.random.RandomState(1)\n",
    "X = rng.randn(n_samples, n_features)   # 產生 15 列，每列 10 欄位的常態分佈亂數\n",
    "y = rng.randn(n_samples)\n",
    "\n",
    "Ridge_alpha = np.linspace(1.0, 0.1, 10)  # 產生 10 個懲罰項 alpha，從 1.5 ~ 0.6\n",
    "for alpha in Ridge_alpha:\n",
    "    rdg = Ridge(alpha = alpha) # alpha is tuning parameter - penalize the model\n",
    "    rdg.fit(X, y)\n",
    "    r2 = rdg.score(X,y)\n",
    "    print(f'Alpha: {np.round(alpha,2)}, Ridge Regression r2: {np.round(r2,2)}')"
   ]
  },
  {
   "cell_type": "markdown",
   "id": "4b5b6cf9",
   "metadata": {},
   "source": [
    "### 比較 Linear Regression 和 Ridge Regression 對尚未訓練過的資料的測試結果"
   ]
  },
  {
   "cell_type": "markdown",
   "id": "56e15fd2",
   "metadata": {},
   "source": [
    "### 訓練資料"
   ]
  },
  {
   "cell_type": "code",
   "execution_count": 14,
   "id": "0d7d5227",
   "metadata": {},
   "outputs": [
    {
     "name": "stdout",
     "output_type": "stream",
     "text": [
      "Linear Regression r2= 0.61\n",
      "Ridge Regression r2= 0.51\n"
     ]
    }
   ],
   "source": [
    "n_samples, n_features = 15, 10        \n",
    "rng = np.random.RandomState(1)         # 訓練資料的亂數種子是 1\n",
    "X = rng.randn(n_samples, n_features)   # 產生 15 列，每列 10 欄位的常態分佈亂數\n",
    "y = rng.randn(n_samples)\n",
    "\n",
    "lr = LinearRegression()   # Linear Regression\n",
    "lr.fit(X, y)\n",
    "r2 = lr.score(X,y)\n",
    "print(f'Linear Regression r2= {np.round(r2,2)}')\n",
    "\n",
    "rdg = Ridge(alpha = 0.5)  # Ridge Regression\n",
    "rdg.fit(X, y)\n",
    "r2 = rdg.score(X,y)\n",
    "print(f'Ridge Regression r2= {np.round(r2,2)}')"
   ]
  },
  {
   "cell_type": "markdown",
   "id": "f067fe02",
   "metadata": {},
   "source": [
    "### 測試資料\n",
    "- 選用和訓練資料不同的隨機種子\n",
    "- Linear Regression 使用訓練資料的 `lr` model 物件\n",
    "- Ridge Regression 也用和訓練相同的資料集\n",
    "- 資料的筆數和特徵值相同"
   ]
  },
  {
   "cell_type": "code",
   "execution_count": 15,
   "id": "64ed6430",
   "metadata": {},
   "outputs": [
    {
     "name": "stdout",
     "output_type": "stream",
     "text": [
      "Linear Regression r2= -16.21\n",
      "Ridge Regression r2= 0.75\n"
     ]
    }
   ],
   "source": [
    "n_samples, n_features = 15, 10    \n",
    "rng = np.random.RandomState(2)         # 訓練資料的亂數種子是 2\n",
    "X = rng.randn(n_samples, n_features)   # 產生 15 列，每列 10 欄位的常態分佈亂數\n",
    "y = rng.randn(n_samples)\n",
    "\n",
    "r2 = lr.score(X, y)       # 使用訓練資料的 `lr` model 物件\n",
    "print(f'Linear Regression r2= {np.round(r2, 2)}')\n",
    "\n",
    "rdg = Ridge(alpha = 0.5)  \n",
    "rdg.fit(X, y)\n",
    "r2 = rdg.score(X,y)\n",
    "print(f'Ridge Regression r2= {np.round(r2,2)}')"
   ]
  },
  {
   "cell_type": "markdown",
   "id": "79a6ed17",
   "metadata": {},
   "source": [
    "### 上述可以看出 Linear Regression 對尚未訓練過的資料的決定係數 $r^2$ 明顯小於 Ridge Regression 的決定係數 $r^2$。\n",
    "### 意味著對單純採用最小平方法的 Linear Regression，雖然在訓練資料的 $r^2=0.61$ 優於 Ridge Regression；但測試資料的 Variance 很高，其 $r^2=-16.21$，而 Ridge Regression 在測試資料仍能保持較佳的 Variance，其  $r^2=0.75$ 明顯優於 Linear Regression。\n",
    "\n",
    "<a href='https://help.mobagel.com/zh-TW/support/solutions/articles/47000741407-%E7%82%BA%E4%BB%80%E9%BA%BC%E6%9C%89%E4%BA%9B%E6%A8%A1%E5%9E%8B%E7%9A%84%E6%B1%BA%E5%AE%9A%E4%BF%82%E6%95%B8-r-squared-%E6%95%B8%E5%80%BC%E6%98%AF%E8%B2%A0%E6%95%B8-'>為什麼決定係數 r^2 會小於 0</a>"
   ]
  },
  {
   "cell_type": "markdown",
   "id": "228dcc48",
   "metadata": {},
   "source": [
    "## Regulization 正規化 - Lasso Regression"
   ]
  },
  {
   "cell_type": "code",
   "execution_count": 16,
   "id": "d01b98f9",
   "metadata": {},
   "outputs": [
    {
     "name": "stdout",
     "output_type": "stream",
     "text": [
      "Linear Regression r2= 0.61\n",
      "Lasso Regression r2= 0.33\n"
     ]
    }
   ],
   "source": [
    "from sklearn.linear_model import LinearRegression\n",
    "from sklearn.linear_model import Lasso\n",
    "n_samples, n_features = 15, 10        \n",
    "rng = np.random.RandomState(1)\n",
    "X = rng.randn(n_samples, n_features)   # 產生 15 列，每列 10 欄位的常態分佈亂數\n",
    "y = rng.randn(n_samples)\n",
    "\n",
    "lr = LinearRegression()\n",
    "lr.fit(X, y)\n",
    "r2 = lr.score(X,y)\n",
    "print(f'Linear Regression r2= {np.round(r2,2)}')\n",
    "\n",
    "lso = Lasso(alpha = 0.1)  # alpha is tuning parameter - penalize the model\n",
    "lso.fit(X, y)\n",
    "r2 = lso.score(X,y)\n",
    "print(f'Lasso Regression r2= {np.round(r2,2)}')"
   ]
  },
  {
   "cell_type": "markdown",
   "id": "7b6f40cf",
   "metadata": {},
   "source": [
    "### 檢查 Lasso Regression 訓練後的參數 `coef_`\n",
    "- Lasso 與 Ridge 有一點很大差異，Lasso 的各個參數有可能會降低至 0，亦即有 feature selection 的能力，但 Ridge 的斜率只會接近於 0\n",
    "- 此案例可見到部分欄位的參數斜率是 0"
   ]
  },
  {
   "cell_type": "code",
   "execution_count": 17,
   "id": "afdc20c0",
   "metadata": {},
   "outputs": [
    {
     "data": {
      "text/plain": [
       "array([-0.35999253,  0.        , -0.        ,  0.        , -0.12667645,\n",
       "        0.02161333, -0.        ,  0.18285927,  0.        ,  0.        ])"
      ]
     },
     "execution_count": 17,
     "metadata": {},
     "output_type": "execute_result"
    }
   ],
   "source": [
    "lso.coef_"
   ]
  },
  {
   "cell_type": "code",
   "execution_count": null,
   "id": "d6b5776b",
   "metadata": {},
   "outputs": [],
   "source": []
  },
  {
   "cell_type": "markdown",
   "id": "2f84c6ae",
   "metadata": {},
   "source": [
    "### Lasso Regression 使用 Boston house dataset"
   ]
  },
  {
   "cell_type": "code",
   "execution_count": 38,
   "id": "fb80ab4a",
   "metadata": {},
   "outputs": [
    {
     "name": "stdout",
     "output_type": "stream",
     "text": [
      "訓練資料 r^2=0.6899591642958296, 測試資料 r^2=0.6559060829154338\n"
     ]
    }
   ],
   "source": [
    "from sklearn import datasets\n",
    "from sklearn.linear_model import Lasso\n",
    "from sklearn.model_selection import train_test_split\n",
    "\n",
    "#  Load the Boston Data Set\n",
    "bh = datasets.load_boston()\n",
    "X = bh.data\n",
    "y = bh.target\n",
    "\n",
    "# Create training and test split\n",
    "X_train, X_test, y_train, y_test = train_test_split(X, y, test_size=0.3, random_state=42)\n",
    "\n",
    "# Create an instance of Lasso Regression implementation\n",
    "lasso = Lasso(alpha=1.0)\n",
    "\n",
    "# Fit the Lasso model\n",
    "lasso.fit(X_train, y_train)\n",
    "\n",
    "# Create the model score\n",
    "print(f'訓練資料 r^2={lasso.score(X_train, y_train)}, 測試資料 r^2={lasso.score(X_test, y_test)}')"
   ]
  },
  {
   "cell_type": "code",
   "execution_count": 39,
   "id": "2dacd2c7",
   "metadata": {},
   "outputs": [
    {
     "data": {
      "text/plain": [
       "array([-0.09191567,  0.03466685, -0.        ,  0.        , -0.        ,\n",
       "        1.28131738,  0.01143974, -0.61602099,  0.19150077, -0.00954028,\n",
       "       -0.70335005,  0.01083224, -0.77992069])"
      ]
     },
     "execution_count": 39,
     "metadata": {},
     "output_type": "execute_result"
    }
   ],
   "source": [
    "lasso.coef_"
   ]
  },
  {
   "cell_type": "markdown",
   "id": "1718eac2",
   "metadata": {},
   "source": [
    "### 導入 Lasso Regression，得出訓練模型結果，再關心模型的係數 (coef_，代表各個 feature 在模型完成訓練後的斜率)，會發現一個有趣的結果! 有幾個 feature 的 coef_ 值為 0。\n",
    "- 這三個 features 是['INDUS','CHAS','NOX']\n",
    "- 為什麼 Lasso Regression 在計算時會自動將這三個 feature 設為 0 呢? \n",
    "```python\n",
    "Lasso Regression is a machine learning algorithm that can be used to perform linear regression while also reducing the number of features used in the model.\n",
    "Lasso regression is used in machine learning to prevent overfitting. It is also used to select features by setting coefficients to zero.\n",
    "```"
   ]
  },
  {
   "cell_type": "code",
   "execution_count": null,
   "id": "25b44e2b",
   "metadata": {},
   "outputs": [],
   "source": []
  },
  {
   "cell_type": "code",
   "execution_count": null,
   "id": "37fcbde5",
   "metadata": {},
   "outputs": [],
   "source": []
  },
  {
   "cell_type": "code",
   "execution_count": null,
   "id": "f1080c0b",
   "metadata": {},
   "outputs": [],
   "source": []
  },
  {
   "cell_type": "code",
   "execution_count": null,
   "id": "e2d2a9f2",
   "metadata": {},
   "outputs": [],
   "source": []
  },
  {
   "cell_type": "code",
   "execution_count": null,
   "id": "b5236b3f",
   "metadata": {},
   "outputs": [],
   "source": []
  },
  {
   "cell_type": "markdown",
   "id": "d965b7e9",
   "metadata": {},
   "source": [
    "### Ridge Regression 使用 Boston house dataset"
   ]
  },
  {
   "cell_type": "code",
   "execution_count": 32,
   "id": "41e25a4b",
   "metadata": {},
   "outputs": [
    {
     "name": "stdout",
     "output_type": "stream",
     "text": [
      "訓練資料 r^2=0.7415671063241829, 測試資料 r^2=0.7041586727559437\n"
     ]
    }
   ],
   "source": [
    "from sklearn import datasets\n",
    "from sklearn.linear_model import Ridge\n",
    "from sklearn.model_selection import train_test_split\n",
    "\n",
    "#  Load the Boston Data Set\n",
    "bh = datasets.load_boston()\n",
    "X = bh.data\n",
    "y = bh.target\n",
    "\n",
    "# Create training and test split\n",
    "X_train, X_test, y_train, y_test = train_test_split(X, y, test_size=0.3, random_state=42)\n",
    "\n",
    "# Create an instance of Lasso Regression implementation\n",
    "ridge = Ridge(alpha=1.0)\n",
    "\n",
    "# Fit the Lasso model\n",
    "ridge.fit(X_train, y_train)\n",
    "\n",
    "# Create the model score\n",
    "print(f'訓練資料 r^2={ridge.score(X_train, y_train)}, 測試資料 r^2={ridge.score(X_test, y_test)}')"
   ]
  },
  {
   "cell_type": "markdown",
   "id": "426d2db3",
   "metadata": {},
   "source": [
    "### Linear Regression 使用 Boston house dataset"
   ]
  },
  {
   "cell_type": "code",
   "execution_count": 33,
   "id": "67240f80",
   "metadata": {},
   "outputs": [
    {
     "name": "stdout",
     "output_type": "stream",
     "text": [
      "訓練資料 r^2=0.7434997532004697, 測試資料 r^2=0.711226005748496\n"
     ]
    }
   ],
   "source": [
    "from sklearn import datasets\n",
    "from sklearn.linear_model import LinearRegression\n",
    "from sklearn.model_selection import train_test_split\n",
    "\n",
    "#  Load the Boston Data Set\n",
    "bh = datasets.load_boston()\n",
    "X = bh.data\n",
    "y = bh.target\n",
    "\n",
    "# Create training and test split\n",
    "X_train, X_test, y_train, y_test = train_test_split(X, y, test_size=0.3, random_state=42)\n",
    "\n",
    "# Create an instance of Lasso Regression implementation\n",
    "lr = LinearRegression()\n",
    "\n",
    "# Fit the Lasso model\n",
    "lr.fit(X_train, y_train)\n",
    "\n",
    "# Create the model score\n",
    "print(f'訓練資料 r^2={lr.score(X_train, y_train)}, 測試資料 r^2={lr.score(X_test, y_test)}')"
   ]
  },
  {
   "cell_type": "code",
   "execution_count": null,
   "id": "36b1b6f5",
   "metadata": {},
   "outputs": [],
   "source": []
  },
  {
   "cell_type": "markdown",
   "id": "cb2231d6",
   "metadata": {},
   "source": [
    "## 練習題三\n",
    "- 使用 sklearn 的 Boston House 資料集。\n",
    "- 請載入 `from sklearn.datasets import load_boston`，再執行 `load_boston()`函數，建立資料集物件變數, e.g., `boston_dataset=load_boston()`.\n",
    "- boston_dataset 物件有幾個屬性:\n",
    "    - data: 特徵值資料\n",
    "    - DESCR: 描述性敘述\n",
    "    - feature_names: 欄位名稱 (請參考底下說明)\n",
    "    - target: 目標值\n",
    "- 請將 data 當成 features 欄位；將 target 屬性當成目標。\n"
   ]
  },
  {
   "cell_type": "markdown",
   "id": "95e992e3",
   "metadata": {},
   "source": [
    "- CRIM :每個城鎮的人均犯罪率 (per capita crime rate by town)\n",
    "- ZN : 佔地25,000平方英尺以上的住宅區域比例(proportion of residential land zoned for lots over 25,000 sq.ft.)\n",
    "- INDUS : 每個城鎮非零售業的營業面積比例(proportion of non-retail business acres per town)\n",
    "- CHAS : 是否靠近河邊(Charles River dummy variable (= 1 if tract bounds river; 0 otherwise))\n",
    "- NOX : 一氧化氮濃度（ppm)(nitric oxides concentration (parts per 10 million))\n",
    "- RM : 每個住宅的平均房間數(average number of rooms per dwelling)\n",
    "- AGE : 1940年前私有住宅的住房比率(proportion of owner-occupied units built prior to 1940)\n",
    "- DIS : 與五個波士頓就業中心的加權距離(weighted distances to five Boston employment centres)\n",
    "- RAD : 徑向公路的通達指數(index of accessibility to radial highways)\n",
    "- TAX : 每10,000美元的所需繳的財產稅(full-value property-tax rate per 10,000)\n",
    "- PTRATIO : 每個城鎮的師生比例(pupil-teacher ratio by town)\n",
    "- B : 黑人比例(值為$1000(Bk-0.63)^2$ where Bk is the proportion of blacks by town)\n",
    "- LSTAT : 中下階級的比率(% lower status of the population)"
   ]
  },
  {
   "cell_type": "markdown",
   "id": "4b7e1b7e",
   "metadata": {},
   "source": [
    "### 題目\n",
    "1. 請分割訓練和測試資料後執行Linear Regression，Ridge Regression，以及 Lasso Regression，檢驗訓練資料和測試資料的 $r^2$。\n",
    "2. 依據資料集的 feature_names 欄位名稱，只取 CRIM 此欄位大於等於 2 的資料當成 training data，其餘的資料當成 testing data。\n",
    "3. 請將 `NOX`, `INDUS`, `TAX`, `LSTAT` 欄位當 features，MEDV 是 target，將資料分成 60% traiing data, 40% testing data，請計算Linear Regression，Ridge Regression 的 $r^2$"
   ]
  },
  {
   "cell_type": "code",
   "execution_count": 44,
   "id": "a6da6f06",
   "metadata": {},
   "outputs": [],
   "source": [
    "import numpy as np\n",
    "import pandas as pd\n",
    "import matplotlib.pyplot as plt\n",
    "from sklearn.linear_model import LinearRegression\n",
    "import seaborn as sns\n",
    "from sklearn.datasets import load_boston"
   ]
  },
  {
   "cell_type": "code",
   "execution_count": 45,
   "id": "a646500a",
   "metadata": {},
   "outputs": [],
   "source": [
    "boston_dataset = load_boston()\n",
    "boston = pd.DataFrame(boston_dataset.data, columns=boston_dataset.feature_names)\n",
    "\n",
    "# 新增 target 欄位名稱 MEDV\n",
    "boston['MEDV'] = boston_dataset.target"
   ]
  },
  {
   "cell_type": "code",
   "execution_count": 47,
   "id": "672063cd",
   "metadata": {},
   "outputs": [
    {
     "data": {
      "text/html": [
       "<div>\n",
       "<style scoped>\n",
       "    .dataframe tbody tr th:only-of-type {\n",
       "        vertical-align: middle;\n",
       "    }\n",
       "\n",
       "    .dataframe tbody tr th {\n",
       "        vertical-align: top;\n",
       "    }\n",
       "\n",
       "    .dataframe thead th {\n",
       "        text-align: right;\n",
       "    }\n",
       "</style>\n",
       "<table border=\"1\" class=\"dataframe\">\n",
       "  <thead>\n",
       "    <tr style=\"text-align: right;\">\n",
       "      <th></th>\n",
       "      <th>CRIM</th>\n",
       "      <th>ZN</th>\n",
       "      <th>INDUS</th>\n",
       "      <th>CHAS</th>\n",
       "      <th>NOX</th>\n",
       "      <th>RM</th>\n",
       "      <th>AGE</th>\n",
       "      <th>DIS</th>\n",
       "      <th>RAD</th>\n",
       "      <th>TAX</th>\n",
       "      <th>PTRATIO</th>\n",
       "      <th>B</th>\n",
       "      <th>LSTAT</th>\n",
       "      <th>MEDV</th>\n",
       "    </tr>\n",
       "  </thead>\n",
       "  <tbody>\n",
       "    <tr>\n",
       "      <th>0</th>\n",
       "      <td>0.00632</td>\n",
       "      <td>18.0</td>\n",
       "      <td>2.31</td>\n",
       "      <td>0.0</td>\n",
       "      <td>0.538</td>\n",
       "      <td>6.575</td>\n",
       "      <td>65.2</td>\n",
       "      <td>4.0900</td>\n",
       "      <td>1.0</td>\n",
       "      <td>296.0</td>\n",
       "      <td>15.3</td>\n",
       "      <td>396.90</td>\n",
       "      <td>4.98</td>\n",
       "      <td>24.0</td>\n",
       "    </tr>\n",
       "    <tr>\n",
       "      <th>1</th>\n",
       "      <td>0.02731</td>\n",
       "      <td>0.0</td>\n",
       "      <td>7.07</td>\n",
       "      <td>0.0</td>\n",
       "      <td>0.469</td>\n",
       "      <td>6.421</td>\n",
       "      <td>78.9</td>\n",
       "      <td>4.9671</td>\n",
       "      <td>2.0</td>\n",
       "      <td>242.0</td>\n",
       "      <td>17.8</td>\n",
       "      <td>396.90</td>\n",
       "      <td>9.14</td>\n",
       "      <td>21.6</td>\n",
       "    </tr>\n",
       "    <tr>\n",
       "      <th>2</th>\n",
       "      <td>0.02729</td>\n",
       "      <td>0.0</td>\n",
       "      <td>7.07</td>\n",
       "      <td>0.0</td>\n",
       "      <td>0.469</td>\n",
       "      <td>7.185</td>\n",
       "      <td>61.1</td>\n",
       "      <td>4.9671</td>\n",
       "      <td>2.0</td>\n",
       "      <td>242.0</td>\n",
       "      <td>17.8</td>\n",
       "      <td>392.83</td>\n",
       "      <td>4.03</td>\n",
       "      <td>34.7</td>\n",
       "    </tr>\n",
       "  </tbody>\n",
       "</table>\n",
       "</div>"
      ],
      "text/plain": [
       "      CRIM    ZN  INDUS  CHAS    NOX     RM   AGE     DIS  RAD    TAX  \\\n",
       "0  0.00632  18.0   2.31   0.0  0.538  6.575  65.2  4.0900  1.0  296.0   \n",
       "1  0.02731   0.0   7.07   0.0  0.469  6.421  78.9  4.9671  2.0  242.0   \n",
       "2  0.02729   0.0   7.07   0.0  0.469  7.185  61.1  4.9671  2.0  242.0   \n",
       "\n",
       "   PTRATIO       B  LSTAT  MEDV  \n",
       "0     15.3  396.90   4.98  24.0  \n",
       "1     17.8  396.90   9.14  21.6  \n",
       "2     17.8  392.83   4.03  34.7  "
      ]
     },
     "execution_count": 47,
     "metadata": {},
     "output_type": "execute_result"
    }
   ],
   "source": [
    "boston.head(3)"
   ]
  },
  {
   "cell_type": "code",
   "execution_count": 103,
   "id": "06b6aba0",
   "metadata": {},
   "outputs": [],
   "source": [
    "X_train = boston[boston['CRIM'] <= 1.5].CRIM\n",
    "y_train = boston[boston['CRIM'] <= 1.5].MEDV\n",
    "X_test = boston[boston['CRIM'] > 1.5].CRIM\n",
    "y_test = boston[boston['CRIM'] > 1.5].MEDV"
   ]
  },
  {
   "cell_type": "code",
   "execution_count": 104,
   "id": "2ee6ec86",
   "metadata": {},
   "outputs": [],
   "source": [
    "# X_train = X_train[:,np.newaxis]\n",
    "X_train = np.array(X_train).reshape(len(X_train),1)\n",
    "X_test = np.array(X_test).reshape(len(X_test),1)"
   ]
  },
  {
   "cell_type": "code",
   "execution_count": 105,
   "id": "6c5d64e3",
   "metadata": {},
   "outputs": [
    {
     "name": "stdout",
     "output_type": "stream",
     "text": [
      "(350, 1)\n",
      "(350,)\n",
      "(156, 1)\n",
      "(156,)\n"
     ]
    }
   ],
   "source": [
    "print(X_train.shape)\n",
    "print(y_train.shape)\n",
    "print(X_test.shape)\n",
    "print(y_test.shape)"
   ]
  },
  {
   "cell_type": "code",
   "execution_count": 108,
   "id": "e1c6ed6a",
   "metadata": {},
   "outputs": [
    {
     "name": "stdout",
     "output_type": "stream",
     "text": [
      "訓練資料 r^2=0.015065966097820516, 測試資料 r^2=-24.520731158538165\n"
     ]
    }
   ],
   "source": [
    "from sklearn.linear_model import LinearRegression\n",
    "lr = LinearRegression()\n",
    "lr.fit(X_train, y_train)\n",
    "print(f'訓練資料 r^2={lr.score(X_train, y_train)}, 測試資料 r^2={lr.score(X_test, y_test)}')"
   ]
  },
  {
   "cell_type": "code",
   "execution_count": 109,
   "id": "52fbfb82",
   "metadata": {},
   "outputs": [
    {
     "name": "stdout",
     "output_type": "stream",
     "text": [
      "訓練資料 r^2=0.014820245263087894, 測試資料 r^2=-17.778040520848833\n"
     ]
    }
   ],
   "source": [
    "from sklearn.linear_model import Ridge\n",
    "rdg = Ridge(alpha=5)\n",
    "rdg.fit(X_train, y_train)\n",
    "print(f'訓練資料 r^2={rdg.score(X_train, y_train)}, 測試資料 r^2={rdg.score(X_test, y_test)}')"
   ]
  },
  {
   "cell_type": "markdown",
   "id": "d16e27be",
   "metadata": {},
   "source": [
    "<hr style='border-color:brown; border-width:3px'>"
   ]
  },
  {
   "cell_type": "markdown",
   "id": "d7eb6da0",
   "metadata": {},
   "source": [
    "## 多項式迴歸 Polynomial Regression\n",
    "- 多項式迴歸是迴歸分析的一種形式，其中特徵自變數 x 和目標因變量 y 之間不適合使用直線迴歸線來捕捉資料間的趨勢。\n",
    "- 當特徵自變數與目標之間的關係是彎曲的線條，透過多項式迴歸可建構趨勢曲線貼合資料間的型態。\n",
    "- 例如 $f(x) = x^2 + 2sin(x)$，$f(x)$ 是 x 的 2 次多項式。\n",
    "- 多項式迴歸是欲擬合 x 的值與 f(x) 之間的非直線關係。"
   ]
  },
  {
   "cell_type": "code",
   "execution_count": 1,
   "id": "632fb457",
   "metadata": {},
   "outputs": [],
   "source": [
    "import numpy as np\n",
    "import pandas as pd\n",
    "import matplotlib.pyplot as plt\n",
    "from sklearn.linear_model import LinearRegression\n",
    "plt.rcParams['figure.figsize']=[7,5]"
   ]
  },
  {
   "cell_type": "markdown",
   "id": "5d72a81a",
   "metadata": {},
   "source": [
    "### $x^2 + 20sin(x)$"
   ]
  },
  {
   "cell_type": "code",
   "execution_count": 2,
   "id": "fd5b1a8a",
   "metadata": {},
   "outputs": [
    {
     "data": {
      "text/plain": [
       "<matplotlib.legend.Legend at 0x24a7a6d1070>"
      ]
     },
     "execution_count": 2,
     "metadata": {},
     "output_type": "execute_result"
    },
    {
     "data": {
      "image/png": "[encoded data removed]",
      "text/plain": [
       "<Figure size 504x360 with 1 Axes>"
      ]
     },
     "metadata": {
      "needs_background": "light"
     },
     "output_type": "display_data"
    }
   ],
   "source": [
    "x = np.linspace(-8, 8, 200)\n",
    "f_x = [np.power(i, 2) + 20 * np.math.sin(i) for i in x]\n",
    "plt.plot(x, f_x, c='r', label='$x^2+20sin(x)$')\n",
    "plt.ylim(-30, 60)\n",
    "plt.grid(True)\n",
    "plt.legend(fontsize=13)"
   ]
  },
  {
   "cell_type": "markdown",
   "id": "ab7f130b",
   "metadata": {},
   "source": [
    "### 產生 20 筆數值模擬多項式的分布"
   ]
  },
  {
   "cell_type": "code",
   "execution_count": 3,
   "id": "d5ee31d9",
   "metadata": {},
   "outputs": [],
   "source": [
    "import numpy as np\n",
    "import matplotlib.pyplot as plt\n",
    "plt.rcParams['figure.figsize']=[7,5]"
   ]
  },
  {
   "cell_type": "code",
   "execution_count": 4,
   "id": "4c962ea0",
   "metadata": {},
   "outputs": [
    {
     "data": {
      "image/png": "[encoded data removed]",
      "text/plain": [
       "<Figure size 504x360 with 1 Axes>"
      ]
     },
     "metadata": {
      "needs_background": "light"
     },
     "output_type": "display_data"
    }
   ],
   "source": [
    "# 產生 20 筆隨機值\n",
    "np.random.seed(0)\n",
    "x = 2 - 3 * np.random.normal(0, 1, 20)\n",
    "y = x - 2 * (x ** 2) + 0.5 * (x ** 3) + np.random.normal(-3, 3, 20)\n",
    "plt.scatter(x,y, s=40, c='b')\n",
    "plt.grid(True)"
   ]
  },
  {
   "cell_type": "markdown",
   "id": "91cca6bd",
   "metadata": {},
   "source": [
    "### 上述的資料分布使用線性回歸適合嗎?\n",
    "### 代入 sklearn 的 Linear Regression 模型"
   ]
  },
  {
   "cell_type": "code",
   "execution_count": 1,
   "id": "b2000853",
   "metadata": {},
   "outputs": [],
   "source": [
    "import numpy as np\n",
    "import matplotlib.pyplot as plt\n",
    "from sklearn.linear_model import LinearRegression"
   ]
  },
  {
   "cell_type": "code",
   "execution_count": 5,
   "id": "bbbd7bb7",
   "metadata": {},
   "outputs": [
    {
     "data": {
      "image/png": "[encoded data removed]",
      "text/plain": [
       "<Figure size 504x360 with 1 Axes>"
      ]
     },
     "metadata": {
      "needs_background": "light"
     },
     "output_type": "display_data"
    }
   ],
   "source": [
    "np.random.seed(0)\n",
    "x = 2 - 3 * np.random.normal(0, 1, 20)\n",
    "y = x - 2 * (x ** 2) + 0.5 * (x ** 3) + np.random.normal(-3, 3, 20)\n",
    "\n",
    "# transforming the data to include another axis\n",
    "X = x[:, np.newaxis]   # x = x.reshape(len(x),1)\n",
    "\n",
    "model = LinearRegression()\n",
    "model.fit(X, y)\n",
    "y_pred = model.predict(X)\n",
    "\n",
    "plt.scatter(X, y, s=40, c='b')\n",
    "plt.plot(X, y_pred, color='r')\n",
    "plt.grid(True)"
   ]
  },
  {
   "cell_type": "markdown",
   "id": "4c3d126d",
   "metadata": {},
   "source": [
    "### 上述的迴歸線能正確捕捉到資料的趨勢嗎? 檢查決定係數 $R^2$"
   ]
  },
  {
   "cell_type": "code",
   "execution_count": 6,
   "id": "584c6a3a",
   "metadata": {},
   "outputs": [
    {
     "name": "stdout",
     "output_type": "stream",
     "text": [
      "決定係數 R^2=0.6386750054827146\n"
     ]
    }
   ],
   "source": [
    "print(f'決定係數 R^2={model.score(X,y)}')"
   ]
  },
  {
   "cell_type": "markdown",
   "id": "3301a310",
   "metadata": {},
   "source": [
    "### 決定係數 $R^2$=0.639，迴歸線擬合的情行不算好，應歸屬於低度擬合 ( Underfitting) 案例。"
   ]
  },
  {
   "cell_type": "markdown",
   "id": "1dc2ff18",
   "metadata": {},
   "source": [
    "### 過度擬和 (Overfitting) vs. 低度擬合 (Underfitting)\n",
    "- 訓練一個機器學習模型時，不論是在訓練集或是測試集資料都無法達到一定的準度時，此狀況稱為 underfitting(低度擬合)。\n",
    "- Underfitting 的原因可能是「訓練時間不足」或是「模型複雜度不足」。此案例發生 under-fitting 的原因是簡單現行迴歸無法捕捉模型的趨勢，屬於「模型複雜度不足」的原因。"
   ]
  },
  {
   "cell_type": "markdown",
   "id": "815b502a",
   "metadata": {},
   "source": [
    "![underfitting](https://miro.medium.com/max/1400/1*UCd6KrmBxpzUpWt3bnoKEA.png)\n",
    "<p style=\"text-align:right\">source: <a href='https://www.geeksforgeeks.org/underfitting-and-overfitting-in-machine-learning/'>Linear Regression</a></p>"
   ]
  },
  {
   "cell_type": "markdown",
   "id": "88ff24d8",
   "metadata": {},
   "source": [
    "### 為了改善 Underfitting 的問題，應該改善迴歸模型的複雜度。\n",
    "### $\\Rightarrow \\,\\,$從簡單線性迴歸  $f(x) = w_0 + w_1x$，更改為 2 次多項式 $f(x) = w_0 + w_1x + w_2x^2$，但仍視為 Linear Regression。\n",
    "- 採用 sklearn 的 `PolynominalFeatures` 模組"
   ]
  },
  {
   "cell_type": "markdown",
   "id": "b595df12",
   "metadata": {},
   "source": [
    "### $y = x_i - 2x_i^2 + 0.5x_i^3 + \\beta$"
   ]
  },
  {
   "cell_type": "code",
   "execution_count": 1,
   "id": "2710f890",
   "metadata": {},
   "outputs": [],
   "source": [
    "import operator\n",
    "import numpy as np\n",
    "import matplotlib.pyplot as plt\n",
    "from sklearn.linear_model import LinearRegression\n",
    "from sklearn.metrics import mean_squared_error, r2_score\n",
    "from sklearn.preprocessing import PolynomialFeatures "
   ]
  },
  {
   "cell_type": "code",
   "execution_count": 8,
   "id": "5f1f2236",
   "metadata": {},
   "outputs": [
    {
     "name": "stdout",
     "output_type": "stream",
     "text": [
      "RMSE=10.120437473614711\n",
      "R^2=0.8537647164420812\n"
     ]
    },
    {
     "data": {
      "image/png": "[encoded data removed]",
      "text/plain": [
       "<Figure size 504x360 with 1 Axes>"
      ]
     },
     "metadata": {
      "needs_background": "light"
     },
     "output_type": "display_data"
    }
   ],
   "source": [
    "# source: https://towardsdatascience.com/polynomial-regression-bbe8b9d97491\n",
    "plt.rcParams['figure.figsize']=[7,5]\n",
    "np.random.seed(0)\n",
    "x = 2 - 3 * np.random.normal(0, 1, 20)\n",
    "y = x - 2 * (x ** 2) + 0.5 * (x ** 3) + np.random.normal(-3, 3, 20)\n",
    "\n",
    "# transforming the data to include another axis\n",
    "x = x[:, np.newaxis]\n",
    "#y = y[:, np.newaxis]\n",
    "\n",
    "polynomial_features = PolynomialFeatures(degree=2)  # 二次多項式\n",
    "x_poly = polynomial_features.fit_transform(x)\n",
    "\n",
    "model = LinearRegression()\n",
    "model.fit(x_poly, y)\n",
    "y_poly_pred = model.predict(x_poly)\n",
    "\n",
    "rmse = np.sqrt(mean_squared_error(y, y_poly_pred))\n",
    "r2 = r2_score(y, y_poly_pred)\n",
    "print(f'RMSE={rmse}')\n",
    "print(f'R^2={r2}')\n",
    "\n",
    "plt.scatter(x, y, s=25, c='b')\n",
    "\n",
    "# sort the values of x before line plot\n",
    "sort_axis = operator.itemgetter(0)\n",
    "sorted_zip = sorted(zip(x,y_poly_pred), key=sort_axis)\n",
    "x, y_poly_pred = zip(*sorted_zip)\n",
    "plt.plot(x, y_poly_pred, color='r')\n",
    "plt.grid(True)"
   ]
  },
  {
   "cell_type": "markdown",
   "id": "58a3b6e1",
   "metadata": {},
   "source": [
    "### 得出二次多項式 $R^2 = 0.85376$"
   ]
  },
  {
   "cell_type": "markdown",
   "id": "165ed163",
   "metadata": {},
   "source": [
    "### 若是三次多項式呢?"
   ]
  },
  {
   "cell_type": "code",
   "execution_count": 6,
   "id": "5e389708",
   "metadata": {},
   "outputs": [
    {
     "name": "stdout",
     "output_type": "stream",
     "text": [
      "RMSE=1.1131620902350652\n",
      "R^2=0.9982308265442509\n"
     ]
    },
    {
     "data": {
      "image/png": "[encoded data removed]",
      "text/plain": [
       "<Figure size 504x360 with 1 Axes>"
      ]
     },
     "metadata": {
      "needs_background": "light"
     },
     "output_type": "display_data"
    }
   ],
   "source": [
    "np.random.seed(0)\n",
    "x = 2 - 3 * np.random.normal(0, 1, 20)\n",
    "y = x - 2 * (x ** 2) + 0.5 * (x ** 3) + np.random.normal(-3, 3, 20)\n",
    "\n",
    "# transforming the data to include another axis\n",
    "x = x[:, np.newaxis]\n",
    "\n",
    "polynomial_features = PolynomialFeatures(degree=20)  # 三次多項式\n",
    "x_poly = polynomial_features.fit_transform(x)\n",
    "\n",
    "model = LinearRegression()\n",
    "model.fit(x_poly, y)\n",
    "y_poly_pred = model.predict(x_poly)\n",
    "\n",
    "rmse = np.sqrt(mean_squared_error(y, y_poly_pred))\n",
    "r2 = r2_score(y, y_poly_pred)\n",
    "print(f'RMSE={rmse}')\n",
    "print(f'R^2={r2}')\n",
    "\n",
    "plt.scatter(x, y, s=25, c='b')\n",
    "\n",
    "# sort the values of x before line plot\n",
    "sort_axis = operator.itemgetter(0)\n",
    "sorted_zip = sorted(zip(x,y_poly_pred), key=sort_axis)\n",
    "x, y_poly_pred = zip(*sorted_zip)\n",
    "plt.plot(x, y_poly_pred, color='r')\n",
    "plt.grid(True)"
   ]
  },
  {
   "cell_type": "markdown",
   "id": "be6f75ea",
   "metadata": {},
   "source": [
    "### 得出三次多項式 $R^2 = 0.98301$"
   ]
  },
  {
   "cell_type": "markdown",
   "id": "b3f4f6cb",
   "metadata": {},
   "source": [
    "### 如果你想要不斷提高迴歸模型的擬合程度，應該如何做? 這樣做的優點及缺點為何呢?"
   ]
  },
  {
   "cell_type": "markdown",
   "id": "b131abc3",
   "metadata": {},
   "source": [
    "<hr style='border-color:brown; border-width:3px'>"
   ]
  },
  {
   "cell_type": "markdown",
   "id": "8d861f79",
   "metadata": {},
   "source": [
    "### 產生 30  組的資料，其中20 組用於訓練， 10 組用於測試。"
   ]
  },
  {
   "cell_type": "code",
   "execution_count": 53,
   "id": "38bfd282",
   "metadata": {},
   "outputs": [],
   "source": [
    "np.random.seed(0)\n",
    "X = 2 - 3 * np.random.normal(0, 1, 30)\n",
    "y = X - 2 * (X ** 2) + 0.5 * (X ** 3) + np.random.normal(-5, 5, 30)"
   ]
  },
  {
   "cell_type": "code",
   "execution_count": 54,
   "id": "1c060ad8",
   "metadata": {},
   "outputs": [],
   "source": [
    "from sklearn.model_selection import train_test_split\n",
    "X_train, X_test, y_train, y_test = train_test_split(X, y, test_size=0.3, random_state=1)"
   ]
  },
  {
   "cell_type": "code",
   "execution_count": 55,
   "id": "78426026",
   "metadata": {},
   "outputs": [
    {
     "data": {
      "image/png": "[encoded data removed]",
      "text/plain": [
       "<Figure size 504x360 with 1 Axes>"
      ]
     },
     "metadata": {
      "needs_background": "light"
     },
     "output_type": "display_data"
    }
   ],
   "source": [
    "# 繪圖\n",
    "plt.scatter(X_train, y_train, c='b', label='Training') # 訓練資料\n",
    "plt.scatter(X_test, y_test, c='r', label='Testing')   # 測試資料\n",
    "plt.legend()\n",
    "plt.grid(True)"
   ]
  },
  {
   "cell_type": "code",
   "execution_count": 56,
   "id": "0f0aed68",
   "metadata": {},
   "outputs": [
    {
     "name": "stdout",
     "output_type": "stream",
     "text": [
      "RMSE=4.671274057058779\n",
      "R^2=0.997958973449659\n"
     ]
    }
   ],
   "source": [
    "# transforming the data to include another axis\n",
    "X_train = X_train[:, np.newaxis]\n",
    "X_test = X_test[:, np.newaxis]\n",
    "\n",
    "polynomial_features = PolynomialFeatures(degree=3)  # 三次多項式\n",
    "X_train_poly = polynomial_features.fit_transform(X_train)\n",
    "#X_test_poly = polynomial_features.fit_transform(X_test)\n",
    "\n",
    "model = LinearRegression()\n",
    "model.fit(X_train_poly, y_train)\n",
    "\n",
    "y_poly_pred = model.predict(X_test_poly)\n",
    "\n",
    "rmse = np.sqrt(mean_squared_error(y_test, y_poly_pred))\n",
    "r2 = r2_score(y_test, y_poly_pred)\n",
    "print(f'RMSE={rmse}')\n",
    "print(f'R^2={r2}')"
   ]
  },
  {
   "cell_type": "code",
   "execution_count": 59,
   "id": "a7a647fc",
   "metadata": {},
   "outputs": [
    {
     "name": "stdout",
     "output_type": "stream",
     "text": [
      "訓練資料 r_squared:  0.9595498267817102\n",
      "測試資料 r_squared:  0.997958973449659\n"
     ]
    }
   ],
   "source": [
    "r_squared = model.score(X_train_poly, y_train)\n",
    "print('訓練資料 r_squared: ', r_squared)\n",
    "\n",
    "r_squared = model.score(X_test_poly, y_test)\n",
    "print('測試資料 r_squared: ', r_squared)"
   ]
  },
  {
   "cell_type": "code",
   "execution_count": 37,
   "id": "be523761",
   "metadata": {},
   "outputs": [],
   "source": [
    "#print(X_train.ndim)\n",
    "#print(X_train_poly.ndim)\n",
    "#print(X_train_poly)"
   ]
  },
  {
   "cell_type": "code",
   "execution_count": null,
   "id": "f144f2ba",
   "metadata": {},
   "outputs": [],
   "source": []
  }
 ],
 "metadata": {
  "kernelspec": {
   "display_name": "Python 3",
   "language": "python",
   "name": "python3"
  },
  "language_info": {
   "codemirror_mode": {
    "name": "ipython",
    "version": 3
   },
   "file_extension": ".py",
   "mimetype": "text/x-python",
   "name": "python",
   "nbconvert_exporter": "python",
   "pygments_lexer": "ipython3",
   "version": "3.8.10"
  }
 },
 "nbformat": 4,
 "nbformat_minor": 5
}
