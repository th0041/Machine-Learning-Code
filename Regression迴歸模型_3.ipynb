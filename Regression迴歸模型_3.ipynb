{
 "cells": [
  {
   "cell_type": "markdown",
   "id": "37aa5b2e",
   "metadata": {},
   "source": [
    "# 機器學習 - 回歸模型 (Regression Model) (3)\n",
    "- 2022 機器學習 Summer Session 教材 (師培中心)<br>\n",
    "- @ 台南應用科技大學 資管系 杜主民"
   ]
  },
  {
   "cell_type": "markdown",
   "id": "643c3773",
   "metadata": {},
   "source": [
    "# 三、多元(複)迴歸 Multiple Regression\n",
    "- 多元(複)迴歸與簡單線性迴歸的差異是前者的自變數 (特徵值) 有兩個或以上的情況。\n",
    "- 多元(複)迴歸的數學表示式如下:\n",
    "### $y = w_0 + w_1x_1 + w_2x_2 + \\cdots + w_nx_n, \\,\\,\\, i=1...n$"
   ]
  },
  {
   "cell_type": "code",
   "execution_count": 1,
   "id": "5a96d2c1",
   "metadata": {},
   "outputs": [],
   "source": [
    "import numpy as np\n",
    "import pandas as pd\n",
    "import matplotlib.pyplot as plt\n",
    "plt.rcParams['figure.figsize']=[7,5]"
   ]
  },
  {
   "cell_type": "code",
   "execution_count": 2,
   "id": "985a8ba8",
   "metadata": {},
   "outputs": [
    {
     "data": {
      "text/html": [
       "<div>\n",
       "<style scoped>\n",
       "    .dataframe tbody tr th:only-of-type {\n",
       "        vertical-align: middle;\n",
       "    }\n",
       "\n",
       "    .dataframe tbody tr th {\n",
       "        vertical-align: top;\n",
       "    }\n",
       "\n",
       "    .dataframe thead th {\n",
       "        text-align: right;\n",
       "    }\n",
       "</style>\n",
       "<table border=\"1\" class=\"dataframe\">\n",
       "  <thead>\n",
       "    <tr style=\"text-align: right;\">\n",
       "      <th></th>\n",
       "      <th>TV</th>\n",
       "      <th>Radio</th>\n",
       "      <th>Newspaper</th>\n",
       "      <th>Sales</th>\n",
       "    </tr>\n",
       "  </thead>\n",
       "  <tbody>\n",
       "    <tr>\n",
       "      <th>1</th>\n",
       "      <td>230.1</td>\n",
       "      <td>37.8</td>\n",
       "      <td>69.2</td>\n",
       "      <td>22.1</td>\n",
       "    </tr>\n",
       "    <tr>\n",
       "      <th>2</th>\n",
       "      <td>44.5</td>\n",
       "      <td>39.3</td>\n",
       "      <td>45.1</td>\n",
       "      <td>10.4</td>\n",
       "    </tr>\n",
       "    <tr>\n",
       "      <th>3</th>\n",
       "      <td>17.2</td>\n",
       "      <td>45.9</td>\n",
       "      <td>69.3</td>\n",
       "      <td>9.3</td>\n",
       "    </tr>\n",
       "    <tr>\n",
       "      <th>4</th>\n",
       "      <td>151.5</td>\n",
       "      <td>41.3</td>\n",
       "      <td>58.5</td>\n",
       "      <td>18.5</td>\n",
       "    </tr>\n",
       "    <tr>\n",
       "      <th>5</th>\n",
       "      <td>180.8</td>\n",
       "      <td>10.8</td>\n",
       "      <td>58.4</td>\n",
       "      <td>12.9</td>\n",
       "    </tr>\n",
       "  </tbody>\n",
       "</table>\n",
       "</div>"
      ],
      "text/plain": [
       "      TV  Radio  Newspaper  Sales\n",
       "1  230.1   37.8       69.2   22.1\n",
       "2   44.5   39.3       45.1   10.4\n",
       "3   17.2   45.9       69.3    9.3\n",
       "4  151.5   41.3       58.5   18.5\n",
       "5  180.8   10.8       58.4   12.9"
      ]
     },
     "execution_count": 2,
     "metadata": {},
     "output_type": "execute_result"
    }
   ],
   "source": [
    "# 讀取外部 Advertising.csv 檔案\n",
    "data = pd.read_csv('./data/Advertising.csv', index_col=0)\n",
    "data.head()"
   ]
  },
  {
   "cell_type": "markdown",
   "id": "a4b69e85",
   "metadata": {},
   "source": [
    "```\n",
    "這是一份有 4 個欄位共 200 筆資料的資料集，記載透過TV(x1), Radio(x2), 以及 Newspaper(x3)  三種廣告的花費金額，\n",
    "以及相對應的產品銷售金額 (Y)。\n",
    "```\n",
    "- 其中前 3 個欄位 - TV, Radio, Newspaper 是自變數 (特徵, features)。\n",
    "- Sales 是應變數 (標籤, label response)。\n",
    "- 我們希望以 TV 廣告、Radio 廣告，以及 Newspaper 廣告 3 個 features 預測 Sales 的銷售數量。\n",
    "- <a href='https://www.kaggle.com/datasets/yasserh/advertising-sales-dataset'>Reference</a>"
   ]
  },
  {
   "cell_type": "markdown",
   "id": "14c26218",
   "metadata": {},
   "source": [
    "### 關於自變數 (特徵, features):\n",
    "- TV: 單一個產品的某個銷售區域的電視廣告費用 (單位: 美金佰元)。\n",
    "- Radio: 單一個產品的某個銷售區域的收音機廣告費用 (單位: 美金佰元)。\n",
    "- Newspaper: 單一個產品的某個銷售區域的報紙廣告費用 (單位: 美金佰元)。\n",
    "\n",
    "#### 關應變數 (標籤, response label):\n",
    "- Sales: 單一個產品在某個地區的銷售收入 (單位:美金仟元)。\n",
    "\n",
    "#### 我們可以很明確地看出，應變數標籤 (response label) 是連續型型態 (Continuous)，這是屬於 Regression 的題目。"
   ]
  },
  {
   "cell_type": "markdown",
   "id": "f92c3b3c",
   "metadata": {},
   "source": [
    "### $y = w_0 + w_1 \\times TV + w_2 \\times Radio + w_3 \\times Newspaper$ \n",
    "- $y$: Sales, 目標應變數\n",
    "- $w_0$: 是截距 (intercept)\n",
    "- $w_1$: 是 TV 的 coefficient (第一個 feature)\n",
    "- $w_2$: 是 Radio 的 coefficient (第二個 feature)\n",
    "- $w_3$: 是 Newspaper 的 coefficient (第三個 feature)\n",
    "- 綜合來看，$w_0$, $w_1$, $w_2$, $w_3$ 稱為 model coefficients (模型參數)，因為機器學習的模型中在訓練中學習這些參數的最佳數值，然後此機器學習的模型便可用於預測可能的結果。"
   ]
  },
  {
   "cell_type": "code",
   "execution_count": 5,
   "id": "72ddbc96",
   "metadata": {},
   "outputs": [
    {
     "data": {
      "text/html": [
       "<div>\n",
       "<style scoped>\n",
       "    .dataframe tbody tr th:only-of-type {\n",
       "        vertical-align: middle;\n",
       "    }\n",
       "\n",
       "    .dataframe tbody tr th {\n",
       "        vertical-align: top;\n",
       "    }\n",
       "\n",
       "    .dataframe thead th {\n",
       "        text-align: right;\n",
       "    }\n",
       "</style>\n",
       "<table border=\"1\" class=\"dataframe\">\n",
       "  <thead>\n",
       "    <tr style=\"text-align: right;\">\n",
       "      <th></th>\n",
       "      <th>count</th>\n",
       "      <th>mean</th>\n",
       "      <th>std</th>\n",
       "      <th>min</th>\n",
       "      <th>25%</th>\n",
       "      <th>50%</th>\n",
       "      <th>75%</th>\n",
       "      <th>max</th>\n",
       "    </tr>\n",
       "  </thead>\n",
       "  <tbody>\n",
       "    <tr>\n",
       "      <th>TV</th>\n",
       "      <td>200.0</td>\n",
       "      <td>147.0425</td>\n",
       "      <td>85.854236</td>\n",
       "      <td>0.7</td>\n",
       "      <td>74.375</td>\n",
       "      <td>149.75</td>\n",
       "      <td>218.825</td>\n",
       "      <td>296.4</td>\n",
       "    </tr>\n",
       "    <tr>\n",
       "      <th>Radio</th>\n",
       "      <td>200.0</td>\n",
       "      <td>23.2640</td>\n",
       "      <td>14.846809</td>\n",
       "      <td>0.0</td>\n",
       "      <td>9.975</td>\n",
       "      <td>22.90</td>\n",
       "      <td>36.525</td>\n",
       "      <td>49.6</td>\n",
       "    </tr>\n",
       "    <tr>\n",
       "      <th>Newspaper</th>\n",
       "      <td>200.0</td>\n",
       "      <td>30.5540</td>\n",
       "      <td>21.778621</td>\n",
       "      <td>0.3</td>\n",
       "      <td>12.750</td>\n",
       "      <td>25.75</td>\n",
       "      <td>45.100</td>\n",
       "      <td>114.0</td>\n",
       "    </tr>\n",
       "    <tr>\n",
       "      <th>Sales</th>\n",
       "      <td>200.0</td>\n",
       "      <td>14.0225</td>\n",
       "      <td>5.217457</td>\n",
       "      <td>1.6</td>\n",
       "      <td>10.375</td>\n",
       "      <td>12.90</td>\n",
       "      <td>17.400</td>\n",
       "      <td>27.0</td>\n",
       "    </tr>\n",
       "  </tbody>\n",
       "</table>\n",
       "</div>"
      ],
      "text/plain": [
       "           count      mean        std  min     25%     50%      75%    max\n",
       "TV         200.0  147.0425  85.854236  0.7  74.375  149.75  218.825  296.4\n",
       "Radio      200.0   23.2640  14.846809  0.0   9.975   22.90   36.525   49.6\n",
       "Newspaper  200.0   30.5540  21.778621  0.3  12.750   25.75   45.100  114.0\n",
       "Sales      200.0   14.0225   5.217457  1.6  10.375   12.90   17.400   27.0"
      ]
     },
     "execution_count": 5,
     "metadata": {},
     "output_type": "execute_result"
    }
   ],
   "source": [
    "data.describe().T"
   ]
  },
  {
   "cell_type": "code",
   "execution_count": 6,
   "id": "4f8755ef",
   "metadata": {},
   "outputs": [],
   "source": [
    "import seaborn as sns\n",
    "import matplotlib.pyplot as plt\n",
    "plt.rcParams['figure.figsize'] = (8.0, 6.0)"
   ]
  },
  {
   "cell_type": "code",
   "execution_count": 7,
   "id": "fa24e953",
   "metadata": {},
   "outputs": [
    {
     "data": {
      "text/plain": [
       "<seaborn.axisgrid.PairGrid at 0x19be2dbc640>"
      ]
     },
     "execution_count": 7,
     "metadata": {},
     "output_type": "execute_result"
    },
    {
     "data": {
      "image/png": "[encoded data removed]",
      "text/plain": [
       "<Figure size 648x432 with 3 Axes>"
      ]
     },
     "metadata": {
      "needs_background": "light"
     },
     "output_type": "display_data"
    }
   ],
   "source": [
    "# x_vars 是 features; v_vars 是 label response\n",
    "# height 參數是圖的高度\n",
    "# aspect 是圖的寬度比例\n",
    "# kind='reg' 是設定劃出迴歸線； kind='scatter' 則是單純的散布圖\n",
    "sns.pairplot(data, x_vars=['TV','Radio','Newspaper'], y_vars='Sales', height=6, aspect=0.5, kind='reg')"
   ]
  },
  {
   "cell_type": "code",
   "execution_count": 11,
   "id": "189b8707",
   "metadata": {},
   "outputs": [],
   "source": [
    "import seaborn as sns\n",
    "sns.set(rc={'figure.figsize':(9,8)})"
   ]
  },
  {
   "cell_type": "markdown",
   "id": "1d91dbc2",
   "metadata": {},
   "source": [
    "### 利用 seaborn 套件的熱度圖 (Heatmap) 觀察 features 和 target 之間的 <a href='https://terms.naer.edu.tw/detail/1307611/'>相關係數</a>。"
   ]
  },
  {
   "cell_type": "code",
   "execution_count": 12,
   "id": "b9f61180",
   "metadata": {},
   "outputs": [
    {
     "data": {
      "text/plain": [
       "<AxesSubplot:>"
      ]
     },
     "execution_count": 12,
     "metadata": {},
     "output_type": "execute_result"
    },
    {
     "data": {
      "image/png": "[encoded data removed]",
      "text/plain": [
       "<Figure size 648x576 with 2 Axes>"
      ]
     },
     "metadata": {},
     "output_type": "display_data"
    }
   ],
   "source": [
    "sns.heatmap(data.corr(), cmap=\"Accent\", annot=True)"
   ]
  },
  {
   "cell_type": "code",
   "execution_count": 13,
   "id": "1eabfa4c",
   "metadata": {},
   "outputs": [],
   "source": [
    "# 建立 Python list 的 feature names\n",
    "feature_cols = ['TV', 'Radio', 'Newspaper']  \n",
    "X = data[feature_cols]  # 等同 X = data[['TV', 'Radio', 'Newspaper']]\n",
    "y = data['Sales']"
   ]
  },
  {
   "cell_type": "markdown",
   "id": "bd5d1a07",
   "metadata": {},
   "source": [
    "## 分割資料框 data 成為訓練資料集 (training data) 和測試資料集 (testing data)"
   ]
  },
  {
   "cell_type": "code",
   "execution_count": 14,
   "id": "5ba3fd75",
   "metadata": {},
   "outputs": [],
   "source": [
    "from sklearn.model_selection import train_test_split\n",
    "X_train, X_test, y_train, y_test = train_test_split(X, y, random_state=1)"
   ]
  },
  {
   "cell_type": "code",
   "execution_count": 15,
   "id": "89b15620",
   "metadata": {},
   "outputs": [
    {
     "name": "stdout",
     "output_type": "stream",
     "text": [
      "X_train.shape: (150, 3)\n",
      "X_test.shape: (50, 3)\n",
      "y_train.shape: (150,)\n",
      "y_test.shape: (50,)\n"
     ]
    }
   ],
   "source": [
    "print('X_train.shape:', X_train.shape)\n",
    "print('X_test.shape:', X_test.shape)\n",
    "print('y_train.shape:', y_train.shape)\n",
    "print('y_test.shape:', y_test.shape)"
   ]
  },
  {
   "cell_type": "markdown",
   "id": "5bd6aaee",
   "metadata": {},
   "source": [
    "## 以 scikit-learn 建立 Multiple Regression 模型"
   ]
  },
  {
   "cell_type": "code",
   "execution_count": 16,
   "id": "6226372b",
   "metadata": {},
   "outputs": [
    {
     "data": {
      "text/plain": [
       "LinearRegression()"
      ]
     },
     "execution_count": 16,
     "metadata": {},
     "output_type": "execute_result"
    }
   ],
   "source": [
    "from sklearn.linear_model import LinearRegression\n",
    "model = LinearRegression()  # 建立 Linear Regression 物件\n",
    "model.fit(X_train, y_train) # 訓練資料"
   ]
  },
  {
   "cell_type": "markdown",
   "id": "c9ba13ee",
   "metadata": {},
   "source": [
    "### 解釋模型的迴歸係數 (coefficients)"
   ]
  },
  {
   "cell_type": "code",
   "execution_count": 19,
   "id": "51e9ef22",
   "metadata": {},
   "outputs": [
    {
     "name": "stdout",
     "output_type": "stream",
     "text": [
      "w0:2.8769666223179318\n",
      "w1:0.04656456787415028\n",
      "w2:0.17915812245088836\n",
      "w3:0.0034504647111804412\n"
     ]
    }
   ],
   "source": [
    "# print the intercept and coefficients\n",
    "w0 = model.intercept_\n",
    "w123 = model.coef_\n",
    "print(f'w0:{w0}')\n",
    "print(f'w1:{w123[0]}')\n",
    "print(f'w2:{w123[1]}')\n",
    "print(f'w3:{w123[2]}')"
   ]
  },
  {
   "cell_type": "code",
   "execution_count": 20,
   "id": "da7e0965",
   "metadata": {},
   "outputs": [
    {
     "data": {
      "text/plain": [
       "[('TV', 0.04656456787415028),\n",
       " ('Radio', 0.17915812245088836),\n",
       " ('Newspaper', 0.0034504647111804412)]"
      ]
     },
     "execution_count": 20,
     "metadata": {},
     "output_type": "execute_result"
    }
   ],
   "source": [
    "list(zip(feature_cols, w123))"
   ]
  },
  {
   "cell_type": "markdown",
   "id": "d029d4de",
   "metadata": {},
   "source": [
    "所以，前述的 TV, Radio, Newspaper 自變數和應變數 Sales 的多元(複)迴歸公式:<br>\n",
    "### $y = w_0 + w_1 \\times TV + w_2 \\times Radio + w_3 \\times Newspaper$ \n",
    "可以改寫為:<br>\n",
    "### $y = 2.88 + 0.0466 \\times TV + 0.179 \\times Radio + 0.00345 \\times Newspaper$"
   ]
  },
  {
   "cell_type": "markdown",
   "id": "3bf13b63",
   "metadata": {},
   "source": [
    "#### 該如何解釋 ('TV', 0.046564567874150295)、('Radio', 0.1791581224508883) 以及 ('Newspaper', 0.0034504647111804065)?\n",
    "- 以 TV 來說，在 Radio 和 Newspaper 廣告費用不變動的情形下，每**增加一個\"單位\"的 TV 廣告費用**，會關聯到 **0.0466個\"單位\"** 的銷售量。\n",
    "- 例如，在 Radio 和 Newspaper 廣告費用不變動的情形下，**增加 1 個單位 (佰元) 的 TV 廣告費用**， 會關聯到 **0.0466 個單位 (仟元)** 產品銷售金額。換句話說，增加 100 美金的 TV 廣告費用，會增加 0.04656$\\times$1000=46.56元的銷售金額。"
   ]
  },
  {
   "cell_type": "markdown",
   "id": "6005b82d",
   "metadata": {},
   "source": [
    "- 以 Radio 來說，在 TV 和 Newspaper 廣告費用不變動的情形下，每**增加一個\"單位\"的 Radio 廣告**，會關聯到 **0.179 個\"單位\"**的銷售量。\n",
    "- 例如，在 TV 和 Newspaper 廣告費用不變動的情形下，**增加 1 個單位 (佰元) 的 Radio 廣告費用**， 會關聯到 **0.179 個單位 (仟元)**產品銷售金額。換句話說，增加 100 美金的 Radio 廣告費用，會增加 0.179$\\times$1000=179元的銷售金額。"
   ]
  },
  {
   "cell_type": "markdown",
   "id": "ec112fed",
   "metadata": {},
   "source": [
    "- 以 Newspaper 來說，在 TV 和 Radio 廣告費用不變動的情形下，每**增加一個\"單位\"的 Newspaper 廣告**，會關聯到 **0.00345 個\"單位\"**的銷售量。\n",
    "- 例如，在 TV 和 Radio 廣告費用不變動的情形下，**增加 1 個單位 (佰元) 的 Newspaper 廣告費用**， 會關聯到 **0.00345 個單位 (仟元)**產品銷售金額。換句話說，增加 100 美金的 Newspaper 廣告費用，會增加 0.00345$\\times$1000=3.45元的銷售金額。"
   ]
  },
  {
   "cell_type": "markdown",
   "id": "1bc72a5a",
   "metadata": {},
   "source": [
    "## 預測結果\n",
    "### 如果給予 TV 200 單位 (一個單位是100元)的廣告，Radio 是 50 單位 (一個單位是100元)的廣告，Newspaper 是 60 個單位是100元)的廣告，請預估銷售量 Sales 是多少 (單元 1000元)。"
   ]
  },
  {
   "cell_type": "code",
   "execution_count": 27,
   "id": "ab2459fb",
   "metadata": {},
   "outputs": [
    {
     "name": "stdout",
     "output_type": "stream",
     "text": [
      "大約是 [21350.]元\n"
     ]
    }
   ],
   "source": [
    "result1 = model.predict([[200, 50, 60]])\n",
    "print(f'大約是 {np.round(result1, 2)*1000}元')"
   ]
  },
  {
   "cell_type": "markdown",
   "id": "9854c4d6",
   "metadata": {},
   "source": [
    "### 那麼，如果在 Radio 和 Newspaper 預算不提升的情況下，將 TV 的廣告預算提升至 300 單位，請預估銷售量 Sales 是多少元? 和 TV是 200 單位廣告預算相差多少元?"
   ]
  },
  {
   "cell_type": "code",
   "execution_count": 37,
   "id": "23387c63",
   "metadata": {},
   "outputs": [
    {
     "name": "stdout",
     "output_type": "stream",
     "text": [
      "大約是 [26010.]元\n",
      "相差 [4656.45678742]元\n"
     ]
    }
   ],
   "source": [
    "result2 = model.predict([[300, 50, 60]])\n",
    "print(f'大約是 {np.round(result2, 2)*1000}元')\n",
    "print(f'相差 {(result2 - result1)*1000}元')"
   ]
  },
  {
   "cell_type": "markdown",
   "id": "dbb3daa5",
   "metadata": {},
   "source": [
    "### 那麼，如果在 TV 和 Newspaper 預算不提升的情況下，將 Radio 的廣告預算提升至 150 單位，請預估銷售量 Sales 是多少元? 和 Radio 是 50 單位廣告預算相差多少元?"
   ]
  },
  {
   "cell_type": "code",
   "execution_count": 39,
   "id": "e542d2ee",
   "metadata": {},
   "outputs": [
    {
     "name": "stdout",
     "output_type": "stream",
     "text": [
      "大約是 [39270.]元\n",
      "相差 [17915.81224509]元\n"
     ]
    }
   ],
   "source": [
    "result3 = model.predict([[200, 150, 60]])\n",
    "print(f'大約是 {np.round(result3, 2)*1000}元')\n",
    "print(f'相差 {(result3 - result1)*1000}元')"
   ]
  },
  {
   "cell_type": "markdown",
   "id": "a4cf71ab",
   "metadata": {},
   "source": [
    "## 檢驗"
   ]
  },
  {
   "cell_type": "code",
   "execution_count": 40,
   "id": "267a1e89",
   "metadata": {},
   "outputs": [
    {
     "name": "stdout",
     "output_type": "stream",
     "text": [
      "r_squared:  0.8963161233045729\n",
      "訓練資料 r_squared:  0.890307557755665\n",
      "測試資料 r_squared:  0.9156213613792232\n"
     ]
    }
   ],
   "source": [
    "# 計算 R^2\n",
    "r_squared = model.score(X,y)        \n",
    "print('r_squared: ', r_squared)\n",
    "\n",
    "r_squared = model.score(X_train,y_train)      # 訓練資料 R^2\n",
    "print('訓練資料 r_squared: ', r_squared)\n",
    "\n",
    "r_squared = model.score(X_test,y_test)        # 測試資料 R^2\n",
    "print('測試資料 r_squared: ', r_squared)"
   ]
  },
  {
   "cell_type": "markdown",
   "id": "bc453bab",
   "metadata": {},
   "source": [
    "### 只用 TV 當自變數"
   ]
  },
  {
   "cell_type": "code",
   "execution_count": 41,
   "id": "6b166853",
   "metadata": {},
   "outputs": [],
   "source": [
    "data = pd.read_csv('./data/Advertising.csv', index_col=0)\n",
    "X_TV = data['TV'] \n",
    "X_TV = np.array(X_TV).reshape(len(X_TV),1)\n",
    "y = data['Sales']"
   ]
  },
  {
   "cell_type": "code",
   "execution_count": 43,
   "id": "2953f8e4",
   "metadata": {},
   "outputs": [
    {
     "name": "stdout",
     "output_type": "stream",
     "text": [
      "tv_r2_squared:  0.611875050850071\n"
     ]
    }
   ],
   "source": [
    "from sklearn.linear_model import LinearRegression\n",
    "tvModel = LinearRegression()  \n",
    "tvModel.fit(X_TV, y) \n",
    "tv_r2_squared = tvModel.score(X_TV, y)        \n",
    "print('tv_r2_squared: ', tv_r2_squared)"
   ]
  },
  {
   "cell_type": "markdown",
   "id": "a6145f8d",
   "metadata": {},
   "source": [
    "### 只用 Radio 當自變數"
   ]
  },
  {
   "cell_type": "code",
   "execution_count": 44,
   "id": "c8c1d354",
   "metadata": {},
   "outputs": [],
   "source": [
    "X_Radio = data['Radio'] \n",
    "X_Radio = np.array(X_Radio).reshape(len(X_Radio),1)"
   ]
  },
  {
   "cell_type": "code",
   "execution_count": 45,
   "id": "a2137d9d",
   "metadata": {},
   "outputs": [
    {
     "name": "stdout",
     "output_type": "stream",
     "text": [
      "radio_r2_squared:  0.33203245544529525\n"
     ]
    }
   ],
   "source": [
    "radioModel = LinearRegression()  \n",
    "radioModel.fit(X_Radio, y) \n",
    "radio_r2_squared = radioModel.score(X_Radio, y)       \n",
    "print('radio_r2_squared: ', radio_r2_squared)"
   ]
  },
  {
   "cell_type": "markdown",
   "id": "021d23bd",
   "metadata": {},
   "source": [
    "### 只用 Newspaper 當自變數"
   ]
  },
  {
   "cell_type": "code",
   "execution_count": 47,
   "id": "56936892",
   "metadata": {},
   "outputs": [],
   "source": [
    "X_Newspaper = data['Newspaper'] \n",
    "X_Newspaper = np.array(X_Newspaper).reshape(len(X_Newspaper),1)"
   ]
  },
  {
   "cell_type": "code",
   "execution_count": 48,
   "id": "e8db4da9",
   "metadata": {},
   "outputs": [
    {
     "name": "stdout",
     "output_type": "stream",
     "text": [
      "news_r2_squared:  0.05212044544430516\n"
     ]
    }
   ],
   "source": [
    "newsModel = LinearRegression()  \n",
    "newsModel.fit(X_Newspaper, y) \n",
    "news_r2_squared = newsModel.score(X_Newspaper, y)       \n",
    "print('news_r2_squared: ', news_r2_squared)"
   ]
  },
  {
   "cell_type": "markdown",
   "id": "803f37e6",
   "metadata": {},
   "source": [
    "## Newspaper 的效果不佳，擬剔除此變數"
   ]
  },
  {
   "cell_type": "markdown",
   "id": "b2de45de",
   "metadata": {},
   "source": [
    "### 移除不顯著的 Newspaper，使用 TV 及 Radio 兩個自變數，重新建構模型"
   ]
  },
  {
   "cell_type": "code",
   "execution_count": 49,
   "id": "04a0a575",
   "metadata": {},
   "outputs": [
    {
     "name": "stdout",
     "output_type": "stream",
     "text": [
      "tvradio_r2_squared:  0.8971942610828956\n"
     ]
    }
   ],
   "source": [
    "X_new = data[['TV','Radio']]\n",
    "tvradiomodel = LinearRegression()  \n",
    "tvradiomodel.fit(X_new, y) \n",
    "tvradio_r2_squared = tvradiomodel.score(X_new, y)       \n",
    "print('tvradio_r2_squared: ', tvradio_r2_squared)"
   ]
  },
  {
   "cell_type": "markdown",
   "id": "767ade56",
   "metadata": {},
   "source": [
    "### 使用 TV 及 Radio 兩者當自變數，效果顯然不錯。\n",
    "### 事實上，我們可以從皮爾森相關係數大致看出自變數之間，以及自變數和應變數之間的關係。"
   ]
  },
  {
   "cell_type": "markdown",
   "id": "32fca01e",
   "metadata": {},
   "source": [
    "### $$r = \\frac{\\sum_{i=1}^n(x_i-\\bar x)(y_i-\\bar y)}{\\sqrt{\\sum_{i=1}^n(x_i-\\bar x)^2}{\\sqrt{\\sum_{i=1}^n(y_i-\\bar y)^2}}}$$"
   ]
  },
  {
   "cell_type": "code",
   "execution_count": 11,
   "id": "1521bfa8",
   "metadata": {},
   "outputs": [
    {
     "data": {
      "text/plain": [
       "0.7822244248616063"
      ]
     },
     "execution_count": 11,
     "metadata": {},
     "output_type": "execute_result"
    }
   ],
   "source": [
    "# 計算 TV 與 Sales 的皮爾森相關係數\n",
    "TV_mean = X['TV'].mean()\n",
    "np.sum((X.TV-TV_mean)*(y-y.mean()))/(np.sqrt(np.sum((X['TV']-X['TV'].mean())**2)) * np.sqrt(np.sum((y-y.mean())**2)))"
   ]
  },
  {
   "cell_type": "markdown",
   "id": "d5168369",
   "metadata": {},
   "source": [
    "## 檢查 features 的皮爾森相關係數 (Pearson Correlation)\n",
    "- 皮爾森相關係數代表兩組數據的相關程度和方向。\n",
    "- 皮爾森相關係數值範圍在 -1.0 和 1.0 之間。\n",
    "- -1.0 的相關性表示完全的負相關，而 1.0 的相關性表示完全的正相關。0.0 的相關性表明兩個變量的移動之間沒有線性關係。"
   ]
  },
  {
   "cell_type": "code",
   "execution_count": 13,
   "id": "050ba4e1",
   "metadata": {},
   "outputs": [
    {
     "data": {
      "text/html": [
       "<div>\n",
       "<style scoped>\n",
       "    .dataframe tbody tr th:only-of-type {\n",
       "        vertical-align: middle;\n",
       "    }\n",
       "\n",
       "    .dataframe tbody tr th {\n",
       "        vertical-align: top;\n",
       "    }\n",
       "\n",
       "    .dataframe thead th {\n",
       "        text-align: right;\n",
       "    }\n",
       "</style>\n",
       "<table border=\"1\" class=\"dataframe\">\n",
       "  <thead>\n",
       "    <tr style=\"text-align: right;\">\n",
       "      <th></th>\n",
       "      <th>TV</th>\n",
       "      <th>Radio</th>\n",
       "      <th>Newspaper</th>\n",
       "      <th>Sales</th>\n",
       "    </tr>\n",
       "  </thead>\n",
       "  <tbody>\n",
       "    <tr>\n",
       "      <th>TV</th>\n",
       "      <td>1.000000</td>\n",
       "      <td>0.054809</td>\n",
       "      <td>0.056648</td>\n",
       "      <td>0.782224</td>\n",
       "    </tr>\n",
       "    <tr>\n",
       "      <th>Radio</th>\n",
       "      <td>0.054809</td>\n",
       "      <td>1.000000</td>\n",
       "      <td>0.354104</td>\n",
       "      <td>0.576223</td>\n",
       "    </tr>\n",
       "    <tr>\n",
       "      <th>Newspaper</th>\n",
       "      <td>0.056648</td>\n",
       "      <td>0.354104</td>\n",
       "      <td>1.000000</td>\n",
       "      <td>0.228299</td>\n",
       "    </tr>\n",
       "    <tr>\n",
       "      <th>Sales</th>\n",
       "      <td>0.782224</td>\n",
       "      <td>0.576223</td>\n",
       "      <td>0.228299</td>\n",
       "      <td>1.000000</td>\n",
       "    </tr>\n",
       "  </tbody>\n",
       "</table>\n",
       "</div>"
      ],
      "text/plain": [
       "                 TV     Radio  Newspaper     Sales\n",
       "TV         1.000000  0.054809   0.056648  0.782224\n",
       "Radio      0.054809  1.000000   0.354104  0.576223\n",
       "Newspaper  0.056648  0.354104   1.000000  0.228299\n",
       "Sales      0.782224  0.576223   0.228299  1.000000"
      ]
     },
     "execution_count": 13,
     "metadata": {},
     "output_type": "execute_result"
    }
   ],
   "source": [
    "data.corr()"
   ]
  },
  {
   "cell_type": "markdown",
   "id": "f9a213de",
   "metadata": {},
   "source": [
    "### 利用 seaborn 的熱度圖 (heatmap)可先行檢視欄位資料間的關係"
   ]
  },
  {
   "cell_type": "code",
   "execution_count": 16,
   "id": "0dae1606",
   "metadata": {},
   "outputs": [
    {
     "data": {
      "text/plain": [
       "<matplotlib.axes._subplots.AxesSubplot at 0x14da5780cf8>"
      ]
     },
     "execution_count": 16,
     "metadata": {},
     "output_type": "execute_result"
    },
    {
     "data": {
      "image/png": "[encoded data removed]",
      "text/plain": [
       "<Figure size 576x432 with 2 Axes>"
      ]
     },
     "metadata": {
      "needs_background": "light"
     },
     "output_type": "display_data"
    }
   ],
   "source": [
    "sns.heatmap(data.corr(), annot=True)"
   ]
  },
  {
   "cell_type": "markdown",
   "id": "2f606f24",
   "metadata": {},
   "source": [
    "<hr style='border-color:brown; border-width:3px'>"
   ]
  },
  {
   "cell_type": "markdown",
   "id": "bf763369",
   "metadata": {},
   "source": [
    "## 酒吧啤酒消費量和天氣的關係案例\n",
    "- 啤酒可能是全世界最受歡迎的飲料之一。在巴西聖保羅一所大學附近的酒吧，有一個學生想瞭解每天啤酒的銷售量和否和當天天氣存在某些關係性。他從 2015 年從 1 月 1 日開始，一直到 12 月 31 日止，每天在酒吧做成的記錄如底下的 kaggle 連結。\n",
    "- 請讀取 kaggle 資料集: https://www.kaggle.com/dongeorge/beer-consumption-sao-paulo"
   ]
  },
  {
   "cell_type": "markdown",
   "id": "42bf5649",
   "metadata": {},
   "source": [
    "### 若要以迴歸進行分析，應該如何挑選自變數？有辦法順利帶入資料後分析嗎？有哪些數據需要再處理？那些自變數和啤酒消耗量是正相關哪些是負相關？那個自變數有最大的影響力？"
   ]
  },
  {
   "cell_type": "code",
   "execution_count": 1,
   "id": "51b5e186",
   "metadata": {},
   "outputs": [],
   "source": [
    "import pandas as pd\n",
    "import numpy as np\n",
    "import seaborn as sns\n",
    "import matplotlib.pyplot as plt\n",
    "plt.rcParams['figure.figsize'] = (8.0, 6.0)"
   ]
  },
  {
   "cell_type": "code",
   "execution_count": 2,
   "id": "83977487",
   "metadata": {},
   "outputs": [
    {
     "data": {
      "text/html": [
       "<div>\n",
       "<style scoped>\n",
       "    .dataframe tbody tr th:only-of-type {\n",
       "        vertical-align: middle;\n",
       "    }\n",
       "\n",
       "    .dataframe tbody tr th {\n",
       "        vertical-align: top;\n",
       "    }\n",
       "\n",
       "    .dataframe thead th {\n",
       "        text-align: right;\n",
       "    }\n",
       "</style>\n",
       "<table border=\"1\" class=\"dataframe\">\n",
       "  <thead>\n",
       "    <tr style=\"text-align: right;\">\n",
       "      <th></th>\n",
       "      <th>Date</th>\n",
       "      <th>AverageTemp</th>\n",
       "      <th>MinimumTemp</th>\n",
       "      <th>MaximumTemp</th>\n",
       "      <th>Percipitation</th>\n",
       "      <th>Weekend</th>\n",
       "      <th>BeerConsumption</th>\n",
       "    </tr>\n",
       "  </thead>\n",
       "  <tbody>\n",
       "    <tr>\n",
       "      <th>0</th>\n",
       "      <td>2015/1/1</td>\n",
       "      <td>27,3</td>\n",
       "      <td>23,9</td>\n",
       "      <td>32,5</td>\n",
       "      <td>0</td>\n",
       "      <td>0</td>\n",
       "      <td>25.461</td>\n",
       "    </tr>\n",
       "    <tr>\n",
       "      <th>1</th>\n",
       "      <td>2015/1/2</td>\n",
       "      <td>27,02</td>\n",
       "      <td>24,5</td>\n",
       "      <td>33,5</td>\n",
       "      <td>0</td>\n",
       "      <td>0</td>\n",
       "      <td>28.972</td>\n",
       "    </tr>\n",
       "    <tr>\n",
       "      <th>2</th>\n",
       "      <td>2015/1/3</td>\n",
       "      <td>24,82</td>\n",
       "      <td>22,4</td>\n",
       "      <td>29,9</td>\n",
       "      <td>0</td>\n",
       "      <td>1</td>\n",
       "      <td>30.814</td>\n",
       "    </tr>\n",
       "    <tr>\n",
       "      <th>3</th>\n",
       "      <td>2015/1/4</td>\n",
       "      <td>23,98</td>\n",
       "      <td>21,5</td>\n",
       "      <td>28,6</td>\n",
       "      <td>1,2</td>\n",
       "      <td>1</td>\n",
       "      <td>29.799</td>\n",
       "    </tr>\n",
       "    <tr>\n",
       "      <th>4</th>\n",
       "      <td>2015/1/5</td>\n",
       "      <td>23,82</td>\n",
       "      <td>21</td>\n",
       "      <td>28,3</td>\n",
       "      <td>0</td>\n",
       "      <td>0</td>\n",
       "      <td>28.900</td>\n",
       "    </tr>\n",
       "  </tbody>\n",
       "</table>\n",
       "</div>"
      ],
      "text/plain": [
       "       Date AverageTemp MinimumTemp MaximumTemp Percipitation  Weekend  \\\n",
       "0  2015/1/1        27,3        23,9        32,5             0        0   \n",
       "1  2015/1/2       27,02        24,5        33,5             0        0   \n",
       "2  2015/1/3       24,82        22,4        29,9             0        1   \n",
       "3  2015/1/4       23,98        21,5        28,6           1,2        1   \n",
       "4  2015/1/5       23,82          21        28,3             0        0   \n",
       "\n",
       "   BeerConsumption  \n",
       "0           25.461  \n",
       "1           28.972  \n",
       "2           30.814  \n",
       "3           29.799  \n",
       "4           28.900  "
      ]
     },
     "execution_count": 2,
     "metadata": {},
     "output_type": "execute_result"
    }
   ],
   "source": [
    "beer = pd.read_csv('./data/BeerConsumption.csv')\n",
    "beer.head()"
   ]
  },
  {
   "cell_type": "markdown",
   "id": "ee53decb",
   "metadata": {},
   "source": [
    "### $$啤酒消耗量 = w_0+w_1平均溫度+w_2最低溫度+w_3最高溫度+w_4雨量+w_5是否假日$$\n",
    "### $$y = w_0 + w_1x_1 + w-2x_2 + w_3x_3+w_4x_4+w_5x_5$$"
   ]
  },
  {
   "cell_type": "code",
   "execution_count": 3,
   "id": "fb17a9f7",
   "metadata": {},
   "outputs": [
    {
     "data": {
      "text/plain": [
       "<AxesSubplot:>"
      ]
     },
     "execution_count": 3,
     "metadata": {},
     "output_type": "execute_result"
    },
    {
     "data": {
      "image/png": "[encoded data removed]",
      "text/plain": [
       "<Figure size 576x432 with 2 Axes>"
      ]
     },
     "metadata": {
      "needs_background": "light"
     },
     "output_type": "display_data"
    }
   ],
   "source": [
    "sns.heatmap(beer.corr(), annot=True)"
   ]
  },
  {
   "cell_type": "markdown",
   "id": "88420c0e",
   "metadata": {},
   "source": [
    "### 為什麼 Heatmap 看起來不怎麼對?"
   ]
  },
  {
   "cell_type": "code",
   "execution_count": 4,
   "id": "72e90b0c",
   "metadata": {},
   "outputs": [
    {
     "data": {
      "text/plain": [
       "Date                object\n",
       "AverageTemp         object\n",
       "MinimumTemp         object\n",
       "MaximumTemp         object\n",
       "Percipitation       object\n",
       "Weekend              int64\n",
       "BeerConsumption    float64\n",
       "dtype: object"
      ]
     },
     "execution_count": 4,
     "metadata": {},
     "output_type": "execute_result"
    }
   ],
   "source": [
    "beer.dtypes"
   ]
  },
  {
   "cell_type": "code",
   "execution_count": 5,
   "id": "c975a84d",
   "metadata": {},
   "outputs": [
    {
     "data": {
      "text/plain": [
       "str"
      ]
     },
     "execution_count": 5,
     "metadata": {},
     "output_type": "execute_result"
    }
   ],
   "source": [
    "# type(beer.AverageTemp.apply(lambda x: x.replace(',', '.'))[0]) # 檢查資料型態"
   ]
  },
  {
   "cell_type": "markdown",
   "id": "8ec65c84",
   "metadata": {},
   "source": [
    "### 更改逗號及資料型態"
   ]
  },
  {
   "cell_type": "code",
   "execution_count": 5,
   "id": "fcda2e6b",
   "metadata": {},
   "outputs": [],
   "source": [
    "beer.AverageTemp = beer.AverageTemp.apply(lambda x: x.replace(',', '.')).astype(np.float32)\n",
    "beer.MinimumTemp = beer.MinimumTemp.apply(lambda x: x.replace(',', '.')).astype(np.float32)\n",
    "beer.MaximumTemp = beer.MaximumTemp.apply(lambda x: x.replace(',', '.')).astype(np.float32)\n",
    "beer.Percipitation = beer.Percipitation.apply(lambda x: x.replace(',', '.')).astype(np.float32)\n",
    "\n",
    "# 較簡便的寫法\n",
    "# df2 = beer.iloc[:, [1, 2, 3, 4]]\n",
    "# for d in df2:\n",
    "#     beer[d] = df2[d].apply(lambda x: x.replace(',', '.')).astype(np.float32)\n",
    "\n",
    "# 或者\n",
    "#beer.replace({',':'.'}, regex=True, inplace=True) # 逗號改為小數點\n",
    "#df2 = beer.iloc[:, [1, 2, 3, 4]]\n",
    "#for d in df2:\n",
    "#    beer[d] = df2[d].astype(np.float32)"
   ]
  },
  {
   "cell_type": "code",
   "execution_count": 6,
   "id": "1b23a087",
   "metadata": {},
   "outputs": [
    {
     "data": {
      "text/html": [
       "<div>\n",
       "<style scoped>\n",
       "    .dataframe tbody tr th:only-of-type {\n",
       "        vertical-align: middle;\n",
       "    }\n",
       "\n",
       "    .dataframe tbody tr th {\n",
       "        vertical-align: top;\n",
       "    }\n",
       "\n",
       "    .dataframe thead th {\n",
       "        text-align: right;\n",
       "    }\n",
       "</style>\n",
       "<table border=\"1\" class=\"dataframe\">\n",
       "  <thead>\n",
       "    <tr style=\"text-align: right;\">\n",
       "      <th></th>\n",
       "      <th>AverageTemp</th>\n",
       "      <th>MinimumTemp</th>\n",
       "      <th>MaximumTemp</th>\n",
       "      <th>Percipitation</th>\n",
       "      <th>Weekend</th>\n",
       "      <th>BeerConsumption</th>\n",
       "    </tr>\n",
       "  </thead>\n",
       "  <tbody>\n",
       "    <tr>\n",
       "      <th>AverageTemp</th>\n",
       "      <td>1.000000</td>\n",
       "      <td>0.862752</td>\n",
       "      <td>0.922513</td>\n",
       "      <td>0.024416</td>\n",
       "      <td>-0.050803</td>\n",
       "      <td>0.574615</td>\n",
       "    </tr>\n",
       "    <tr>\n",
       "      <th>MinimumTemp</th>\n",
       "      <td>0.862752</td>\n",
       "      <td>1.000000</td>\n",
       "      <td>0.672929</td>\n",
       "      <td>0.098625</td>\n",
       "      <td>-0.059534</td>\n",
       "      <td>0.392509</td>\n",
       "    </tr>\n",
       "    <tr>\n",
       "      <th>MaximumTemp</th>\n",
       "      <td>0.922513</td>\n",
       "      <td>0.672929</td>\n",
       "      <td>1.000000</td>\n",
       "      <td>-0.049305</td>\n",
       "      <td>-0.040258</td>\n",
       "      <td>0.642672</td>\n",
       "    </tr>\n",
       "    <tr>\n",
       "      <th>Percipitation</th>\n",
       "      <td>0.024416</td>\n",
       "      <td>0.098625</td>\n",
       "      <td>-0.049305</td>\n",
       "      <td>1.000000</td>\n",
       "      <td>0.001587</td>\n",
       "      <td>-0.193784</td>\n",
       "    </tr>\n",
       "    <tr>\n",
       "      <th>Weekend</th>\n",
       "      <td>-0.050803</td>\n",
       "      <td>-0.059534</td>\n",
       "      <td>-0.040258</td>\n",
       "      <td>0.001587</td>\n",
       "      <td>1.000000</td>\n",
       "      <td>0.505981</td>\n",
       "    </tr>\n",
       "    <tr>\n",
       "      <th>BeerConsumption</th>\n",
       "      <td>0.574615</td>\n",
       "      <td>0.392509</td>\n",
       "      <td>0.642672</td>\n",
       "      <td>-0.193784</td>\n",
       "      <td>0.505981</td>\n",
       "      <td>1.000000</td>\n",
       "    </tr>\n",
       "  </tbody>\n",
       "</table>\n",
       "</div>"
      ],
      "text/plain": [
       "                 AverageTemp  MinimumTemp  MaximumTemp  Percipitation  \\\n",
       "AverageTemp         1.000000     0.862752     0.922513       0.024416   \n",
       "MinimumTemp         0.862752     1.000000     0.672929       0.098625   \n",
       "MaximumTemp         0.922513     0.672929     1.000000      -0.049305   \n",
       "Percipitation       0.024416     0.098625    -0.049305       1.000000   \n",
       "Weekend            -0.050803    -0.059534    -0.040258       0.001587   \n",
       "BeerConsumption     0.574615     0.392509     0.642672      -0.193784   \n",
       "\n",
       "                  Weekend  BeerConsumption  \n",
       "AverageTemp     -0.050803         0.574615  \n",
       "MinimumTemp     -0.059534         0.392509  \n",
       "MaximumTemp     -0.040258         0.642672  \n",
       "Percipitation    0.001587        -0.193784  \n",
       "Weekend          1.000000         0.505981  \n",
       "BeerConsumption  0.505981         1.000000  "
      ]
     },
     "execution_count": 6,
     "metadata": {},
     "output_type": "execute_result"
    }
   ],
   "source": [
    "beer.corr()"
   ]
  },
  {
   "cell_type": "code",
   "execution_count": 7,
   "id": "fa8672d3",
   "metadata": {},
   "outputs": [
    {
     "data": {
      "text/plain": [
       "<AxesSubplot:>"
      ]
     },
     "execution_count": 7,
     "metadata": {},
     "output_type": "execute_result"
    },
    {
     "data": {
      "image/png": "[encoded data removed]",
      "text/plain": [
       "<Figure size 576x432 with 2 Axes>"
      ]
     },
     "metadata": {
      "needs_background": "light"
     },
     "output_type": "display_data"
    }
   ],
   "source": [
    "sns.heatmap(beer.corr(), annot=True)"
   ]
  },
  {
   "cell_type": "markdown",
   "id": "6622c7aa",
   "metadata": {},
   "source": [
    "### 修訂 Date 欄位為日期資料型態"
   ]
  },
  {
   "cell_type": "code",
   "execution_count": 9,
   "id": "041168c3",
   "metadata": {},
   "outputs": [],
   "source": [
    "from datetime import datetime\n",
    "beer['Date'] = pd.to_datetime(beer['Date'], format='%Y/%m/%d')"
   ]
  },
  {
   "cell_type": "markdown",
   "id": "1aedef40",
   "metadata": {},
   "source": [
    "### 測試 weekday() 轉換日期為星期幾的函數"
   ]
  },
  {
   "cell_type": "code",
   "execution_count": 32,
   "id": "27eeae6a",
   "metadata": {},
   "outputs": [],
   "source": [
    "t = beer['Date'][0].weekday()"
   ]
  },
  {
   "cell_type": "markdown",
   "id": "8ee0b0dd",
   "metadata": {},
   "source": [
    "### 轉換日期為星期的第幾天"
   ]
  },
  {
   "cell_type": "code",
   "execution_count": 33,
   "id": "7722bc7f",
   "metadata": {},
   "outputs": [
    {
     "data": {
      "text/html": [
       "<div>\n",
       "<style scoped>\n",
       "    .dataframe tbody tr th:only-of-type {\n",
       "        vertical-align: middle;\n",
       "    }\n",
       "\n",
       "    .dataframe tbody tr th {\n",
       "        vertical-align: top;\n",
       "    }\n",
       "\n",
       "    .dataframe thead th {\n",
       "        text-align: right;\n",
       "    }\n",
       "</style>\n",
       "<table border=\"1\" class=\"dataframe\">\n",
       "  <thead>\n",
       "    <tr style=\"text-align: right;\">\n",
       "      <th></th>\n",
       "      <th>Date</th>\n",
       "      <th>AverageTemp</th>\n",
       "      <th>MinimumTemp</th>\n",
       "      <th>MaximumTemp</th>\n",
       "      <th>Percipitation</th>\n",
       "      <th>Weekend</th>\n",
       "      <th>BeerConsumption</th>\n",
       "      <th>Weekday</th>\n",
       "    </tr>\n",
       "  </thead>\n",
       "  <tbody>\n",
       "    <tr>\n",
       "      <th>0</th>\n",
       "      <td>2015-01-01</td>\n",
       "      <td>27.299999</td>\n",
       "      <td>23.9</td>\n",
       "      <td>32.500000</td>\n",
       "      <td>0.0</td>\n",
       "      <td>0</td>\n",
       "      <td>25.461</td>\n",
       "      <td>Thursday</td>\n",
       "    </tr>\n",
       "    <tr>\n",
       "      <th>1</th>\n",
       "      <td>2015-01-02</td>\n",
       "      <td>27.020000</td>\n",
       "      <td>24.5</td>\n",
       "      <td>33.500000</td>\n",
       "      <td>0.0</td>\n",
       "      <td>0</td>\n",
       "      <td>28.972</td>\n",
       "      <td>Friday</td>\n",
       "    </tr>\n",
       "    <tr>\n",
       "      <th>2</th>\n",
       "      <td>2015-01-03</td>\n",
       "      <td>24.820000</td>\n",
       "      <td>22.4</td>\n",
       "      <td>29.900000</td>\n",
       "      <td>0.0</td>\n",
       "      <td>1</td>\n",
       "      <td>30.814</td>\n",
       "      <td>Saturday</td>\n",
       "    </tr>\n",
       "    <tr>\n",
       "      <th>3</th>\n",
       "      <td>2015-01-04</td>\n",
       "      <td>23.980000</td>\n",
       "      <td>21.5</td>\n",
       "      <td>28.600000</td>\n",
       "      <td>1.2</td>\n",
       "      <td>1</td>\n",
       "      <td>29.799</td>\n",
       "      <td>Sunday</td>\n",
       "    </tr>\n",
       "    <tr>\n",
       "      <th>4</th>\n",
       "      <td>2015-01-05</td>\n",
       "      <td>23.820000</td>\n",
       "      <td>21.0</td>\n",
       "      <td>28.299999</td>\n",
       "      <td>0.0</td>\n",
       "      <td>0</td>\n",
       "      <td>28.900</td>\n",
       "      <td>Monday</td>\n",
       "    </tr>\n",
       "  </tbody>\n",
       "</table>\n",
       "</div>"
      ],
      "text/plain": [
       "        Date  AverageTemp  MinimumTemp  MaximumTemp  Percipitation  Weekend  \\\n",
       "0 2015-01-01    27.299999         23.9    32.500000            0.0        0   \n",
       "1 2015-01-02    27.020000         24.5    33.500000            0.0        0   \n",
       "2 2015-01-03    24.820000         22.4    29.900000            0.0        1   \n",
       "3 2015-01-04    23.980000         21.5    28.600000            1.2        1   \n",
       "4 2015-01-05    23.820000         21.0    28.299999            0.0        0   \n",
       "\n",
       "   BeerConsumption   Weekday  \n",
       "0           25.461  Thursday  \n",
       "1           28.972    Friday  \n",
       "2           30.814  Saturday  \n",
       "3           29.799    Sunday  \n",
       "4           28.900    Monday  "
      ]
     },
     "execution_count": 33,
     "metadata": {},
     "output_type": "execute_result"
    }
   ],
   "source": [
    "weekdays = ['Monday','Tuesday', 'Wednesday', 'Thursday', 'Friday', 'Saturday','Sunday']\n",
    "beer['Weekday'] = beer['Date'].apply(lambda x: weekdays[x.weekday()])  # 新增一個 Weekday 欄位\n",
    "beer.head()"
   ]
  },
  {
   "cell_type": "markdown",
   "id": "fe142535",
   "metadata": {},
   "source": [
    "### 畫出 bar chart (條狀圖)\n",
    "- 繪製從星期一到星期天每天啤酒的消耗量\n",
    "- 使用 seaborn 的 barplot()"
   ]
  },
  {
   "cell_type": "code",
   "execution_count": 37,
   "id": "030c0f07",
   "metadata": {},
   "outputs": [],
   "source": [
    "# 以 Weekday 群組化，計算每天啤酒消耗的平均值\n",
    "#gp = beer.groupby('Weekday')\n",
    "#gp.BeerConsumption.mean()"
   ]
  },
  {
   "cell_type": "code",
   "execution_count": 38,
   "id": "37c8f2c4",
   "metadata": {},
   "outputs": [
    {
     "data": {
      "image/png": "[encoded data removed]",
      "text/plain": [
       "<Figure size 576x432 with 1 Axes>"
      ]
     },
     "metadata": {
      "needs_background": "light"
     },
     "output_type": "display_data"
    }
   ],
   "source": [
    "plt.figure(figsize=(8, 6))\n",
    "#plt.rcParams['figure.figsize']=[8,6]\n",
    "sns.barplot(x='Weekday', y='BeerConsumption', data=beer)\n",
    "plt.grid(True)"
   ]
  },
  {
   "cell_type": "markdown",
   "id": "bee4c988",
   "metadata": {},
   "source": [
    "### 再次以視覺圖形觀察溫度和啤酒消耗量的關係\n",
    "- 使用 seaborn 的 pariplot() "
   ]
  },
  {
   "cell_type": "markdown",
   "id": "432fff0c",
   "metadata": {},
   "source": [
    "### 平均溫度"
   ]
  },
  {
   "cell_type": "code",
   "execution_count": 41,
   "id": "1583daca",
   "metadata": {},
   "outputs": [
    {
     "data": {
      "image/png": "[encoded data removed]",
      "text/plain": [
       "<Figure size 576x432 with 1 Axes>"
      ]
     },
     "metadata": {
      "needs_background": "light"
     },
     "output_type": "display_data"
    }
   ],
   "source": [
    "plt.figure(figsize=(8, 6))\n",
    "plt.scatter(beer['AverageTemp'], beer['BeerConsumption'])\n",
    "plt.xlabel('Average Temperature', fontsize=15)\n",
    "plt.ylabel('Beer Consumption', fontsize=15)\n",
    "plt.grid(True)"
   ]
  },
  {
   "cell_type": "markdown",
   "id": "dad8ce77",
   "metadata": {},
   "source": [
    "### 最高溫 vs 最低溫"
   ]
  },
  {
   "cell_type": "code",
   "execution_count": 59,
   "id": "730a9f44",
   "metadata": {},
   "outputs": [
    {
     "data": {
      "image/png": "[encoded data removed]",
      "text/plain": [
       "<Figure size 576x504 with 2 Axes>"
      ]
     },
     "metadata": {
      "needs_background": "light"
     },
     "output_type": "display_data"
    }
   ],
   "source": [
    "plt.rcParams['figure.figsize']=[8,7]\n",
    "fig, (ax1, ax2) = plt.subplots(2,1)\n",
    "\n",
    "ax1.scatter(beer['MaximumTemp'], beer['BeerConsumption'])\n",
    "ax2.scatter(beer['MinimumTemp'], beer['BeerConsumption'])\n",
    "#ax1.set_title('Maximum Temperature')\n",
    "#ax2.set_title('Minimum Temperature')\n",
    "ax1.set_xlabel('Maximun Temperature')\n",
    "ax1.set_ylabel('Beer Consumption')\n",
    "ax2.set_xlabel('Minimum Temperature')\n",
    "ax2.set_ylabel('Beer Consumption')\n",
    "ax1.grid(True)\n",
    "ax2.grid(True)"
   ]
  },
  {
   "cell_type": "markdown",
   "id": "66f5daaa",
   "metadata": {},
   "source": [
    "### pairplot\n",
    "- 最高溫、最低溫與啤酒消耗量"
   ]
  },
  {
   "cell_type": "code",
   "execution_count": 60,
   "id": "5d6c736e",
   "metadata": {},
   "outputs": [
    {
     "data": {
      "text/plain": [
       "<seaborn.axisgrid.PairGrid at 0x2734410dc50>"
      ]
     },
     "execution_count": 60,
     "metadata": {},
     "output_type": "execute_result"
    },
    {
     "data": {
      "image/png": "[encoded data removed]",
      "text/plain": [
       "<Figure size 540x540 with 12 Axes>"
      ]
     },
     "metadata": {
      "needs_background": "light"
     },
     "output_type": "display_data"
    }
   ],
   "source": [
    "sns.pairplot(beer[['MaximumTemp', 'MinimumTemp','BeerConsumption']])"
   ]
  },
  {
   "cell_type": "markdown",
   "id": "d7d6c2b4",
   "metadata": {},
   "source": [
    "### pairplot\n",
    "- 雨天與啤酒消耗量"
   ]
  },
  {
   "cell_type": "code",
   "execution_count": 61,
   "id": "1e028d85",
   "metadata": {},
   "outputs": [
    {
     "data": {
      "text/plain": [
       "<seaborn.axisgrid.PairGrid at 0x27345b735c0>"
      ]
     },
     "execution_count": 61,
     "metadata": {},
     "output_type": "execute_result"
    },
    {
     "data": {
      "image/png": "[encoded data removed]",
      "text/plain": [
       "<Figure size 360x360 with 6 Axes>"
      ]
     },
     "metadata": {
      "needs_background": "light"
     },
     "output_type": "display_data"
    }
   ],
   "source": [
    "sns.pairplot(beer[['Percipitation','BeerConsumption']])"
   ]
  },
  {
   "cell_type": "markdown",
   "id": "4c40370e",
   "metadata": {},
   "source": [
    "## 進行回歸分析"
   ]
  },
  {
   "cell_type": "markdown",
   "id": "b78f59b3",
   "metadata": {},
   "source": [
    "### 1.分割資料框 data 成為訓練資料集 (training data) 和測試資料集 (testing data)"
   ]
  },
  {
   "cell_type": "code",
   "execution_count": 62,
   "id": "aab9c493",
   "metadata": {},
   "outputs": [],
   "source": [
    "# 選出特徵欄位\n",
    "X = beer[['AverageTemp','MinimumTemp','MaximumTemp','Percipitation','Weekend']]\n",
    "\n",
    "# 選出 response label 欄位\n",
    "y = beer['BeerConsumption']"
   ]
  },
  {
   "cell_type": "code",
   "execution_count": 63,
   "id": "1d1b12cc",
   "metadata": {},
   "outputs": [],
   "source": [
    "# 分割訓練資料與測試資料\n",
    "from sklearn.model_selection import train_test_split\n",
    "X_train, X_test, y_train, y_test = train_test_split(X, y, test_size=0.3, random_state=1)"
   ]
  },
  {
   "cell_type": "code",
   "execution_count": 65,
   "id": "c93a4b8a",
   "metadata": {},
   "outputs": [
    {
     "name": "stdout",
     "output_type": "stream",
     "text": [
      "<class 'pandas.core.frame.DataFrame'> (255, 5) <class 'pandas.core.series.Series'> (255,)\n",
      "<class 'pandas.core.frame.DataFrame'> (110, 5) <class 'pandas.core.series.Series'> (110,)\n"
     ]
    }
   ],
   "source": [
    "# 檢查 type of X 以及 Shape \n",
    "print(type(X_train), X_train.shape, type(y_train), y_train.shape)\n",
    "print(type(X_test), X_test.shape, type(y_test), y_test.shape)"
   ]
  },
  {
   "cell_type": "markdown",
   "id": "dda41117",
   "metadata": {},
   "source": [
    "### 2.以 scikit-learn 建立 Linear Regression 模型"
   ]
  },
  {
   "cell_type": "code",
   "execution_count": 66,
   "id": "33d94cd8",
   "metadata": {},
   "outputs": [
    {
     "data": {
      "text/plain": [
       "LinearRegression(copy_X=True, fit_intercept=True, n_jobs=None,\n",
       "         normalize=False)"
      ]
     },
     "execution_count": 66,
     "metadata": {},
     "output_type": "execute_result"
    }
   ],
   "source": [
    "# import model\n",
    "from sklearn.linear_model import LinearRegression\n",
    "\n",
    "# 建立 Linear Regression 物件\n",
    "beerReg = LinearRegression()\n",
    "\n",
    "# 將訓練資料 (X_train, y_train) 代入 linreg (Linear Regression)建立模型\n",
    "beerReg.fit(X_train, y_train)"
   ]
  },
  {
   "cell_type": "markdown",
   "id": "b25ac6a5",
   "metadata": {},
   "source": [
    "### 解釋模型的參數 (coefficients)"
   ]
  },
  {
   "cell_type": "code",
   "execution_count": 67,
   "id": "b0d612a7",
   "metadata": {},
   "outputs": [
    {
     "name": "stdout",
     "output_type": "stream",
     "text": [
      "6.30943431698746\n",
      "[ 0.14760251 -0.16374515  0.66788313 -0.06269611  5.08940743]\n"
     ]
    }
   ],
   "source": [
    "print(beerReg.intercept_)\n",
    "print(beerReg.coef_)"
   ]
  },
  {
   "cell_type": "code",
   "execution_count": 70,
   "id": "2a64143f",
   "metadata": {},
   "outputs": [
    {
     "name": "stdout",
     "output_type": "stream",
     "text": [
      "(AverageTemp, 0.14760250674450462)\n",
      "(MinimumTemp, -0.1637451521385344)\n",
      "(MaximumTemp, 0.6678831250606023)\n",
      "(Percipitation, -0.06269610531892811)\n",
      "(Weekend, 5.089407425067614)\n"
     ]
    }
   ],
   "source": [
    "for i, j in zip(['AverageTemp','MinimumTemp','MaximumTemp','Percipitation','Weekend'], beerReg.coef_):\n",
    "    print('({}, {})'.format(i, j))"
   ]
  },
  {
   "cell_type": "markdown",
   "id": "f28f3ce6",
   "metadata": {},
   "source": [
    "### 預測"
   ]
  },
  {
   "cell_type": "code",
   "execution_count": 87,
   "id": "add94d32",
   "metadata": {},
   "outputs": [],
   "source": [
    "y_pred = beerReg.predict(X_test)"
   ]
  },
  {
   "cell_type": "markdown",
   "id": "eddb91e9",
   "metadata": {},
   "source": [
    "- 上述 **AverageTemp**,**MinimumTemp**,**MaximumTemp**,**Percipitation**,**Weekend** 自變數，以及應變數 **BeerConsuption** 的多元線性迴歸式:\n",
    "### $$y = w_0 + w_1x_1 + w-2x_2 + w_3x_3+w_4x_4+w_5x_5$$\n",
    "可以改寫為:\n",
    "#### $$y = 6.309 + 0.148AverageTemp - 0.164MinimumTemp + 0.668MaximumTemp - 0.0627Percipitation + 5.089Weekend$$"
   ]
  },
  {
   "cell_type": "markdown",
   "id": "9014f699",
   "metadata": {},
   "source": [
    "- 以 **AverageTemp** 來說，在其它自變數不變動的情形下，每**增加一個\"單位\"的 AverageTemp**，會關聯到 **0.148 \"單位\"**的啤酒銷售量。\n",
    "- 例如，在其它自變數不變動的情形下，氣溫**增加 1 度的 AveraeTemp**， 會關聯到 **0.148**公升的啤酒銷售量。"
   ]
  },
  {
   "cell_type": "markdown",
   "id": "61075d30",
   "metadata": {},
   "source": [
    "- 以 **MinimunTemp** 來說，在其它自變數不變動的情形下，每**降低一個\"單位\"的 MinimunTemp**，會關聯到 **-0.164 \"單位\"**的啤酒銷售量。\n",
    "- 例如，在其它自變數不變動的情形下，最低溫度**下降 1 度的**， 會關聯到 **-0.164**公升的啤酒銷售量。"
   ]
  },
  {
   "cell_type": "markdown",
   "id": "c564f434",
   "metadata": {},
   "source": [
    "- 以 **MaximunTemp** 來說，在其它自變數不變動的情形下，每**增加一個\"單位\"的 MaximunTemp**，會關聯到 **0.668 \"單位\"**的啤酒銷售量。\n",
    "- 例如，在其它自變數不變動的情形下，最高溫度**增加 1 度的**， 會關聯到 **0.668**公升的啤酒銷售量。"
   ]
  },
  {
   "cell_type": "markdown",
   "id": "68a31fac",
   "metadata": {},
   "source": [
    "- 以 Weekend 來說，在其它自變數不變動的情形下，當遇到 **Weekends** 時，會關聯到 **5.089 \"公升\"**的啤酒銷售量。"
   ]
  },
  {
   "cell_type": "markdown",
   "id": "a7677e3b",
   "metadata": {},
   "source": [
    "### 檢視模型的有效性 - R2 (Coefficient of Determination, 決定係數 )\n",
    "- 1.使用 **reg.score()** 函式是 regression 物件\n",
    "- 2.使用 **sklearn.metrics** 的 **re_score()** 函式"
   ]
  },
  {
   "cell_type": "code",
   "execution_count": 84,
   "id": "eefc227a",
   "metadata": {},
   "outputs": [
    {
     "data": {
      "text/plain": [
       "0.6927384376227628"
      ]
     },
     "execution_count": 84,
     "metadata": {},
     "output_type": "execute_result"
    }
   ],
   "source": [
    "# 使用的 reg.score() 函式是 regression 物件\n",
    "beerReg.score(X_test, y_test) # R^2"
   ]
  },
  {
   "cell_type": "code",
   "execution_count": 88,
   "id": "432e95a0",
   "metadata": {},
   "outputs": [
    {
     "name": "stdout",
     "output_type": "stream",
     "text": [
      "r2_squared: 0.6927384376227628\n"
     ]
    }
   ],
   "source": [
    "# 使用的 r2_score() 函式是\n",
    "from sklearn.metrics import r2_score\n",
    "r2_squared = r2_score(y_test, y_pred) \n",
    "print('r2_squared:', r2_squared)"
   ]
  },
  {
   "cell_type": "markdown",
   "id": "c9cfcd06",
   "metadata": {},
   "source": [
    "#### 最後，如果有一天這間 bar 所在區域的平均氣溫是27.5度，最低溫是 22.3度，最高溫是36.5，沒有下雨，而且是星期假日，請問根據計算得知的回歸公式，預測今天的啤酒銷費量應該多少?"
   ]
  },
  {
   "cell_type": "code",
   "execution_count": 83,
   "id": "32485674",
   "metadata": {},
   "outputs": [
    {
     "data": {
      "text/plain": [
       "array([36.0203827])"
      ]
     },
     "execution_count": 83,
     "metadata": {},
     "output_type": "execute_result"
    }
   ],
   "source": [
    "dayBeer = np.array([[27.5, 23.3, 36.5, 0, 1]])\n",
    "beerReg.predict(dayBeer)"
   ]
  },
  {
   "cell_type": "markdown",
   "id": "cb2231d6",
   "metadata": {},
   "source": [
    "## 練習題三\n",
    "- 使用 sklearn 的 Boston House 資料集。\n",
    "- 請載入 `from sklearn.datasets import load_boston`，再執行 `load_boston()`函數，建立資料集物件變數, e.g., `boston_dataset=load_boston()`.\n",
    "- boston_dataset 物件有幾個屬性:\n",
    "    - data: 特徵值資料\n",
    "    - DESCR: 描述性敘述\n",
    "    - feature_names: 欄位名稱\n",
    "    - target: 目標值\n",
    "- 請將 data 當成 features 欄位；將 target 屬性當成目標。\n",
    "\n",
    "### 題目\n",
    "1. 請分割訓練和測試資料後執行Linear Regression，Ridge Regression，以及 Lasso Regression，檢驗訓練資料和測試資料的 $r^2$。\n",
    "2. 依據資料集的 feature_names 欄位名稱，只取 CRIM 此欄位大於等於 2 的資料當成 training data，其餘的資料當成 testing data。\n",
    "3. 請將 `NOX`, `INDUS`, `TAX`, `LSTAT` 欄位當 features，MEDV 是 target，將資料分成 60% traiing data, 40% testing data，請計算Linear Regression，Ridge Regression 的 $r^2$"
   ]
  },
  {
   "cell_type": "code",
   "execution_count": null,
   "id": "321f2de8",
   "metadata": {},
   "outputs": [],
   "source": []
  }
 ],
 "metadata": {
  "kernelspec": {
   "display_name": "Python 3",
   "language": "python",
   "name": "python3"
  },
  "language_info": {
   "codemirror_mode": {
    "name": "ipython",
    "version": 3
   },
   "file_extension": ".py",
   "mimetype": "text/x-python",
   "name": "python",
   "nbconvert_exporter": "python",
   "pygments_lexer": "ipython3",
   "version": "3.8.10"
  }
 },
 "nbformat": 4,
 "nbformat_minor": 5
}
