{
 "cells": [
  {
   "cell_type": "markdown",
   "metadata": {},
   "source": [
    "# 機器學習 - KNN近鄰演算法 (一)\n",
    "- 學期: 111 人工智慧 Summer Session 教材 (師培中心)\n",
    "- 杜主民"
   ]
  },
  {
   "cell_type": "markdown",
   "metadata": {},
   "source": [
    "## 最短距離分類器 - 教育部高中人工智慧書籍: [和 AI 做朋友 - 相知篇](https://market.cloud.edu.tw/resources/web/1798168), P.33\n",
    "- 兩群資料分散 N 維度座標 (在此以 2 維度為範例)，各有數量 4 筆和 6 筆。若有一筆新資料於坐標軸 (4, 2)，該筆資料與兩群資料的中心點何者較近?\n",
    "    - 計算兩群資料的中心點。\n",
    "    - 計算歐幾里得距離。"
   ]
  },
  {
   "cell_type": "markdown",
   "metadata": {},
   "source": [
    "<font color='red'>類別 | X | Y</font>\n",
    ":--: | :--: | :--:\n",
    "紅色 | 2 | 6\n",
    "紅色 | 3 | 4\n",
    "紅色 | 3 | 8\n",
    "紅色 | 4 | 7\n",
    "平均值 | 3 | 6.25"
   ]
  },
  {
   "cell_type": "markdown",
   "metadata": {},
   "source": [
    "<font color='green'>類別 | X | Y</font>\n",
    ":--: | :--: | :--:\n",
    "綠色 | 6 | 2\n",
    "綠色 | 6 | 3\n",
    "綠色 | 7 | 3\n",
    "綠色 | 7 | 4\n",
    "綠色 | 7 | 6\n",
    "綠色 | 8 | 5\n",
    "平均值 | 6.83 | 3.83"
   ]
  },
  {
   "cell_type": "code",
   "execution_count": 18,
   "metadata": {},
   "outputs": [
    {
     "data": {
      "text/plain": [
       "array([1, 2])"
      ]
     },
     "execution_count": 18,
     "metadata": {},
     "output_type": "execute_result"
    }
   ],
   "source": [
    "t1 = np.array([1])\n",
    "t2 = np.array([2])\n",
    "np.append(t1,[2])"
   ]
  },
  {
   "cell_type": "code",
   "execution_count": 2,
   "metadata": {},
   "outputs": [],
   "source": [
    "import numpy as np\n",
    "import matplotlib.pyplot as plt\n",
    "plt.rcParams['figure.figsize']=[7,5]"
   ]
  },
  {
   "cell_type": "code",
   "execution_count": 3,
   "metadata": {},
   "outputs": [],
   "source": [
    "red = np.array([[2,6],[3,4],[3,8],[4,7]])\n",
    "green = np.array([[6,2],[6,3],[7,3],[7,4],[7,6],[8,5]])"
   ]
  },
  {
   "cell_type": "markdown",
   "metadata": {},
   "source": [
    "### 計算紅色點的中心點"
   ]
  },
  {
   "cell_type": "code",
   "execution_count": 4,
   "metadata": {},
   "outputs": [
    {
     "name": "stdout",
     "output_type": "stream",
     "text": [
      "[3.   6.25]\n"
     ]
    }
   ],
   "source": [
    "x_redMean = np.array([k[0] for k in red]).mean()\n",
    "y_redMean = np.array([k[1] for k in red]).mean()\n",
    "red_Center=np.array([x_redMean, y_redMean])\n",
    "print(red_Center)"
   ]
  },
  {
   "cell_type": "markdown",
   "metadata": {},
   "source": [
    "### 計算綠色點的中心點"
   ]
  },
  {
   "cell_type": "code",
   "execution_count": 5,
   "metadata": {},
   "outputs": [
    {
     "name": "stdout",
     "output_type": "stream",
     "text": [
      "[6.83 3.83]\n"
     ]
    }
   ],
   "source": [
    "x_greenMean = np.round(np.array([k[0] for k in green]).mean(), 2) \n",
    "y_greenMean = np.round(np.array([k[1] for k in green]).mean(), 2)\n",
    "grn_Center  = np.array([x_greenMean, y_greenMean])\n",
    "print(grn_Center)"
   ]
  },
  {
   "cell_type": "markdown",
   "metadata": {},
   "source": [
    "### 繪圖"
   ]
  },
  {
   "cell_type": "code",
   "execution_count": 44,
   "metadata": {},
   "outputs": [
    {
     "data": {
      "image/png": "[encoded data removed]",
      "text/plain": [
       "<Figure size 504x360 with 1 Axes>"
      ]
     },
     "metadata": {
      "needs_background": "light"
     },
     "output_type": "display_data"
    }
   ],
   "source": [
    "plt.scatter([2,3,3,4],[6,4,8,7], c='r',s=100)          # 紅色的點\n",
    "plt.scatter(red_Center[0], red_Center[1], c='r',s=150,marker='*')  # 紅色的中心點\n",
    "\n",
    "plt.scatter([6,6,7,7,7,8],[2,3,3,4,6,5], c='g',s=100)  # 綠色的點\n",
    "plt.scatter(grn_Center[0],grn_Center[1], c='g',s=150,marker='*')   # 綠色的中心點\n",
    "\n",
    "plt.scatter(4,2, c='b',s=150) # 藍色的點\n",
    "\n",
    "plt.text(3, 6.5, [3, 6.25])\n",
    "plt.text(6.9, 3.5, [6.83, 3.83])\n",
    "plt.text(4.1, 2.1, [4, 2])\n",
    "plt.grid(True)"
   ]
  },
  {
   "cell_type": "markdown",
   "metadata": {},
   "source": [
    "### 在 2 維度的座標中，點  $a=(x_1, y_1)$ 和 點 $b=(x_2, y_2)$ 間歐幾里得距離:\n",
    "#### $\\|a - b\\| = \\sqrt{(x_1-x_2)^2+(y_1-y_2)^2}$"
   ]
  },
  {
   "cell_type": "markdown",
   "metadata": {},
   "source": [
    "### 在 N 維度的座標中，點 $a= (x_1, x_2, \\cdots\\, x_n)$ 和點 $b= (y_1, y_2, \\cdots, y_n)$ 間歐幾里得距離:\n",
    "### $\\|a - b\\| = \\sqrt{(x_1-y_1)^2+(x_2-y_2)^2+\\ldots+(x_n-y_n)^2}$\n",
    "### 其中 $a = (x_1, x_2, \\ldots, x_n)$與$b = (y_1, y_2, \\ldots, y_n)$分別表示在 n 維空間中的兩個座標點。"
   ]
  },
  {
   "cell_type": "markdown",
   "metadata": {},
   "source": [
    "藍色點座標 | 類別中心點座標 | 距離\n",
    ":--: | :--: | :--:\n",
    "(4,2) | <font color='red'>紅色 (3,6.25)</font> | $$ d = \\sqrt[]{(4-3)^2 + (2-6.25)^2} = 4.37 $$\n",
    "(4,2) | <font color='green'>綠色 (6.83,3.83)</font> |$$ d = \\sqrt[]{(4-6.83)^2 + (2-3.83)^2} = 3.37 $$"
   ]
  },
  {
   "cell_type": "markdown",
   "metadata": {},
   "source": [
    "### 計算歐幾里得距離"
   ]
  },
  {
   "cell_type": "code",
   "execution_count": 1,
   "metadata": {},
   "outputs": [],
   "source": [
    "import numpy as np"
   ]
  },
  {
   "cell_type": "code",
   "execution_count": 13,
   "metadata": {},
   "outputs": [
    {
     "name": "stdout",
     "output_type": "stream",
     "text": [
      "4 3\n",
      "2 6.25\n"
     ]
    }
   ],
   "source": [
    "zlist = zip([4,2],[3,6.25])\n",
    "for i, j in zlist:\n",
    "    print(i,j)"
   ]
  },
  {
   "cell_type": "code",
   "execution_count": 6,
   "metadata": {},
   "outputs": [],
   "source": [
    "# 定義一個歐幾里得函數，計算兩兩資料之間的距離\n",
    "def Euclidian(arX, arY):\n",
    "    sumup = 0\n",
    "    for x, y in zip(arX, arY):\n",
    "        sumup = sumup + (x - y)**2   # (x - y) 平方後相加\n",
    "    \n",
    "    distance = np.sqrt(sumup)      # 開根號\n",
    "    return distance"
   ]
  },
  {
   "cell_type": "code",
   "execution_count": 7,
   "metadata": {},
   "outputs": [
    {
     "name": "stdout",
     "output_type": "stream",
     "text": [
      "藍色點和紅色中心點距離:4.366062299143245\n",
      "藍色點和綠色中心點距離: 3.37013352851189\n"
     ]
    }
   ],
   "source": [
    "# 藍色點(4,2)和紅色中心點(red_Center)及綠色中心點(grn_Center)的距離\n",
    "blue_dot = np.array([4, 2])\n",
    "print(f'藍色點和紅色中心點距離:{Euclidian(blue_dot, red_Center)}')\n",
    "print(f'藍色點和綠色中心點距離: {Euclidian(blue_dot, grn_Center)}')"
   ]
  },
  {
   "cell_type": "code",
   "execution_count": 9,
   "metadata": {},
   "outputs": [
    {
     "name": "stdout",
     "output_type": "stream",
     "text": [
      "t1:4.37\n",
      "t2:3.37\n"
     ]
    }
   ],
   "source": [
    "# 測試 new_dot to red_dot 距離 \n",
    "#t1 = Euclidian(blue_dot, red_Center)\n",
    "#t2 = Euclidian(blue_dot, grn_Center)\n",
    "#print('t1:{:.2f}'.format(t1))\n",
    "#print('t2:{:.2f}'.format(t2))"
   ]
  },
  {
   "cell_type": "code",
   "execution_count": null,
   "metadata": {},
   "outputs": [],
   "source": []
  },
  {
   "cell_type": "markdown",
   "metadata": {},
   "source": [
    "## KNN 分類器 - 教育部高中人工智慧書籍: [和 AI 做朋友 - 相知篇](https://market.cloud.edu.tw/resources/web/1798168) (p.35)\n",
    "- 計算點 (5,5) 與 A_group 及 B_group 的各點之間的歐幾里得距離。\n",
    "- 當 k=1, k=5, k=9 情況時，綠色的 (5, 5) 是屬於哪一個類別?"
   ]
  },
  {
   "cell_type": "code",
   "execution_count": 15,
   "metadata": {},
   "outputs": [],
   "source": [
    "# 使用 Numpy 紀錄各點的位置\n",
    "A_group = np.array([[4, 6],[5,7],[5,8],[5.8,6],[6,6],[6,7],\\\n",
    "                    [7,5],[7,7],[8,4],[9,5]])\n",
    "\n",
    "# 使用 Numpy 紀錄各點的位置\n",
    "B_group = np.array([[2,2],[4,2],[4,4],[5,4],[5,3],[6,2]])"
   ]
  },
  {
   "cell_type": "markdown",
   "metadata": {},
   "source": [
    "### 分隔 A_group 和 B_group 的 x 和 y "
   ]
  },
  {
   "cell_type": "code",
   "execution_count": 16,
   "metadata": {},
   "outputs": [],
   "source": [
    "π = np.pi\n",
    "θ = np.linspace(0, 2*π, 200)\n",
    "\n",
    "AxList = [k[0] for k in A_group]  # A_group 的 x\n",
    "AyList = [k[1] for k in A_group]  # A_group 的 y\n",
    "BxList = [k[0] for k in B_group]  # B_group 的 x\n",
    "ByList = [k[1] for k in B_group]  # B_group 的 y"
   ]
  },
  {
   "cell_type": "markdown",
   "metadata": {},
   "source": [
    "### 繪圖"
   ]
  },
  {
   "cell_type": "code",
   "execution_count": 61,
   "metadata": {},
   "outputs": [
    {
     "data": {
      "text/plain": [
       "<matplotlib.legend.Legend at 0x1ea4afb1a00>"
      ]
     },
     "execution_count": 61,
     "metadata": {},
     "output_type": "execute_result"
    },
    {
     "data": {
      "image/png": "[encoded data removed]",
      "text/plain": [
       "<Figure size 720x504 with 1 Axes>"
      ]
     },
     "metadata": {
      "needs_background": "light"
     },
     "output_type": "display_data"
    }
   ],
   "source": [
    "import matplotlib.pyplot as plt\n",
    "plt.rcParams['figure.figsize']=[10,7]\n",
    "ax = plt.gca()\n",
    "ax.set_aspect('equal')\n",
    "    \n",
    "ax.scatter(AxList, AyList, c='r', label='red')\n",
    "ax.scatter(BxList, ByList, c='g', label='green')\n",
    "    \n",
    "plt.xlim(1, 9)\n",
    "plt.ylim(1, 9)\n",
    "ax.set_xlabel('X',fontsize=16)\n",
    "ax.set_ylabel('y',fontsize=16)\n",
    "\n",
    "plt.scatter(5, 5, c='b', s=60)\n",
    "circle1 = plt.Circle((5, 5), 1, color='gray', fill=False)\n",
    "circle2 = plt.Circle((5, 5), 1.5, color='gray', fill=False)\n",
    "circle3 = plt.Circle((5, 5), 2.2, color='gray', fill=False)\n",
    "ax.add_patch(circle1)\n",
    "ax.add_patch(circle2)\n",
    "ax.add_patch(circle3)\n",
    "plt.grid(True)\n",
    "plt.legend()"
   ]
  },
  {
   "cell_type": "code",
   "execution_count": 70,
   "metadata": {},
   "outputs": [],
   "source": [
    "# 定義一個歐幾里得函數，計算兩兩資料之間的距離\n",
    "def Euclidian(arX, arY):\n",
    "    sumup = 0\n",
    "    for x, y in zip(arX, arY):\n",
    "        sumup = sumup + (x - y)**2   # (x - y) 平方後相加\n",
    "    \n",
    "    distance = np.sqrt(sumup)      # 開根號\n",
    "    return distance"
   ]
  },
  {
   "cell_type": "markdown",
   "metadata": {},
   "source": [
    "### 計算藍色點(5,5) 和所有點的距離"
   ]
  },
  {
   "cell_type": "code",
   "execution_count": 68,
   "metadata": {},
   "outputs": [],
   "source": [
    "blue_dot = [5, 5]"
   ]
  },
  {
   "cell_type": "code",
   "execution_count": 76,
   "metadata": {},
   "outputs": [
    {
     "name": "stdout",
     "output_type": "stream",
     "text": [
      "[1.41, 2.0, 3.0, 1.28, 1.41, 2.24, 2.0, 2.83, 3.16, 4.0]\n",
      "[4.24, 3.16, 1.41, 1.0, 2.0, 3.16]\n"
     ]
    }
   ],
   "source": [
    "# 計算藍色點(5,5)和 A類別群組各點的距離\n",
    "A_group_list = [np.round(Euclidian(blue_dot, k),2) for k in A_group]\n",
    "# 計算藍色點(5,5)和 B類別群組各點的距離\n",
    "B_group_list = [np.round(Euclidian(blue_dot, k),2) for k in B_group]\n",
    "print(A_group_list)\n",
    "print(B_group_list)"
   ]
  },
  {
   "cell_type": "markdown",
   "metadata": {},
   "source": [
    "### 將距離排序"
   ]
  },
  {
   "cell_type": "code",
   "execution_count": 65,
   "metadata": {},
   "outputs": [
    {
     "name": "stdout",
     "output_type": "stream",
     "text": [
      "A 群 [1.28, 1.41, 1.41, 2.0, 2.0, 2.24, 2.83, 3.0, 3.16, 4.0]\n",
      "B 群 [1.0, 1.41, 2.0, 3.16, 3.16, 4.24]\n"
     ]
    }
   ],
   "source": [
    "A_group_dist.sort() # 排序 A group\n",
    "print('A 群', A_group_dist)\n",
    "\n",
    "B_group_dist.sort() # 排序 B group\n",
    "print('B 群', B_group_dist)"
   ]
  },
  {
   "cell_type": "markdown",
   "metadata": {},
   "source": [
    "#### 參考教育部高中教材「和AI做朋友-相知篇」Page35 頁範例比對結果: \n",
    "```python\n",
    "當 k=1, 比對最接近的 1 筆資料，new_dot[5, 5]該屬於 B_group。\n",
    "當 k=5, 比對最接近的 5 筆資料，new_dot[5, 5]該屬於 A_group。\n",
    "當 k=9，比對最接近的 9 筆資料，new_dot[5, 5]該屬於 A_group。\n",
    "```"
   ]
  },
  {
   "cell_type": "markdown",
   "metadata": {},
   "source": [
    "<hr style='border-color:brown; border-width:3px'>"
   ]
  },
  {
   "cell_type": "markdown",
   "metadata": {},
   "source": [
    "## KNN 案例一 (使用 sklearn 內建 iris 資料集)\n",
    "- 此範例不分隔訓練資料和測試資料\n",
    "- 選擇 k=1"
   ]
  },
  {
   "cell_type": "code",
   "execution_count": 50,
   "metadata": {},
   "outputs": [],
   "source": [
    "# 1) import 套件\n",
    "import pandas as pd\n",
    "import numpy as np\n",
    "import seaborn as sns\n",
    "import matplotlib.pyplot as plt"
   ]
  },
  {
   "cell_type": "code",
   "execution_count": 51,
   "metadata": {},
   "outputs": [],
   "source": [
    "# 2) 讀取資料集 (sklearn 內建之  iris)\n",
    "from sklearn.datasets import load_iris\n",
    "iris = load_iris()"
   ]
  },
  {
   "cell_type": "code",
   "execution_count": 52,
   "metadata": {},
   "outputs": [],
   "source": [
    "# 3) 選取 feature X 資料與 response Y 資料\n",
    "X = iris.data\n",
    "y = iris.target"
   ]
  },
  {
   "cell_type": "code",
   "execution_count": 53,
   "metadata": {},
   "outputs": [
    {
     "name": "stdout",
     "output_type": "stream",
     "text": [
      "2\n",
      "1\n"
     ]
    }
   ],
   "source": [
    "print(X.ndim)\n",
    "print(y.ndim)"
   ]
  },
  {
   "cell_type": "code",
   "execution_count": 63,
   "metadata": {},
   "outputs": [
    {
     "data": {
      "text/plain": [
       "KNeighborsClassifier(n_neighbors=1)"
      ]
     },
     "execution_count": 63,
     "metadata": {},
     "output_type": "execute_result"
    }
   ],
   "source": [
    "# 4) 代入資料建立 KNeighborsClassifier 模型\n",
    "from sklearn.neighbors import KNeighborsClassifier\n",
    "\n",
    "# 建立物件 knn 物件，指定 'neighbor' k 值為 1\n",
    "knn = KNeighborsClassifier(n_neighbors=1)\n",
    "\n",
    "# 代入訓練資料建立模型\n",
    "knn.fit(X, y)"
   ]
  },
  {
   "cell_type": "code",
   "execution_count": 64,
   "metadata": {},
   "outputs": [],
   "source": [
    "# 5) 測試訓練資料\n",
    "y_pred = knn.predict(X)"
   ]
  },
  {
   "cell_type": "markdown",
   "metadata": {},
   "source": [
    "### 使用 KNN 是**分類**的問題，和第 2 單元的迴歸問題不相同!\n",
    "- 迴歸的問題是要預測連續性的數值；而分類的問題是要預測歸屬類別。\n",
    "- 所以，模型評估指標的方法也不相同。在迴歸問題我們使用 MAE, MSE 或 RMSE 計算預測值和實際值的誤差。\n",
    "- 而分類的問題則是計算正確率。\n",
    "- 採此使用 sklearn.metrics 的 accuracy_score() 計算正確率。"
   ]
  },
  {
   "cell_type": "code",
   "execution_count": 65,
   "metadata": {},
   "outputs": [
    {
     "name": "stdout",
     "output_type": "stream",
     "text": [
      "預測的正確率:  1.0\n"
     ]
    }
   ],
   "source": [
    "from sklearn import metrics\n",
    "print('預測的正確率: ', metrics.accuracy_score(y, y_pred))"
   ]
  },
  {
   "cell_type": "markdown",
   "metadata": {},
   "source": [
    "#### 用訓練的資料去預測，且 k=1，預測的結果肯定是 100%。\n",
    "- 這是好的成果嗎? 事實上對尚未觀測到的新資料的預測效果應該不會很好!\n",
    "- 我們希望模型不只在訓練集上要表現良好，也必須能夠在先前未觀測到的新輸入上有良好表現。\n",
    "- 但是當機器學習的模型很仔細學習訓練數據的特質，建立一個複雜的學習模型，但在實際應用上卻無法反映真實的資料情境，此現象稱為「**過度擬合**」(Overfitting)。\n",
    "- 當選擇 k=1，也就是一筆資料就是一個分類，模型會嘗試去捕捉每一個點的正確分類，看起來對訓練資料的結果會是 100 % 正確分類，但是會造成過度複雜的模型，這樣的模型容易去符合訓練每一個資料的特徵，也就是吸收資料的雜訊 (Noise)，忽略資料的全體訊號 (Signal)，請參考下圖。\n",
    "- 忽略資料的全體訊號，當遇到未觀測到的新輸入時，常會無法反映真實的資料情境。\n",
    "- 所以，一個好的模型評估方法，除了要分隔訓練資料 (Training Data) 和測試資料 (Testing Data)之外，也要正確的選擇 k 值。"
   ]
  },
  {
   "cell_type": "markdown",
   "metadata": {},
   "source": [
    "![Overfitting](https://upload.wikimedia.org/wikipedia/commons/1/19/Overfitting.svg)"
   ]
  },
  {
   "cell_type": "markdown",
   "metadata": {},
   "source": [
    "### 測試"
   ]
  },
  {
   "cell_type": "code",
   "execution_count": 99,
   "metadata": {},
   "outputs": [
    {
     "data": {
      "text/plain": [
       "array([2])"
      ]
     },
     "execution_count": 99,
     "metadata": {},
     "output_type": "execute_result"
    }
   ],
   "source": [
    "knn.predict([[2.4,1.5,5.6,6.3]])"
   ]
  },
  {
   "cell_type": "markdown",
   "metadata": {},
   "source": [
    "<hr style='border-color:brown; border-width:3px'>"
   ]
  },
  {
   "cell_type": "markdown",
   "metadata": {},
   "source": [
    "## 練習題一: 前述 iris 採用 sklearn 的 neighbors 模組的 KNeighborsClassifier 方法建立 KNN 模型物件，K 值為 1。\n",
    "- 假若 k=2，預測的正確率多少? \n",
    "- 假若 k=1, 2, 3, … 30，哪一個 K 值的正確率最高? 請繪製折線圖顯示 K 值從 1-30 的變化。"
   ]
  },
  {
   "cell_type": "code",
   "execution_count": 66,
   "metadata": {},
   "outputs": [],
   "source": [
    "# Solution 1\n"
   ]
  },
  {
   "cell_type": "markdown",
   "metadata": {},
   "source": [
    "<hr style='border-color:brown; border-width:3px'>"
   ]
  },
  {
   "cell_type": "markdown",
   "metadata": {},
   "source": [
    "## 練習題二: 糖尿病案例 - 平均一天喝幾杯含糖飲料以上，未來易得糖尿病?"
   ]
  },
  {
   "cell_type": "markdown",
   "metadata": {},
   "source": [
    "- 欄位`Amount`代表一天喝的全糖飲料杯數，`Result`是 0 表示沒有糖尿病，1 表示罹患糖尿病。\n",
    "- 此資料集很小，且案例的 target 值是 1 或 2，看似連續型資料，但實則是質性類別資料。\n",
    "- 請預測一天喝幾杯全糖飲料容易得到糖尿病?\n",
    "- 資料網址: `https://bit.ly/3HRhN77`"
   ]
  },
  {
   "cell_type": "code",
   "execution_count": null,
   "metadata": {},
   "outputs": [],
   "source": [
    "# Solution 2\n"
   ]
  },
  {
   "cell_type": "markdown",
   "metadata": {},
   "source": [
    "<hr style='border-color:brown; border-width:3px'>"
   ]
  },
  {
   "cell_type": "markdown",
   "metadata": {},
   "source": [
    "## 練習題三: 人體皮膚資料集案例 - 預測皮膚癌\n",
    "- 史丹福大學發展的監督式機器學習<a href='https://news.stanford.edu/2017/01/25/artificial-intelligence-used-identify-skin-cancer/'>影像檢測皮膚癌</a>。\n",
    "- 皮膚癌在白種人的發生率高於黃種人數倍，一般人很容易將皮膚癌和身體的痣混淆。若罹患的是非致命性的基底皮膚癌，應該還不用太擔心，但若罹患的是致命性很高的黑色素皮膚癌，未能及早發現治療恐有致的危險。\n",
    "- 一般人難以輕易分辨痣/良性/惡性皮膚癌，史丹福大學的人工智慧團隊，以130,000張 labeled 皮膚癌照片，以機器學習的演算方法辨識皮膚癌，而且有著很高的辨識率。\n",
    "- 資料集共有 4 個欄位，前 3 個欄位是 features，分別是皮膚影像檢測的 R G B 數值；第四個欄位是 target，是檢測的結果，1 代表有異常情況，2 代表沒有。\n",
    "- 資料網址: https://bit.ly/3xNwrYs"
   ]
  },
  {
   "cell_type": "code",
   "execution_count": null,
   "metadata": {},
   "outputs": [],
   "source": [
    "# Solution 3\n"
   ]
  },
  {
   "cell_type": "markdown",
   "metadata": {},
   "source": [
    "<hr style='border-color:brown; border-width:3px'>"
   ]
  },
  {
   "cell_type": "markdown",
   "metadata": {},
   "source": [
    "## 練習題四 : 請將前述 iris 資料集分割為訓練資料和測試資料，請將 X_test 帶入KNN 模型<font color='brown'>預測 y_pred，從 k=1, 2, 3, … 30</font>，哪一個 K 值的正確率最高? 請繪製折線圖顯示 K 值從 1-30 的正確率。"
   ]
  },
  {
   "cell_type": "code",
   "execution_count": null,
   "metadata": {},
   "outputs": [],
   "source": [
    "# Solution 4\n"
   ]
  },
  {
   "cell_type": "markdown",
   "metadata": {},
   "source": [
    "<hr style='border-color:brown; border-width:3px'>"
   ]
  },
  {
   "cell_type": "markdown",
   "metadata": {},
   "source": [
    "## 練習題五: 請將前述皮膚癌的資料集分割為訓練資料和測試資料，請將 X_test 帶入KNN 模型預測 y_pred，從 k=1, 2, 3, … 15，哪一個 K 值的正確率最高? 請繪製折線圖顯示 K 值從 1-15 的變化。"
   ]
  },
  {
   "cell_type": "code",
   "execution_count": null,
   "metadata": {},
   "outputs": [],
   "source": [
    "# Solution 5\n"
   ]
  },
  {
   "cell_type": "markdown",
   "metadata": {},
   "source": [
    "<hr style='border-color:brown; border-width:3px'>"
   ]
  },
  {
   "attachments": {},
   "cell_type": "markdown",
   "metadata": {},
   "source": [
    "## 練習題六: 請讀取鐵達尼號資料集，網址 http://bit.ly/kaggletrain ，命名 titanic。\n",
    "- 從 titanic 選取Pclass和Sex欄位當成features，Survived 當成 target。\n",
    "- 將資料分割為訓練資料和測試資料。\n",
    "- 請以 KNN 預測 Survived，請問在 k=5 時正確率是多少?"
   ]
  },
  {
   "cell_type": "code",
   "execution_count": null,
   "metadata": {},
   "outputs": [],
   "source": [
    "# Solution 6\n"
   ]
  },
  {
   "cell_type": "code",
   "execution_count": null,
   "metadata": {},
   "outputs": [],
   "source": []
  },
  {
   "cell_type": "code",
   "execution_count": null,
   "metadata": {},
   "outputs": [],
   "source": []
  },
  {
   "cell_type": "code",
   "execution_count": null,
   "metadata": {},
   "outputs": [],
   "source": []
  }
 ],
 "metadata": {
  "kernelspec": {
   "display_name": "Python 3",
   "language": "python",
   "name": "python3"
  },
  "language_info": {
   "codemirror_mode": {
    "name": "ipython",
    "version": 3
   },
   "file_extension": ".py",
   "mimetype": "text/x-python",
   "name": "python",
   "nbconvert_exporter": "python",
   "pygments_lexer": "ipython3",
   "version": "3.8.10"
  }
 },
 "nbformat": 4,
 "nbformat_minor": 2
}
